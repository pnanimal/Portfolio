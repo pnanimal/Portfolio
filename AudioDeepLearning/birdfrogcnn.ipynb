{
 "cells": [
  {
   "cell_type": "code",
   "execution_count": 1,
   "metadata": {
    "_cell_guid": "b1076dfc-b9ad-4769-8c92-a6c4dae69d19",
    "_uuid": "8f2839f25d086af736a60e9eeb907d3b93b6e0e5",
    "execution": {
     "iopub.execute_input": "2021-02-05T22:50:24.310653Z",
     "iopub.status.busy": "2021-02-05T22:50:24.310125Z",
     "iopub.status.idle": "2021-02-05T22:50:30.963661Z",
     "shell.execute_reply": "2021-02-05T22:50:30.962437Z"
    },
    "papermill": {
     "duration": 6.666991,
     "end_time": "2021-02-05T22:50:30.963860",
     "exception": false,
     "start_time": "2021-02-05T22:50:24.296869",
     "status": "completed"
    },
    "tags": []
   },
   "outputs": [
    {
     "name": "stdout",
     "output_type": "stream",
     "text": [
      "/kaggle/input/birdfrog-eda/test_labels.pkl\n",
      "/kaggle/input/birdfrog-eda/train_features.pkl\n",
      "/kaggle/input/birdfrog-eda/filename-noise.wav\n",
      "/kaggle/input/birdfrog-eda/filename.wav\n",
      "/kaggle/input/birdfrog-eda/__results__.html\n",
      "/kaggle/input/birdfrog-eda/train_labels.pkl\n",
      "/kaggle/input/birdfrog-eda/test_features.pkl\n",
      "/kaggle/input/birdfrog-eda/train_noOS_labels.pkl\n",
      "/kaggle/input/birdfrog-eda/train_noOS_features.pkl\n",
      "/kaggle/input/birdfrog-eda/__notebook__.ipynb\n",
      "/kaggle/input/birdfrog-eda/__output__.json\n",
      "/kaggle/input/birdfrog-eda/custom.css\n",
      "/kaggle/input/birdfrog-eda/__results___files/__results___15_0.png\n",
      "/kaggle/input/birdfrog-eda/__results___files/__results___10_0.png\n",
      "/kaggle/input/birdfrog-eda/__results___files/__results___24_0.png\n",
      "/kaggle/input/birdfrog-eda/__results___files/__results___36_0.png\n",
      "/kaggle/input/birdfrog-eda/__results___files/__results___21_0.png\n",
      "/kaggle/input/birdfrog-eda/__results___files/__results___46_0.png\n",
      "/kaggle/input/birdfrog-eda/__results___files/__results___30_0.png\n",
      "/kaggle/input/birdfrog-eda/__results___files/__results___41_0.png\n",
      "/kaggle/input/birdfrog-eda/__results___files/__results___34_0.png\n",
      "/kaggle/input/birdfrog-eda/__results___files/__results___18_0.png\n",
      "/kaggle/input/birdfrog-eda/__results___files/__results___32_0.png\n",
      "/kaggle/input/birdfrog-eda/__results___files/__results___26_0.png\n",
      "/kaggle/input/birdfrog-eda/__results___files/__results___28_0.png\n"
     ]
    }
   ],
   "source": [
    "import numpy as np # linear algebra\n",
    "import pandas as pd # data processing, CSV file I/O (e.g. pd.read_csv)\n",
    "import os\n",
    "for dirname, _, filenames in os.walk('/kaggle/input'):\n",
    "    for filename in filenames:\n",
    "        print(os.path.join(dirname, filename))\n",
    "import pickle\n",
    "import joblib\n",
    "from sklearn.preprocessing import normalize\n",
    "from sklearn import preprocessing\n",
    "from sklearn.ensemble import RandomForestClassifier \n",
    "from sklearn.metrics import accuracy_score, confusion_matrix, classification_report\n",
    "from sklearn import preprocessing\n",
    "from sklearn.model_selection import train_test_split\n",
    "import tensorflow as tf\n",
    "import tensorflow_datasets as tfds\n",
    "from tensorflow.keras.layers import Dropout, Flatten, Dense, Input, Conv2D, MaxPooling2D\n",
    "from tensorflow.keras import models, layers, Model\n",
    "from tensorflow.keras.optimizers import Adam\n",
    "import matplotlib.pyplot as plt\n",
    "from tensorflow.keras.applications import vgg16"
   ]
  },
  {
   "cell_type": "code",
   "execution_count": 2,
   "metadata": {
    "execution": {
     "iopub.execute_input": "2021-02-05T22:50:30.981854Z",
     "iopub.status.busy": "2021-02-05T22:50:30.981290Z",
     "iopub.status.idle": "2021-02-05T22:51:04.248350Z",
     "shell.execute_reply": "2021-02-05T22:51:04.248837Z"
    },
    "papermill": {
     "duration": 33.277529,
     "end_time": "2021-02-05T22:51:04.249002",
     "exception": false,
     "start_time": "2021-02-05T22:50:30.971473",
     "status": "completed"
    },
    "tags": []
   },
   "outputs": [
    {
     "name": "stdout",
     "output_type": "stream",
     "text": [
      "(1226, 128, 1000, 3) (304, 128, 1000, 3)\n"
     ]
    }
   ],
   "source": [
    "X_train = joblib.load('/kaggle/input/birdfrog-eda/train_features.pkl')\n",
    "X_test = joblib.load('/kaggle/input/birdfrog-eda/test_features.pkl')\n",
    "print(X_train.shape,X_test.shape)"
   ]
  },
  {
   "cell_type": "code",
   "execution_count": 3,
   "metadata": {
    "execution": {
     "iopub.execute_input": "2021-02-05T22:51:04.266765Z",
     "iopub.status.busy": "2021-02-05T22:51:04.266218Z",
     "iopub.status.idle": "2021-02-05T22:51:05.638002Z",
     "shell.execute_reply": "2021-02-05T22:51:05.638387Z"
    },
    "papermill": {
     "duration": 1.382915,
     "end_time": "2021-02-05T22:51:05.638552",
     "exception": false,
     "start_time": "2021-02-05T22:51:04.255637",
     "status": "completed"
    },
    "tags": []
   },
   "outputs": [
    {
     "name": "stdout",
     "output_type": "stream",
     "text": [
      "(919, 128, 1000, 3) (919,) (304, 128, 1000, 3) (304,) (307, 128, 1000, 3) (307,)\n"
     ]
    }
   ],
   "source": [
    "y_train = np.array(joblib.load('/kaggle/input/birdfrog-eda/train_labels.pkl'))\n",
    "y_test = np.array(joblib.load('/kaggle/input/birdfrog-eda/test_labels.pkl'))\n",
    "X_train, X_val, y_train, y_val = train_test_split(X_train, y_train, test_size=0.25, random_state=123)\n",
    "print(X_train.shape, y_train.shape,X_test.shape, y_test.shape,X_val.shape, y_val.shape)"
   ]
  },
  {
   "cell_type": "markdown",
   "metadata": {
    "papermill": {
     "duration": 0.006774,
     "end_time": "2021-02-05T22:51:05.652709",
     "exception": false,
     "start_time": "2021-02-05T22:51:05.645935",
     "status": "completed"
    },
    "tags": []
   },
   "source": [
    "# Distribution of species after augmentation (limited by RAM)"
   ]
  },
  {
   "cell_type": "code",
   "execution_count": 4,
   "metadata": {
    "execution": {
     "iopub.execute_input": "2021-02-05T22:51:05.687030Z",
     "iopub.status.busy": "2021-02-05T22:51:05.671281Z",
     "iopub.status.idle": "2021-02-05T22:51:05.883415Z",
     "shell.execute_reply": "2021-02-05T22:51:05.882734Z"
    },
    "papermill": {
     "duration": 0.22401,
     "end_time": "2021-02-05T22:51:05.883539",
     "exception": false,
     "start_time": "2021-02-05T22:51:05.659529",
     "status": "completed"
    },
    "tags": []
   },
   "outputs": [
    {
     "data": {
      "image/png": "[encoded data removed]",
      "text/plain": [
       "<Figure size 1080x360 with 1 Axes>"
      ]
     },
     "metadata": {
      "needs_background": "light"
     },
     "output_type": "display_data"
    }
   ],
   "source": [
    "unique, counts = np.unique(np.concatenate((y_train,y_val)),return_counts=True)\n",
    "values=dict(zip(unique,counts))\n",
    "fig, ax = plt.subplots(figsize=(15,5))\n",
    "barlist=plt.bar(values.keys(),values.values(), label='Minority samples')\n",
    "plt.xlabel('Species ID', fontsize=17)\n",
    "plt.ylabel('Number of audio recordings', fontsize=17)\n",
    "plt.title('Number of Training Samples with augmentation', fontsize=20)\n",
    "plt.show()"
   ]
  },
  {
   "cell_type": "markdown",
   "metadata": {
    "papermill": {
     "duration": 0.007526,
     "end_time": "2021-02-05T22:51:05.899067",
     "exception": false,
     "start_time": "2021-02-05T22:51:05.891541",
     "status": "completed"
    },
    "tags": []
   },
   "source": [
    "# CNN Modeling"
   ]
  },
  {
   "cell_type": "code",
   "execution_count": 5,
   "metadata": {
    "execution": {
     "iopub.execute_input": "2021-02-05T22:51:05.922305Z",
     "iopub.status.busy": "2021-02-05T22:51:05.921809Z",
     "iopub.status.idle": "2021-02-05T22:51:08.951194Z",
     "shell.execute_reply": "2021-02-05T22:51:08.950172Z"
    },
    "papermill": {
     "duration": 3.044612,
     "end_time": "2021-02-05T22:51:08.951372",
     "exception": false,
     "start_time": "2021-02-05T22:51:05.906760",
     "status": "completed"
    },
    "tags": []
   },
   "outputs": [
    {
     "name": "stdout",
     "output_type": "stream",
     "text": [
      "Model: \"sequential\"\n",
      "_________________________________________________________________\n",
      "Layer (type)                 Output Shape              Param #   \n",
      "=================================================================\n",
      "conv2d (Conv2D)              (None, 126, 998, 32)      896       \n",
      "_________________________________________________________________\n",
      "max_pooling2d (MaxPooling2D) (None, 63, 499, 32)       0         \n",
      "_________________________________________________________________\n",
      "dropout (Dropout)            (None, 63, 499, 32)       0         \n",
      "_________________________________________________________________\n",
      "conv2d_1 (Conv2D)            (None, 61, 497, 64)       18496     \n",
      "_________________________________________________________________\n",
      "max_pooling2d_1 (MaxPooling2 (None, 30, 248, 64)       0         \n",
      "_________________________________________________________________\n",
      "dropout_1 (Dropout)          (None, 30, 248, 64)       0         \n",
      "_________________________________________________________________\n",
      "conv2d_2 (Conv2D)            (None, 28, 246, 64)       36928     \n",
      "_________________________________________________________________\n",
      "flatten (Flatten)            (None, 440832)            0         \n",
      "_________________________________________________________________\n",
      "dense (Dense)                (None, 64)                28213312  \n",
      "_________________________________________________________________\n",
      "dropout_2 (Dropout)          (None, 64)                0         \n",
      "_________________________________________________________________\n",
      "dense_1 (Dense)              (None, 32)                2080      \n",
      "_________________________________________________________________\n",
      "dense_2 (Dense)              (None, 24)                792       \n",
      "=================================================================\n",
      "Total params: 28,272,504\n",
      "Trainable params: 28,272,504\n",
      "Non-trainable params: 0\n",
      "_________________________________________________________________\n"
     ]
    }
   ],
   "source": [
    "input_shape=(128,1000,3)\n",
    "CNNmodel = models.Sequential()\n",
    "CNNmodel.add(layers.Conv2D(32, (3, 3), activation='relu', input_shape=input_shape))\n",
    "CNNmodel.add(layers.MaxPooling2D((2, 2)))\n",
    "CNNmodel.add(layers.Dropout(0.2))\n",
    "CNNmodel.add(layers.Conv2D(64, (3, 3), activation='relu'))\n",
    "CNNmodel.add(layers.MaxPooling2D((2, 2)))\n",
    "CNNmodel.add(layers.Dropout(0.2))\n",
    "CNNmodel.add(layers.Conv2D(64, (3, 3), activation='relu'))\n",
    "CNNmodel.add(layers.Flatten())\n",
    "CNNmodel.add(layers.Dense(64, activation='relu'))\n",
    "CNNmodel.add(layers.Dropout(0.2))\n",
    "CNNmodel.add(layers.Dense(32, activation='relu'))\n",
    "CNNmodel.add(layers.Dense(24, activation='softmax'))\n",
    "CNNmodel.summary()"
   ]
  },
  {
   "cell_type": "code",
   "execution_count": 6,
   "metadata": {
    "execution": {
     "iopub.execute_input": "2021-02-05T22:51:08.979138Z",
     "iopub.status.busy": "2021-02-05T22:51:08.973800Z",
     "iopub.status.idle": "2021-02-05T22:52:12.622754Z",
     "shell.execute_reply": "2021-02-05T22:52:12.622279Z"
    },
    "papermill": {
     "duration": 63.662413,
     "end_time": "2021-02-05T22:52:12.622888",
     "exception": false,
     "start_time": "2021-02-05T22:51:08.960475",
     "status": "completed"
    },
    "tags": []
   },
   "outputs": [
    {
     "name": "stdout",
     "output_type": "stream",
     "text": [
      "Epoch 1/20\n",
      "29/29 [==============================] - 8s 147ms/step - loss: 10.3036 - accuracy: 0.1275 - val_loss: 1.7395 - val_accuracy: 0.5570\n",
      "Epoch 2/20\n",
      "29/29 [==============================] - 3s 95ms/step - loss: 1.5394 - accuracy: 0.5962 - val_loss: 0.9814 - val_accuracy: 0.8306\n",
      "Epoch 3/20\n",
      "29/29 [==============================] - 3s 100ms/step - loss: 0.9738 - accuracy: 0.7398 - val_loss: 0.8063 - val_accuracy: 0.8404\n",
      "Epoch 4/20\n",
      "29/29 [==============================] - 3s 105ms/step - loss: 0.6533 - accuracy: 0.8216 - val_loss: 0.6913 - val_accuracy: 0.8534\n",
      "Epoch 5/20\n",
      "29/29 [==============================] - 3s 98ms/step - loss: 0.6278 - accuracy: 0.8250 - val_loss: 0.6587 - val_accuracy: 0.8697\n",
      "Epoch 6/20\n",
      "29/29 [==============================] - 3s 92ms/step - loss: 0.4711 - accuracy: 0.8479 - val_loss: 0.5572 - val_accuracy: 0.8730\n",
      "Epoch 7/20\n",
      "29/29 [==============================] - 3s 98ms/step - loss: 0.4654 - accuracy: 0.8751 - val_loss: 0.5014 - val_accuracy: 0.8762\n",
      "Epoch 8/20\n",
      "29/29 [==============================] - 3s 94ms/step - loss: 0.4254 - accuracy: 0.8550 - val_loss: 0.4252 - val_accuracy: 0.8893\n",
      "Epoch 9/20\n",
      "29/29 [==============================] - 3s 98ms/step - loss: 0.3562 - accuracy: 0.8909 - val_loss: 0.4534 - val_accuracy: 0.8990\n",
      "Epoch 10/20\n",
      "29/29 [==============================] - 3s 96ms/step - loss: 0.3340 - accuracy: 0.9053 - val_loss: 0.4208 - val_accuracy: 0.9121\n",
      "Epoch 11/20\n",
      "29/29 [==============================] - 3s 99ms/step - loss: 0.3332 - accuracy: 0.8904 - val_loss: 0.4016 - val_accuracy: 0.9186\n",
      "Epoch 12/20\n",
      "29/29 [==============================] - 3s 96ms/step - loss: 0.2561 - accuracy: 0.8988 - val_loss: 0.3718 - val_accuracy: 0.9349\n",
      "Epoch 13/20\n",
      "29/29 [==============================] - 3s 96ms/step - loss: 0.2412 - accuracy: 0.9242 - val_loss: 0.4037 - val_accuracy: 0.9349\n",
      "Epoch 14/20\n",
      "29/29 [==============================] - 3s 97ms/step - loss: 0.2197 - accuracy: 0.9265 - val_loss: 0.4420 - val_accuracy: 0.9088\n",
      "Epoch 15/20\n",
      "29/29 [==============================] - 3s 100ms/step - loss: 0.1801 - accuracy: 0.9264 - val_loss: 0.4257 - val_accuracy: 0.9316\n",
      "Epoch 16/20\n",
      "29/29 [==============================] - 3s 107ms/step - loss: 0.2043 - accuracy: 0.9318 - val_loss: 0.4212 - val_accuracy: 0.9283\n",
      "Epoch 17/20\n",
      "29/29 [==============================] - 3s 97ms/step - loss: 0.1689 - accuracy: 0.9413 - val_loss: 0.4031 - val_accuracy: 0.9218\n",
      "Epoch 18/20\n",
      "29/29 [==============================] - 3s 96ms/step - loss: 0.1541 - accuracy: 0.9337 - val_loss: 0.4381 - val_accuracy: 0.9153\n",
      "Epoch 19/20\n",
      "29/29 [==============================] - 3s 102ms/step - loss: 0.1795 - accuracy: 0.9309 - val_loss: 0.4280 - val_accuracy: 0.9381\n",
      "Epoch 20/20\n",
      "29/29 [==============================] - 3s 93ms/step - loss: 0.1374 - accuracy: 0.9581 - val_loss: 0.4315 - val_accuracy: 0.9316\n"
     ]
    }
   ],
   "source": [
    "CNNmodel.compile(optimizer='adam',\n",
    "              loss=tf.keras.losses.SparseCategoricalCrossentropy(from_logits=False),\n",
    "              metrics=['accuracy'])\n",
    "\n",
    "history = CNNmodel.fit(X_train, y_train, epochs=20, \n",
    "                    validation_data=(X_val, y_val))"
   ]
  },
  {
   "cell_type": "code",
   "execution_count": 7,
   "metadata": {
    "execution": {
     "iopub.execute_input": "2021-02-05T22:52:12.952750Z",
     "iopub.status.busy": "2021-02-05T22:52:12.951773Z",
     "iopub.status.idle": "2021-02-05T22:52:18.331138Z",
     "shell.execute_reply": "2021-02-05T22:52:18.331540Z"
    },
    "papermill": {
     "duration": 5.549268,
     "end_time": "2021-02-05T22:52:18.331716",
     "exception": false,
     "start_time": "2021-02-05T22:52:12.782448",
     "status": "completed"
    },
    "tags": []
   },
   "outputs": [
    {
     "name": "stdout",
     "output_type": "stream",
     "text": [
      "29/29 [==============================] - 1s 40ms/step - loss: 0.0790 - accuracy: 0.9695\n",
      "10/10 [==============================] - 0s 45ms/step - loss: 0.1485 - accuracy: 0.9704\n",
      "TrainLoss: 0.079032, Train accuracy 0.969532, TestLoss: 0.148479, Test Accuracy: 0.970395 \n",
      "Confusion_matrix:  tf.Tensor(\n",
      "[[12  0  0  0  0  0  0  0  0  0  0  0  0  0  0  0  0  0  0  0  0  0  0  0]\n",
      " [ 0 13  0  0  0  0  0  0  0  0  0  0  0  0  0  0  0  0  0  0  0  0  0  0]\n",
      " [ 0  0  9  0  0  0  0  0  0  0  0  0  0  0  0  0  0  0  0  0  0  0  0  0]\n",
      " [ 0  0  0 13  0  0  0  0  0  0  0  0  0  0  0  0  0  0  0  0  0  0  0  0]\n",
      " [ 0  0  0  0 13  0  0  0  0  0  0  0  0  0  0  0  0  0  0  0  0  0  0  0]\n",
      " [ 0  0  0  0  0 11  0  1  0  0  0  0  0  0  0  0  0  0  0  0  0  0  0  0]\n",
      " [ 0  0  0  0  0  0 12  0  0  0  0  0  0  0  0  0  0  0  0  0  0  0  0  0]\n",
      " [ 0  0  0  0  0  0  0 13  0  0  0  0  0  0  0  0  0  0  0  0  0  0  0  0]\n",
      " [ 0  0  0  0  0  0  0  0 12  0  0  0  0  0  0  0  0  0  0  0  0  0  0  0]\n",
      " [ 0  0  1  0  0  0  0  0  0  7  0  0  0  0  0  0  0  0  0  0  0  0  0  0]\n",
      " [ 0  0  0  0  0  0  0  0  0  0 13  0  0  0  0  0  0  0  0  0  0  0  0  0]\n",
      " [ 0  0  0  0  0  0  0  0  0  0  0 13  0  0  0  0  0  0  0  0  0  0  0  0]\n",
      " [ 0  0  0  0  0  0  0  6  0  0  0  0  6  0  0  0  0  0  0  0  0  0  0  0]\n",
      " [ 0  0  0  0  0  0  0  0  0  1  0  0  0 12  0  0  0  0  0  0  0  0  0  0]\n",
      " [ 0  0  0  0  0  0  0  0  0  0  0  0  0  0 13  0  0  0  0  0  0  0  0  0]\n",
      " [ 0  0  0  0  0  0  0  0  0  0  0  0  0  0  0 12  0  0  0  0  0  0  0  0]\n",
      " [ 0  0  0  0  0  0  0  0  0  0  0  0  0  0  0  0 12  0  0  0  0  0  0  0]\n",
      " [ 0  0  0  0  0  0  0  0  0  0  0  0  0  0  0  0  0 17  0  0  0  0  0  0]\n",
      " [ 0  0  0  0  0  0  0  0  0  0  0  0  0  0  0  0  0  0 13  0  0  0  0  0]\n",
      " [ 0  0  0  0  0  0  0  0  0  0  0  0  0  0  0  0  0  0  0 11  0  0  0  0]\n",
      " [ 0  0  0  0  0  0  0  0  0  0  0  0  0  0  0  0  0  0  0  0 10  0  0  0]\n",
      " [ 0  0  0  0  0  0  0  0  0  0  0  0  0  0  0  0  0  0  0  0  0 12  0  0]\n",
      " [ 0  0  0  0  0  0  0  0  0  0  0  0  0  0  0  0  0  0  0  0  0  0 11  0]\n",
      " [ 0  0  0  0  0  0  0  0  0  0  0  0  0  0  0  0  0  0  0  0  0  0  0 25]], shape=(24, 24), dtype=int32)\n"
     ]
    }
   ],
   "source": [
    "TrainLoss, Trainacc = CNNmodel.evaluate(X_train,y_train)\n",
    "TestLoss, Testacc = CNNmodel.evaluate(X_test, y_test)\n",
    "y_pred=CNNmodel.predict(X_test)\n",
    "print('TrainLoss: %f, Train accuracy %f, TestLoss: %f, Test Accuracy: %f ' %(TrainLoss,Trainacc,TestLoss,Testacc))\n",
    "print('Confusion_matrix: ',tf.math.confusion_matrix(y_test, np.argmax(y_pred,axis=1)))"
   ]
  },
  {
   "cell_type": "markdown",
   "metadata": {
    "papermill": {
     "duration": 0.207677,
     "end_time": "2021-02-05T22:52:18.703877",
     "exception": false,
     "start_time": "2021-02-05T22:52:18.496200",
     "status": "completed"
    },
    "tags": []
   },
   "source": [
    "# Performance is similar between training and validation sets"
   ]
  },
  {
   "cell_type": "code",
   "execution_count": 8,
   "metadata": {
    "execution": {
     "iopub.execute_input": "2021-02-05T22:52:19.268500Z",
     "iopub.status.busy": "2021-02-05T22:52:19.267587Z",
     "iopub.status.idle": "2021-02-05T22:52:19.575976Z",
     "shell.execute_reply": "2021-02-05T22:52:19.576382Z"
    },
    "papermill": {
     "duration": 0.596949,
     "end_time": "2021-02-05T22:52:19.576525",
     "exception": false,
     "start_time": "2021-02-05T22:52:18.979576",
     "status": "completed"
    },
    "tags": []
   },
   "outputs": [
    {
     "data": {
      "image/png": "[encoded data removed]",
      "text/plain": [
       "<Figure size 1080x360 with 2 Axes>"
      ]
     },
     "metadata": {
      "needs_background": "light"
     },
     "output_type": "display_data"
    }
   ],
   "source": [
    "history_dict=history.history\n",
    "loss_values=history_dict['loss']\n",
    "acc_values=history_dict['accuracy']\n",
    "val_loss_values = history_dict['val_loss']\n",
    "val_acc_values=history_dict['val_accuracy']\n",
    "epochs=range(1,21)\n",
    "fig,(ax1,ax2)=plt.subplots(1,2,figsize=(15,5))\n",
    "ax1.plot(epochs,loss_values,'bo',label='Training Loss')\n",
    "ax1.plot(epochs,val_loss_values,'orange', label='Validation Loss')\n",
    "ax1.set_title('Training and validation loss')\n",
    "ax1.set_xlabel('Epochs')\n",
    "ax1.set_ylabel('Loss')\n",
    "ax1.legend()\n",
    "ax2.plot(epochs,acc_values,'bo', label='Training accuracy')\n",
    "ax2.plot(epochs,val_acc_values,'orange',label='Validation accuracy')\n",
    "ax2.set_title('Training and validation accuracy')\n",
    "ax2.set_xlabel('Epochs')\n",
    "ax2.set_ylabel('Accuracy')\n",
    "ax2.legend()\n",
    "plt.show()"
   ]
  }
 ],
 "metadata": {
  "kernelspec": {
   "display_name": "Python 3",
   "language": "python",
   "name": "python3"
  },
  "language_info": {
   "codemirror_mode": {
    "name": "ipython",
    "version": 3
   },
   "file_extension": ".py",
   "mimetype": "text/x-python",
   "name": "python",
   "nbconvert_exporter": "python",
   "pygments_lexer": "ipython3",
   "version": "3.7.9"
  },
  "papermill": {
   "default_parameters": {},
   "duration": 123.730913,
   "end_time": "2021-02-05T22:52:22.980168",
   "environment_variables": {},
   "exception": null,
   "input_path": "__notebook__.ipynb",
   "output_path": "__notebook__.ipynb",
   "parameters": {},
   "start_time": "2021-02-05T22:50:19.249255",
   "version": "2.2.2"
  }
 },
 "nbformat": 4,
 "nbformat_minor": 4
}
