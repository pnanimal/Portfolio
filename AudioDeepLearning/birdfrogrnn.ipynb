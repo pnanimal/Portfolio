{
 "cells": [
  {
   "cell_type": "code",
   "execution_count": 1,
   "metadata": {
    "_cell_guid": "b1076dfc-b9ad-4769-8c92-a6c4dae69d19",
    "_uuid": "8f2839f25d086af736a60e9eeb907d3b93b6e0e5",
    "execution": {
     "iopub.execute_input": "2021-02-09T17:41:08.815385Z",
     "iopub.status.busy": "2021-02-09T17:41:08.814872Z",
     "iopub.status.idle": "2021-02-09T17:41:15.149102Z",
     "shell.execute_reply": "2021-02-09T17:41:15.147996Z"
    },
    "papermill": {
     "duration": 6.34855,
     "end_time": "2021-02-09T17:41:15.149304",
     "exception": false,
     "start_time": "2021-02-09T17:41:08.800754",
     "status": "completed"
    },
    "tags": []
   },
   "outputs": [
    {
     "name": "stdout",
     "output_type": "stream",
     "text": [
      "/kaggle/input/birdfrog-eda/test_labels.pkl\n",
      "/kaggle/input/birdfrog-eda/train_features.pkl\n",
      "/kaggle/input/birdfrog-eda/filename-noise.wav\n",
      "/kaggle/input/birdfrog-eda/filename.wav\n",
      "/kaggle/input/birdfrog-eda/__results__.html\n",
      "/kaggle/input/birdfrog-eda/train_labels.pkl\n",
      "/kaggle/input/birdfrog-eda/test_features.pkl\n",
      "/kaggle/input/birdfrog-eda/train_noOS_labels.pkl\n",
      "/kaggle/input/birdfrog-eda/train_noOS_features.pkl\n",
      "/kaggle/input/birdfrog-eda/__notebook__.ipynb\n",
      "/kaggle/input/birdfrog-eda/__output__.json\n",
      "/kaggle/input/birdfrog-eda/custom.css\n",
      "/kaggle/input/birdfrog-eda/__results___files/__results___15_0.png\n",
      "/kaggle/input/birdfrog-eda/__results___files/__results___25_0.png\n",
      "/kaggle/input/birdfrog-eda/__results___files/__results___10_0.png\n",
      "/kaggle/input/birdfrog-eda/__results___files/__results___19_0.png\n",
      "/kaggle/input/birdfrog-eda/__results___files/__results___31_0.png\n",
      "/kaggle/input/birdfrog-eda/__results___files/__results___27_0.png\n",
      "/kaggle/input/birdfrog-eda/__results___files/__results___21_0.png\n",
      "/kaggle/input/birdfrog-eda/__results___files/__results___43_0.png\n",
      "/kaggle/input/birdfrog-eda/__results___files/__results___33_0.png\n",
      "/kaggle/input/birdfrog-eda/__results___files/__results___17_0.png\n",
      "/kaggle/input/birdfrog-eda/__results___files/__results___29_0.png\n",
      "/kaggle/input/birdfrog-eda/__results___files/__results___23_0.png\n",
      "/kaggle/input/birdfrog-eda/__results___files/__results___38_0.png\n"
     ]
    }
   ],
   "source": [
    "import numpy as np # linear algebra\n",
    "import pandas as pd # data processing, CSV file I/O (e.g. pd.read_csv)\n",
    "import os\n",
    "for dirname, _, filenames in os.walk('/kaggle/input'):\n",
    "    for filename in filenames:\n",
    "        print(os.path.join(dirname, filename))\n",
    "import pickle\n",
    "import joblib\n",
    "from sklearn.preprocessing import normalize\n",
    "from sklearn import preprocessing\n",
    "from sklearn.ensemble import RandomForestClassifier \n",
    "from sklearn.metrics import accuracy_score, confusion_matrix, classification_report\n",
    "from sklearn import preprocessing\n",
    "from sklearn.model_selection import train_test_split\n",
    "import tensorflow as tf\n",
    "from tensorflow import keras\n",
    "import tensorflow_datasets as tfds\n",
    "from tensorflow.keras.layers import Dropout, Flatten, Dense, Input, LSTM\n",
    "from tensorflow.keras import models, layers, Model\n",
    "from tensorflow.keras.optimizers import Adam\n",
    "import matplotlib.pyplot as plt"
   ]
  },
  {
   "cell_type": "code",
   "execution_count": 2,
   "metadata": {
    "execution": {
     "iopub.execute_input": "2021-02-09T17:41:15.166843Z",
     "iopub.status.busy": "2021-02-09T17:41:15.166276Z",
     "iopub.status.idle": "2021-02-09T17:41:55.637873Z",
     "shell.execute_reply": "2021-02-09T17:41:55.638443Z"
    },
    "papermill": {
     "duration": 40.481962,
     "end_time": "2021-02-09T17:41:55.638661",
     "exception": false,
     "start_time": "2021-02-09T17:41:15.156699",
     "status": "completed"
    },
    "tags": []
   },
   "outputs": [
    {
     "name": "stdout",
     "output_type": "stream",
     "text": [
      "(1226, 128, 1000, 3) (304, 128, 1000, 3)\n"
     ]
    }
   ],
   "source": [
    "X_train = joblib.load('/kaggle/input/birdfrog-eda/train_features.pkl')\n",
    "X_test = joblib.load('/kaggle/input/birdfrog-eda/test_features.pkl')\n",
    "print(X_train.shape,X_test.shape)"
   ]
  },
  {
   "cell_type": "code",
   "execution_count": 3,
   "metadata": {
    "execution": {
     "iopub.execute_input": "2021-02-09T17:41:55.658021Z",
     "iopub.status.busy": "2021-02-09T17:41:55.657389Z",
     "iopub.status.idle": "2021-02-09T17:41:57.048669Z",
     "shell.execute_reply": "2021-02-09T17:41:57.048147Z"
    },
    "papermill": {
     "duration": 1.402228,
     "end_time": "2021-02-09T17:41:57.048795",
     "exception": false,
     "start_time": "2021-02-09T17:41:55.646567",
     "status": "completed"
    },
    "tags": []
   },
   "outputs": [
    {
     "name": "stdout",
     "output_type": "stream",
     "text": [
      "(919, 128, 1000, 3) (919,) (304, 128, 1000, 3) (304,) (307, 128, 1000, 3) (307,)\n"
     ]
    }
   ],
   "source": [
    "y_train = np.array(joblib.load('/kaggle/input/birdfrog-eda/train_labels.pkl'))\n",
    "y_test = np.array(joblib.load('/kaggle/input/birdfrog-eda/test_labels.pkl'))\n",
    "X_train, X_val, y_train, y_val = train_test_split(X_train, y_train, test_size=0.25, random_state=123)\n",
    "print(X_train.shape, y_train.shape,X_test.shape, y_test.shape,X_val.shape, y_val.shape)"
   ]
  },
  {
   "cell_type": "code",
   "execution_count": 4,
   "metadata": {
    "execution": {
     "iopub.execute_input": "2021-02-09T17:41:57.068701Z",
     "iopub.status.busy": "2021-02-09T17:41:57.068189Z",
     "iopub.status.idle": "2021-02-09T17:41:57.280372Z",
     "shell.execute_reply": "2021-02-09T17:41:57.279887Z"
    },
    "papermill": {
     "duration": 0.224163,
     "end_time": "2021-02-09T17:41:57.280499",
     "exception": false,
     "start_time": "2021-02-09T17:41:57.056336",
     "status": "completed"
    },
    "tags": []
   },
   "outputs": [
    {
     "data": {
      "image/png": "[encoded data removed]",
      "text/plain": [
       "<Figure size 1080x360 with 1 Axes>"
      ]
     },
     "metadata": {
      "needs_background": "light"
     },
     "output_type": "display_data"
    }
   ],
   "source": [
    "unique, counts = np.unique(np.concatenate((y_train,y_val)),return_counts=True)\n",
    "values=dict(zip(unique,counts))\n",
    "fig, ax = plt.subplots(figsize=(15,5))\n",
    "barlist=plt.bar(values.keys(),values.values(), label='Minority samples')\n",
    "plt.xlabel('Species ID', fontsize=17)\n",
    "plt.ylabel('Number of audio recordings', fontsize=17)\n",
    "plt.title('Number of Training Samples with augmentation', fontsize=20)\n",
    "plt.show()"
   ]
  },
  {
   "cell_type": "markdown",
   "metadata": {
    "papermill": {
     "duration": 0.007754,
     "end_time": "2021-02-09T17:41:57.296138",
     "exception": false,
     "start_time": "2021-02-09T17:41:57.288384",
     "status": "completed"
    },
    "tags": []
   },
   "source": [
    "# RNN Modeling"
   ]
  },
  {
   "cell_type": "markdown",
   "metadata": {
    "papermill": {
     "duration": 0.007585,
     "end_time": "2021-02-09T17:41:57.311536",
     "exception": false,
     "start_time": "2021-02-09T17:41:57.303951",
     "status": "completed"
    },
    "tags": []
   },
   "source": [
    "## RNN does not seem to be able to mix types of data (1D spectral bandwidth with 2D spectrogram or 2D MFCC's for example). The best results are obtained from using only one type of data, the MFCC's."
   ]
  },
  {
   "cell_type": "code",
   "execution_count": 5,
   "metadata": {
    "execution": {
     "iopub.execute_input": "2021-02-09T17:41:57.333689Z",
     "iopub.status.busy": "2021-02-09T17:41:57.333118Z",
     "iopub.status.idle": "2021-02-09T17:42:00.563475Z",
     "shell.execute_reply": "2021-02-09T17:42:00.562261Z"
    },
    "papermill": {
     "duration": 3.24431,
     "end_time": "2021-02-09T17:42:00.563645",
     "exception": false,
     "start_time": "2021-02-09T17:41:57.319335",
     "status": "completed"
    },
    "tags": []
   },
   "outputs": [
    {
     "name": "stdout",
     "output_type": "stream",
     "text": [
      "Model: \"sequential\"\n",
      "_________________________________________________________________\n",
      "Layer (type)                 Output Shape              Param #   \n",
      "=================================================================\n",
      "lstm (LSTM)                  (None, 250)               1251000   \n",
      "_________________________________________________________________\n",
      "dropout (Dropout)            (None, 250)               0         \n",
      "_________________________________________________________________\n",
      "dense (Dense)                (None, 128)               32128     \n",
      "_________________________________________________________________\n",
      "dropout_1 (Dropout)          (None, 128)               0         \n",
      "_________________________________________________________________\n",
      "dense_1 (Dense)              (None, 128)               16512     \n",
      "_________________________________________________________________\n",
      "dense_2 (Dense)              (None, 64)                8256      \n",
      "_________________________________________________________________\n",
      "dropout_2 (Dropout)          (None, 64)                0         \n",
      "_________________________________________________________________\n",
      "dense_3 (Dense)              (None, 48)                3120      \n",
      "_________________________________________________________________\n",
      "dropout_3 (Dropout)          (None, 48)                0         \n",
      "_________________________________________________________________\n",
      "dense_4 (Dense)              (None, 24)                1176      \n",
      "=================================================================\n",
      "Total params: 1,312,192\n",
      "Trainable params: 1,312,192\n",
      "Non-trainable params: 0\n",
      "_________________________________________________________________\n"
     ]
    }
   ],
   "source": [
    "input_shape=(128,1000)\n",
    "model = keras.Sequential()\n",
    "model.add(LSTM(250,input_shape=input_shape))\n",
    "model.add(Dropout(0.2))\n",
    "model.add(Dense(128, activation='relu'))\n",
    "model.add(Dropout(0.3))\n",
    "model.add(Dense(128, activation='relu'))\n",
    "model.add(Dense(64, activation='relu'))\n",
    "model.add(Dropout(0.3))\n",
    "model.add(Dense(48, activation='relu'))\n",
    "model.add(Dropout(0.3))\n",
    "model.add(Dense(24, activation='softmax'))\n",
    "model.summary()"
   ]
  },
  {
   "cell_type": "code",
   "execution_count": 6,
   "metadata": {
    "execution": {
     "iopub.execute_input": "2021-02-09T17:42:00.593556Z",
     "iopub.status.busy": "2021-02-09T17:42:00.590776Z",
     "iopub.status.idle": "2021-02-09T17:42:32.573069Z",
     "shell.execute_reply": "2021-02-09T17:42:32.571835Z"
    },
    "papermill": {
     "duration": 32.000764,
     "end_time": "2021-02-09T17:42:32.573200",
     "exception": false,
     "start_time": "2021-02-09T17:42:00.572436",
     "status": "completed"
    },
    "tags": []
   },
   "outputs": [
    {
     "name": "stdout",
     "output_type": "stream",
     "text": [
      "Epoch 1/40\n",
      "13/13 - 5s - loss: 3.1354 - acc: 0.0620 - val_loss: 2.8752 - val_acc: 0.2072\n",
      "Epoch 2/40\n",
      "13/13 - 1s - loss: 2.9085 - acc: 0.1393 - val_loss: 2.4373 - val_acc: 0.2434\n",
      "Epoch 3/40\n",
      "13/13 - 1s - loss: 2.6260 - acc: 0.2165 - val_loss: 2.0444 - val_acc: 0.4112\n",
      "Epoch 4/40\n",
      "13/13 - 1s - loss: 2.4075 - acc: 0.2546 - val_loss: 1.7188 - val_acc: 0.4770\n",
      "Epoch 5/40\n",
      "13/13 - 1s - loss: 2.2201 - acc: 0.2949 - val_loss: 1.4351 - val_acc: 0.6678\n",
      "Epoch 6/40\n",
      "13/13 - 1s - loss: 2.0396 - acc: 0.3645 - val_loss: 1.2576 - val_acc: 0.6151\n",
      "Epoch 7/40\n",
      "13/13 - 1s - loss: 1.9225 - acc: 0.3939 - val_loss: 1.0295 - val_acc: 0.7336\n",
      "Epoch 8/40\n",
      "13/13 - 1s - loss: 1.7250 - acc: 0.4603 - val_loss: 0.8838 - val_acc: 0.7171\n",
      "Epoch 9/40\n",
      "13/13 - 1s - loss: 1.6397 - acc: 0.4755 - val_loss: 0.7661 - val_acc: 0.7829\n",
      "Epoch 10/40\n",
      "13/13 - 1s - loss: 1.5321 - acc: 0.4962 - val_loss: 0.7164 - val_acc: 0.8158\n",
      "Epoch 11/40\n",
      "13/13 - 1s - loss: 1.4440 - acc: 0.5267 - val_loss: 0.7574 - val_acc: 0.7336\n",
      "Epoch 12/40\n",
      "13/13 - 1s - loss: 1.4293 - acc: 0.5343 - val_loss: 0.6428 - val_acc: 0.8092\n",
      "Epoch 13/40\n",
      "13/13 - 1s - loss: 1.2819 - acc: 0.5865 - val_loss: 0.5098 - val_acc: 0.8816\n",
      "Epoch 14/40\n",
      "13/13 - 1s - loss: 1.1977 - acc: 0.6279 - val_loss: 0.4942 - val_acc: 0.7993\n",
      "Epoch 15/40\n",
      "13/13 - 1s - loss: 1.1347 - acc: 0.6518 - val_loss: 0.4454 - val_acc: 0.8816\n",
      "Epoch 16/40\n",
      "13/13 - 1s - loss: 1.0604 - acc: 0.6692 - val_loss: 0.3997 - val_acc: 0.8783\n",
      "Epoch 17/40\n",
      "13/13 - 1s - loss: 1.0363 - acc: 0.6779 - val_loss: 0.3408 - val_acc: 0.9243\n",
      "Epoch 18/40\n",
      "13/13 - 1s - loss: 0.9543 - acc: 0.6964 - val_loss: 0.3256 - val_acc: 0.8947\n",
      "Epoch 19/40\n",
      "13/13 - 1s - loss: 0.9147 - acc: 0.7008 - val_loss: 0.2912 - val_acc: 0.9375\n",
      "Epoch 20/40\n",
      "13/13 - 1s - loss: 0.8698 - acc: 0.7301 - val_loss: 0.2637 - val_acc: 0.9178\n",
      "Epoch 21/40\n",
      "13/13 - 1s - loss: 0.8793 - acc: 0.7301 - val_loss: 0.2851 - val_acc: 0.9079\n",
      "Epoch 22/40\n",
      "13/13 - 1s - loss: 0.8687 - acc: 0.7443 - val_loss: 0.2631 - val_acc: 0.9112\n",
      "Epoch 23/40\n",
      "13/13 - 1s - loss: 0.7705 - acc: 0.7617 - val_loss: 0.2395 - val_acc: 0.9145\n",
      "Epoch 24/40\n",
      "13/13 - 1s - loss: 0.7346 - acc: 0.7563 - val_loss: 0.2266 - val_acc: 0.9145\n",
      "Epoch 25/40\n",
      "13/13 - 1s - loss: 0.7057 - acc: 0.7889 - val_loss: 0.2125 - val_acc: 0.9342\n",
      "Epoch 26/40\n",
      "13/13 - 1s - loss: 0.6645 - acc: 0.7650 - val_loss: 0.2146 - val_acc: 0.9342\n",
      "Epoch 27/40\n",
      "13/13 - 1s - loss: 0.6507 - acc: 0.7704 - val_loss: 0.2060 - val_acc: 0.9211\n",
      "Epoch 28/40\n",
      "13/13 - 1s - loss: 0.6493 - acc: 0.7856 - val_loss: 0.2213 - val_acc: 0.9178\n",
      "Epoch 29/40\n",
      "13/13 - 1s - loss: 0.5987 - acc: 0.7922 - val_loss: 0.2018 - val_acc: 0.9408\n",
      "Epoch 30/40\n",
      "13/13 - 1s - loss: 0.5411 - acc: 0.8226 - val_loss: 0.1827 - val_acc: 0.9211\n",
      "Epoch 31/40\n",
      "13/13 - 1s - loss: 0.6268 - acc: 0.7900 - val_loss: 0.1976 - val_acc: 0.9112\n",
      "Epoch 32/40\n",
      "13/13 - 1s - loss: 0.5633 - acc: 0.8052 - val_loss: 0.8082 - val_acc: 0.8487\n",
      "Epoch 33/40\n",
      "13/13 - 1s - loss: 0.6944 - acc: 0.7802 - val_loss: 0.2121 - val_acc: 0.9276\n",
      "Epoch 34/40\n",
      "13/13 - 1s - loss: 0.5482 - acc: 0.8052 - val_loss: 0.2089 - val_acc: 0.9243\n",
      "Epoch 35/40\n",
      "13/13 - 1s - loss: 0.5267 - acc: 0.8074 - val_loss: 0.1792 - val_acc: 0.9408\n",
      "Epoch 36/40\n",
      "13/13 - 1s - loss: 0.4790 - acc: 0.8433 - val_loss: 0.2454 - val_acc: 0.9112\n",
      "Epoch 37/40\n",
      "13/13 - 1s - loss: 0.4582 - acc: 0.8509 - val_loss: 0.1885 - val_acc: 0.9243\n",
      "Epoch 38/40\n",
      "13/13 - 1s - loss: 0.4268 - acc: 0.8509 - val_loss: 0.1914 - val_acc: 0.9375\n",
      "Epoch 39/40\n",
      "13/13 - 1s - loss: 0.3966 - acc: 0.8705 - val_loss: 0.2119 - val_acc: 0.9079\n",
      "Epoch 40/40\n",
      "13/13 - 1s - loss: 0.3616 - acc: 0.8629 - val_loss: 0.2363 - val_acc: 0.9309\n"
     ]
    }
   ],
   "source": [
    "model.compile(optimizer='adam',loss='SparseCategoricalCrossentropy',metrics=['acc'])\n",
    "history = model.fit(X_train[:,:,:,2], y_train, epochs=40, batch_size=72, \n",
    "                    validation_data=(X_test[:,:,:,2], y_test), verbose=2,shuffle=False)"
   ]
  },
  {
   "cell_type": "code",
   "execution_count": 7,
   "metadata": {
    "execution": {
     "iopub.execute_input": "2021-02-09T17:42:32.637629Z",
     "iopub.status.busy": "2021-02-09T17:42:32.636829Z",
     "iopub.status.idle": "2021-02-09T17:42:34.785863Z",
     "shell.execute_reply": "2021-02-09T17:42:34.786467Z"
    },
    "papermill": {
     "duration": 2.184674,
     "end_time": "2021-02-09T17:42:34.786666",
     "exception": false,
     "start_time": "2021-02-09T17:42:32.601992",
     "status": "completed"
    },
    "tags": []
   },
   "outputs": [
    {
     "name": "stdout",
     "output_type": "stream",
     "text": [
      "29/29 [==============================] - 0s 13ms/step - loss: 0.1396 - acc: 0.9467\n",
      "10/10 [==============================] - 0s 12ms/step - loss: 0.2363 - acc: 0.9309\n",
      "TrainLoss: 0.139568, Train accuracy 0.946681, TestLoss: 0.236312, Test Accuracy: 0.930921 \n",
      "Confusion_matrix:  tf.Tensor(\n",
      "[[12  0  0  0  0  0  0  0  0  0  0  0  0  0  0  0  0  0  0  0  0  0  0  0]\n",
      " [ 0 13  0  0  0  0  0  0  0  0  0  0  0  0  0  0  0  0  0  0  0  0  0  0]\n",
      " [ 0  0  9  0  0  0  0  0  0  0  0  0  0  0  0  0  0  0  0  0  0  0  0  0]\n",
      " [ 0  0  0 13  0  0  0  0  0  0  0  0  0  0  0  0  0  0  0  0  0  0  0  0]\n",
      " [ 0  0  0  0 11  0  0  0  0  0  0  0  0  0  0  0  2  0  0  0  0  0  0  0]\n",
      " [ 0  0  0  0  0 11  0  0  0  0  0  0  0  0  0  0  0  0  0  1  0  0  0  0]\n",
      " [ 0  0  0  0  0  0 12  0  0  0  0  0  0  0  0  0  0  0  0  0  0  0  0  0]\n",
      " [ 0  0  0  0  0  0  0 13  0  0  0  0  0  0  0  0  0  0  0  0  0  0  0  0]\n",
      " [ 0  0  0  0  0  0  0  0 12  0  0  0  0  0  0  0  0  0  0  0  0  0  0  0]\n",
      " [ 0  0  0  0  0  0  0  0  0  8  0  0  0  0  0  0  0  0  0  0  0  0  0  0]\n",
      " [ 0  0  0  0  0  0  0  0  0  0 13  0  0  0  0  0  0  0  0  0  0  0  0  0]\n",
      " [ 0  0  0  0  0  0  0  0  0  0  0 13  0  0  0  0  0  0  0  0  0  0  0  0]\n",
      " [ 0  0  0  0  0  0  0  8  0  0  0  0  4  0  0  0  0  0  0  0  0  0  0  0]\n",
      " [ 0  0  0  0  0  0  0  0  0  1  0  0  0 12  0  0  0  0  0  0  0  0  0  0]\n",
      " [ 0  0  0  0  0  0  0  0  0  0  0  0  0  0 13  0  0  0  0  0  0  0  0  0]\n",
      " [ 0  0  0  0  0  0  0  0  0  0  0  0  0  0  0 12  0  0  0  0  0  0  0  0]\n",
      " [ 0  0  0  0  2  0  0  0  0  0  0  0  0  0  0  0 10  0  0  0  0  0  0  0]\n",
      " [ 0  0  1  0  0  0  0  0  0  0  0  0  0  0  0  0  0 14  0  0  0  0  2  0]\n",
      " [ 0  0  0  0  0  0  0  0  0  0  0  0  0  0  0  0  0  0 13  0  0  0  0  0]\n",
      " [ 0  0  0  0  0  0  0  0  0  0  0  0  0  0  0  0  0  0  0 10  0  0  1  0]\n",
      " [ 0  0  0  0  0  0  0  0  0  0  0  0  0  0  0  3  0  0  0  0  7  0  0  0]\n",
      " [ 0  0  0  0  0  0  0  0  0  0  0  0  0  0  0  0  0  0  0  0  0 12  0  0]\n",
      " [ 0  0  0  0  0  0  0  0  0  0  0  0  0  0  0  0  0  0  0  0  0  0 11  0]\n",
      " [ 0  0  0  0  0  0  0  0  0  0  0  0  0  0  0  0  0  0  0  0  0  0  0 25]], shape=(24, 24), dtype=int32)\n"
     ]
    }
   ],
   "source": [
    "TrainLoss, Trainacc = model.evaluate(X_train[:,:,:,2],y_train)\n",
    "TestLoss, Testacc = model.evaluate(X_test[:,:,:,2], y_test)\n",
    "y_pred=model.predict(X_test[:,:,:,2])\n",
    "print('TrainLoss: %f, Train accuracy %f, TestLoss: %f, Test Accuracy: %f ' %(TrainLoss,Trainacc,TestLoss,Testacc))\n",
    "print('Confusion_matrix: ',tf.math.confusion_matrix(y_test, np.argmax(y_pred,axis=1)))"
   ]
  },
  {
   "cell_type": "code",
   "execution_count": 8,
   "metadata": {
    "execution": {
     "iopub.execute_input": "2021-02-09T17:42:34.873066Z",
     "iopub.status.busy": "2021-02-09T17:42:34.872189Z",
     "iopub.status.idle": "2021-02-09T17:42:35.160424Z",
     "shell.execute_reply": "2021-02-09T17:42:35.159585Z"
    },
    "papermill": {
     "duration": 0.341227,
     "end_time": "2021-02-09T17:42:35.160565",
     "exception": false,
     "start_time": "2021-02-09T17:42:34.819338",
     "status": "completed"
    },
    "tags": []
   },
   "outputs": [
    {
     "data": {
      "image/png": "[encoded data removed]",
      "text/plain": [
       "<Figure size 1080x360 with 2 Axes>"
      ]
     },
     "metadata": {
      "needs_background": "light"
     },
     "output_type": "display_data"
    }
   ],
   "source": [
    "history_dict=history.history\n",
    "loss_values=history_dict['loss']\n",
    "acc_values=history_dict['acc']\n",
    "val_loss_values = history_dict['val_loss']\n",
    "val_acc_values=history_dict['val_acc']\n",
    "epochs=range(1,41)\n",
    "fig,(ax1,ax2)=plt.subplots(1,2,figsize=(15,5))\n",
    "ax1.plot(epochs,loss_values,'bo',label='Training Loss')\n",
    "ax1.plot(epochs,val_loss_values,'orange', label='Validation Loss')\n",
    "ax1.set_title('Training and validation loss')\n",
    "ax1.set_xlabel('Epochs')\n",
    "ax1.set_ylabel('Loss')\n",
    "ax1.legend()\n",
    "ax2.plot(epochs,acc_values,'bo', label='Training accuracy')\n",
    "ax2.plot(epochs,val_acc_values,'orange',label='Validation accuracy')\n",
    "ax2.set_title('Training and validation accuracy')\n",
    "ax2.set_xlabel('Epochs')\n",
    "ax2.set_ylabel('Accuracy')\n",
    "ax2.legend()\n",
    "plt.show()"
   ]
  },
  {
   "cell_type": "code",
   "execution_count": 9,
   "metadata": {
    "execution": {
     "iopub.execute_input": "2021-02-09T17:42:35.254364Z",
     "iopub.status.busy": "2021-02-09T17:42:35.239183Z",
     "iopub.status.idle": "2021-02-09T17:42:35.280318Z",
     "shell.execute_reply": "2021-02-09T17:42:35.279882Z"
    },
    "papermill": {
     "duration": 0.083736,
     "end_time": "2021-02-09T17:42:35.280427",
     "exception": false,
     "start_time": "2021-02-09T17:42:35.196691",
     "status": "completed"
    },
    "tags": []
   },
   "outputs": [],
   "source": [
    "#Save model as a json file\n",
    "model_json=model.to_json()\n",
    "with open('/kaggle/working/RNNmodel.json','w') as file:\n",
    "    file.write(model_json)\n",
    "\n",
    "#save weights as an HDF5 file\n",
    "model.save_weights('/kaggle/working/RNNmodel.h5')"
   ]
  }
 ],
 "metadata": {
  "kernelspec": {
   "display_name": "Python 3",
   "language": "python",
   "name": "python3"
  },
  "language_info": {
   "codemirror_mode": {
    "name": "ipython",
    "version": 3
   },
   "file_extension": ".py",
   "mimetype": "text/x-python",
   "name": "python",
   "nbconvert_exporter": "python",
   "pygments_lexer": "ipython3",
   "version": "3.7.9"
  },
  "papermill": {
   "default_parameters": {},
   "duration": 93.717953,
   "end_time": "2021-02-09T17:42:37.768431",
   "environment_variables": {},
   "exception": null,
   "input_path": "__notebook__.ipynb",
   "output_path": "__notebook__.ipynb",
   "parameters": {},
   "start_time": "2021-02-09T17:41:04.050478",
   "version": "2.2.2"
  }
 },
 "nbformat": 4,
 "nbformat_minor": 4
}
