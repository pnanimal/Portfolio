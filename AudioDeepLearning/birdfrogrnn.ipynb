{
 "cells": [
  {
   "cell_type": "code",
   "execution_count": 1,
   "metadata": {
    "_cell_guid": "b1076dfc-b9ad-4769-8c92-a6c4dae69d19",
    "_uuid": "8f2839f25d086af736a60e9eeb907d3b93b6e0e5",
    "execution": {
     "iopub.execute_input": "2021-02-08T23:07:02.278914Z",
     "iopub.status.busy": "2021-02-08T23:07:02.278022Z",
     "iopub.status.idle": "2021-02-08T23:07:10.326344Z",
     "shell.execute_reply": "2021-02-08T23:07:10.325019Z"
    },
    "papermill": {
     "duration": 8.068059,
     "end_time": "2021-02-08T23:07:10.326582",
     "exception": false,
     "start_time": "2021-02-08T23:07:02.258523",
     "status": "completed"
    },
    "tags": []
   },
   "outputs": [
    {
     "name": "stdout",
     "output_type": "stream",
     "text": [
      "/kaggle/input/birdfrog-eda/test_labels.pkl\n",
      "/kaggle/input/birdfrog-eda/train_features.pkl\n",
      "/kaggle/input/birdfrog-eda/filename-noise.wav\n",
      "/kaggle/input/birdfrog-eda/filename.wav\n",
      "/kaggle/input/birdfrog-eda/__results__.html\n",
      "/kaggle/input/birdfrog-eda/train_labels.pkl\n",
      "/kaggle/input/birdfrog-eda/test_features.pkl\n",
      "/kaggle/input/birdfrog-eda/train_noOS_labels.pkl\n",
      "/kaggle/input/birdfrog-eda/train_noOS_features.pkl\n",
      "/kaggle/input/birdfrog-eda/__notebook__.ipynb\n",
      "/kaggle/input/birdfrog-eda/__output__.json\n",
      "/kaggle/input/birdfrog-eda/custom.css\n",
      "/kaggle/input/birdfrog-eda/__results___files/__results___15_0.png\n",
      "/kaggle/input/birdfrog-eda/__results___files/__results___25_0.png\n",
      "/kaggle/input/birdfrog-eda/__results___files/__results___10_0.png\n",
      "/kaggle/input/birdfrog-eda/__results___files/__results___19_0.png\n",
      "/kaggle/input/birdfrog-eda/__results___files/__results___31_0.png\n",
      "/kaggle/input/birdfrog-eda/__results___files/__results___27_0.png\n",
      "/kaggle/input/birdfrog-eda/__results___files/__results___21_0.png\n",
      "/kaggle/input/birdfrog-eda/__results___files/__results___43_0.png\n",
      "/kaggle/input/birdfrog-eda/__results___files/__results___33_0.png\n",
      "/kaggle/input/birdfrog-eda/__results___files/__results___17_0.png\n",
      "/kaggle/input/birdfrog-eda/__results___files/__results___29_0.png\n",
      "/kaggle/input/birdfrog-eda/__results___files/__results___23_0.png\n",
      "/kaggle/input/birdfrog-eda/__results___files/__results___38_0.png\n"
     ]
    }
   ],
   "source": [
    "import numpy as np # linear algebra\n",
    "import pandas as pd # data processing, CSV file I/O (e.g. pd.read_csv)\n",
    "import os\n",
    "for dirname, _, filenames in os.walk('/kaggle/input'):\n",
    "    for filename in filenames:\n",
    "        print(os.path.join(dirname, filename))\n",
    "import pickle\n",
    "import joblib\n",
    "from sklearn.preprocessing import normalize\n",
    "from sklearn import preprocessing\n",
    "from sklearn.ensemble import RandomForestClassifier \n",
    "from sklearn.metrics import accuracy_score, confusion_matrix, classification_report\n",
    "from sklearn import preprocessing\n",
    "from sklearn.model_selection import train_test_split\n",
    "import tensorflow as tf\n",
    "from tensorflow import keras\n",
    "import tensorflow_datasets as tfds\n",
    "from tensorflow.keras.layers import Dropout, Flatten, Dense, Input, LSTM\n",
    "from tensorflow.keras import models, layers, Model\n",
    "from tensorflow.keras.optimizers import Adam\n",
    "import matplotlib.pyplot as plt"
   ]
  },
  {
   "cell_type": "code",
   "execution_count": 2,
   "metadata": {
    "execution": {
     "iopub.execute_input": "2021-02-08T23:07:10.350092Z",
     "iopub.status.busy": "2021-02-08T23:07:10.349286Z",
     "iopub.status.idle": "2021-02-08T23:07:43.414734Z",
     "shell.execute_reply": "2021-02-08T23:07:43.415549Z"
    },
    "papermill": {
     "duration": 33.079362,
     "end_time": "2021-02-08T23:07:43.415842",
     "exception": false,
     "start_time": "2021-02-08T23:07:10.336480",
     "status": "completed"
    },
    "tags": []
   },
   "outputs": [
    {
     "name": "stdout",
     "output_type": "stream",
     "text": [
      "(1226, 128, 1000, 3) (304, 128, 1000, 3)\n"
     ]
    }
   ],
   "source": [
    "X_train = joblib.load('/kaggle/input/birdfrog-eda/train_features.pkl')\n",
    "X_test = joblib.load('/kaggle/input/birdfrog-eda/test_features.pkl')\n",
    "print(X_train.shape,X_test.shape)"
   ]
  },
  {
   "cell_type": "code",
   "execution_count": 3,
   "metadata": {
    "execution": {
     "iopub.execute_input": "2021-02-08T23:07:43.441073Z",
     "iopub.status.busy": "2021-02-08T23:07:43.440297Z",
     "iopub.status.idle": "2021-02-08T23:07:44.894328Z",
     "shell.execute_reply": "2021-02-08T23:07:44.895150Z"
    },
    "papermill": {
     "duration": 1.469605,
     "end_time": "2021-02-08T23:07:44.895391",
     "exception": false,
     "start_time": "2021-02-08T23:07:43.425786",
     "status": "completed"
    },
    "tags": []
   },
   "outputs": [
    {
     "name": "stdout",
     "output_type": "stream",
     "text": [
      "(919, 128, 1000, 3) (919,) (304, 128, 1000, 3) (304,) (307, 128, 1000, 3) (307,)\n"
     ]
    }
   ],
   "source": [
    "y_train = np.array(joblib.load('/kaggle/input/birdfrog-eda/train_labels.pkl'))\n",
    "y_test = np.array(joblib.load('/kaggle/input/birdfrog-eda/test_labels.pkl'))\n",
    "X_train, X_val, y_train, y_val = train_test_split(X_train, y_train, test_size=0.25, random_state=123)\n",
    "print(X_train.shape, y_train.shape,X_test.shape, y_test.shape,X_val.shape, y_val.shape)"
   ]
  },
  {
   "cell_type": "code",
   "execution_count": 4,
   "metadata": {
    "execution": {
     "iopub.execute_input": "2021-02-08T23:07:44.942079Z",
     "iopub.status.busy": "2021-02-08T23:07:44.925144Z",
     "iopub.status.idle": "2021-02-08T23:07:45.224873Z",
     "shell.execute_reply": "2021-02-08T23:07:45.224229Z"
    },
    "papermill": {
     "duration": 0.319586,
     "end_time": "2021-02-08T23:07:45.225026",
     "exception": false,
     "start_time": "2021-02-08T23:07:44.905440",
     "status": "completed"
    },
    "tags": []
   },
   "outputs": [
    {
     "data": {
      "image/png": "[encoded data removed]",
      "text/plain": [
       "<Figure size 1080x360 with 1 Axes>"
      ]
     },
     "metadata": {
      "needs_background": "light"
     },
     "output_type": "display_data"
    }
   ],
   "source": [
    "unique, counts = np.unique(np.concatenate((y_train,y_val)),return_counts=True)\n",
    "values=dict(zip(unique,counts))\n",
    "fig, ax = plt.subplots(figsize=(15,5))\n",
    "barlist=plt.bar(values.keys(),values.values(), label='Minority samples')\n",
    "plt.xlabel('Species ID', fontsize=17)\n",
    "plt.ylabel('Number of audio recordings', fontsize=17)\n",
    "plt.title('Number of Training Samples with augmentation', fontsize=20)\n",
    "plt.show()"
   ]
  },
  {
   "cell_type": "markdown",
   "metadata": {
    "papermill": {
     "duration": 0.010404,
     "end_time": "2021-02-08T23:07:45.246302",
     "exception": false,
     "start_time": "2021-02-08T23:07:45.235898",
     "status": "completed"
    },
    "tags": []
   },
   "source": [
    "# RNN Modeling"
   ]
  },
  {
   "cell_type": "markdown",
   "metadata": {
    "papermill": {
     "duration": 0.010304,
     "end_time": "2021-02-08T23:07:45.267247",
     "exception": false,
     "start_time": "2021-02-08T23:07:45.256943",
     "status": "completed"
    },
    "tags": []
   },
   "source": [
    "## RNN does not seem to be able to mix types of data (1D spectral bandwidth with 2D spectrogram or 2D MFCC's for example). The best results are obtained from using only one type of data, the MFCC's."
   ]
  },
  {
   "cell_type": "code",
   "execution_count": 5,
   "metadata": {
    "execution": {
     "iopub.execute_input": "2021-02-08T23:07:45.297395Z",
     "iopub.status.busy": "2021-02-08T23:07:45.296650Z",
     "iopub.status.idle": "2021-02-08T23:08:33.957353Z",
     "shell.execute_reply": "2021-02-08T23:08:33.956084Z"
    },
    "papermill": {
     "duration": 48.67985,
     "end_time": "2021-02-08T23:08:33.957532",
     "exception": false,
     "start_time": "2021-02-08T23:07:45.277682",
     "status": "completed"
    },
    "tags": []
   },
   "outputs": [
    {
     "name": "stdout",
     "output_type": "stream",
     "text": [
      "Epoch 1/50\n",
      "13/13 - 7s - loss: 2.8612 - acc: 0.1502 - val_loss: 2.1377 - val_acc: 0.3289\n",
      "Epoch 2/50\n",
      "13/13 - 1s - loss: 2.2639 - acc: 0.3025 - val_loss: 1.4611 - val_acc: 0.5033\n",
      "Epoch 3/50\n",
      "13/13 - 1s - loss: 1.8627 - acc: 0.4146 - val_loss: 1.0901 - val_acc: 0.6447\n",
      "Epoch 4/50\n",
      "13/13 - 1s - loss: 1.5907 - acc: 0.4940 - val_loss: 0.9030 - val_acc: 0.7204\n",
      "Epoch 5/50\n",
      "13/13 - 1s - loss: 1.4142 - acc: 0.5550 - val_loss: 0.7235 - val_acc: 0.7566\n",
      "Epoch 6/50\n",
      "13/13 - 1s - loss: 1.2712 - acc: 0.6268 - val_loss: 0.6019 - val_acc: 0.7697\n",
      "Epoch 7/50\n",
      "13/13 - 1s - loss: 1.1192 - acc: 0.6714 - val_loss: 0.4860 - val_acc: 0.8816\n",
      "Epoch 8/50\n",
      "13/13 - 1s - loss: 1.1180 - acc: 0.6670 - val_loss: 0.4008 - val_acc: 0.8947\n",
      "Epoch 9/50\n",
      "13/13 - 1s - loss: 0.9009 - acc: 0.7476 - val_loss: 0.4283 - val_acc: 0.8618\n",
      "Epoch 10/50\n",
      "13/13 - 1s - loss: 0.7981 - acc: 0.7704 - val_loss: 0.5593 - val_acc: 0.8322\n",
      "Epoch 11/50\n",
      "13/13 - 1s - loss: 0.8390 - acc: 0.7573 - val_loss: 0.3846 - val_acc: 0.8618\n",
      "Epoch 12/50\n",
      "13/13 - 1s - loss: 0.7781 - acc: 0.7552 - val_loss: 0.3145 - val_acc: 0.8882\n",
      "Epoch 13/50\n",
      "13/13 - 1s - loss: 0.6694 - acc: 0.7965 - val_loss: 0.4958 - val_acc: 0.8487\n",
      "Epoch 14/50\n",
      "13/13 - 1s - loss: 0.6454 - acc: 0.7954 - val_loss: 0.3025 - val_acc: 0.8914\n",
      "Epoch 15/50\n",
      "13/13 - 1s - loss: 0.5691 - acc: 0.8270 - val_loss: 0.2534 - val_acc: 0.9178\n",
      "Epoch 16/50\n",
      "13/13 - 1s - loss: 0.6170 - acc: 0.8183 - val_loss: 0.4921 - val_acc: 0.8618\n",
      "Epoch 17/50\n",
      "13/13 - 1s - loss: 0.6058 - acc: 0.8183 - val_loss: 0.3101 - val_acc: 0.8783\n",
      "Epoch 18/50\n",
      "13/13 - 1s - loss: 0.5214 - acc: 0.8411 - val_loss: 0.2304 - val_acc: 0.9309\n",
      "Epoch 19/50\n",
      "13/13 - 1s - loss: 0.4447 - acc: 0.8629 - val_loss: 0.4183 - val_acc: 0.8092\n",
      "Epoch 20/50\n",
      "13/13 - 1s - loss: 0.5296 - acc: 0.8487 - val_loss: 0.1968 - val_acc: 0.9539\n",
      "Epoch 21/50\n",
      "13/13 - 1s - loss: 0.3892 - acc: 0.8760 - val_loss: 0.1799 - val_acc: 0.9474\n",
      "Epoch 22/50\n",
      "13/13 - 1s - loss: 0.4239 - acc: 0.8640 - val_loss: 0.2351 - val_acc: 0.9046\n",
      "Epoch 23/50\n",
      "13/13 - 1s - loss: 0.3806 - acc: 0.8836 - val_loss: 0.2631 - val_acc: 0.9342\n",
      "Epoch 24/50\n",
      "13/13 - 1s - loss: 0.2898 - acc: 0.8999 - val_loss: 0.1834 - val_acc: 0.9539\n",
      "Epoch 25/50\n",
      "13/13 - 1s - loss: 0.4170 - acc: 0.8857 - val_loss: 0.1787 - val_acc: 0.9638\n",
      "Epoch 26/50\n",
      "13/13 - 1s - loss: 0.2577 - acc: 0.9173 - val_loss: 0.1904 - val_acc: 0.9605\n",
      "Epoch 27/50\n",
      "13/13 - 1s - loss: 0.2728 - acc: 0.9021 - val_loss: 0.4333 - val_acc: 0.9013\n",
      "Epoch 28/50\n",
      "13/13 - 1s - loss: 0.2946 - acc: 0.9042 - val_loss: 0.4741 - val_acc: 0.9309\n",
      "Epoch 29/50\n",
      "13/13 - 1s - loss: 0.3110 - acc: 0.9173 - val_loss: 0.2402 - val_acc: 0.9342\n",
      "Epoch 30/50\n",
      "13/13 - 1s - loss: 0.1694 - acc: 0.9478 - val_loss: 0.1797 - val_acc: 0.9704\n",
      "Epoch 31/50\n",
      "13/13 - 1s - loss: 0.1966 - acc: 0.9304 - val_loss: 0.3231 - val_acc: 0.9408\n",
      "Epoch 32/50\n",
      "13/13 - 1s - loss: 0.1388 - acc: 0.9532 - val_loss: 0.1393 - val_acc: 0.9803\n",
      "Epoch 33/50\n",
      "13/13 - 1s - loss: 0.1662 - acc: 0.9499 - val_loss: 0.1648 - val_acc: 0.9704\n",
      "Epoch 34/50\n",
      "13/13 - 1s - loss: 0.2900 - acc: 0.9206 - val_loss: 0.2047 - val_acc: 0.9572\n",
      "Epoch 35/50\n",
      "13/13 - 1s - loss: 0.1196 - acc: 0.9630 - val_loss: 0.1948 - val_acc: 0.9605\n",
      "Epoch 36/50\n",
      "13/13 - 1s - loss: 0.1117 - acc: 0.9663 - val_loss: 0.3145 - val_acc: 0.9474\n",
      "Epoch 37/50\n",
      "13/13 - 1s - loss: 0.1365 - acc: 0.9565 - val_loss: 0.1673 - val_acc: 0.9671\n",
      "Epoch 38/50\n",
      "13/13 - 1s - loss: 0.0680 - acc: 0.9815 - val_loss: 0.2680 - val_acc: 0.9572\n",
      "Epoch 39/50\n",
      "13/13 - 1s - loss: 0.3237 - acc: 0.9021 - val_loss: 0.1825 - val_acc: 0.9737\n",
      "Epoch 40/50\n",
      "13/13 - 1s - loss: 0.1351 - acc: 0.9587 - val_loss: 0.2246 - val_acc: 0.9605\n",
      "Epoch 41/50\n",
      "13/13 - 1s - loss: 0.0901 - acc: 0.9695 - val_loss: 0.2083 - val_acc: 0.9605\n",
      "Epoch 42/50\n",
      "13/13 - 1s - loss: 0.1307 - acc: 0.9576 - val_loss: 0.2056 - val_acc: 0.9803\n",
      "Epoch 43/50\n",
      "13/13 - 1s - loss: 0.0492 - acc: 0.9837 - val_loss: 0.2920 - val_acc: 0.9572\n",
      "Epoch 44/50\n",
      "13/13 - 1s - loss: 0.2398 - acc: 0.9380 - val_loss: 0.3172 - val_acc: 0.9539\n",
      "Epoch 45/50\n",
      "13/13 - 1s - loss: 0.0797 - acc: 0.9826 - val_loss: 0.2711 - val_acc: 0.9507\n",
      "Epoch 46/50\n",
      "13/13 - 1s - loss: 0.0341 - acc: 0.9913 - val_loss: 0.2500 - val_acc: 0.9671\n",
      "Epoch 47/50\n",
      "13/13 - 1s - loss: 0.1372 - acc: 0.9608 - val_loss: 0.2118 - val_acc: 0.9638\n",
      "Epoch 48/50\n",
      "13/13 - 1s - loss: 0.0847 - acc: 0.9880 - val_loss: 0.2306 - val_acc: 0.9605\n",
      "Epoch 49/50\n",
      "13/13 - 1s - loss: 0.0792 - acc: 0.9804 - val_loss: 0.2156 - val_acc: 0.9704\n",
      "Epoch 50/50\n",
      "13/13 - 1s - loss: 0.1111 - acc: 0.9695 - val_loss: 0.6864 - val_acc: 0.8717\n"
     ]
    }
   ],
   "source": [
    "input_shape=(128,1000)\n",
    "model = keras.Sequential()\n",
    "model.add(LSTM(250,input_shape=input_shape))\n",
    "model.add(Dropout(0.2))\n",
    "model.add(Dense(128, activation='relu'))\n",
    "model.add(Dropout(0.2))\n",
    "model.add(Dense(128, activation='relu'))\n",
    "model.add(Dense(64, activation='relu'))\n",
    "model.add(Dropout(0.2))\n",
    "model.add(Dense(48, activation='relu'))\n",
    "model.add(Dense(24, activation='softmax'))\n",
    "model.compile(optimizer='rmsprop',loss='SparseCategoricalCrossentropy',metrics=['acc'])\n",
    "history = model.fit(X_train[:,:,:,2], y_train, epochs=50, batch_size=72, \n",
    "                    validation_data=(X_test[:,:,:,2], y_test), verbose=2,shuffle=False)"
   ]
  },
  {
   "cell_type": "code",
   "execution_count": 6,
   "metadata": {
    "execution": {
     "iopub.execute_input": "2021-02-08T23:08:34.061530Z",
     "iopub.status.busy": "2021-02-08T23:08:34.060527Z",
     "iopub.status.idle": "2021-02-08T23:08:36.513100Z",
     "shell.execute_reply": "2021-02-08T23:08:36.513743Z"
    },
    "papermill": {
     "duration": 2.507353,
     "end_time": "2021-02-08T23:08:36.513935",
     "exception": false,
     "start_time": "2021-02-08T23:08:34.006582",
     "status": "completed"
    },
    "tags": []
   },
   "outputs": [
    {
     "name": "stdout",
     "output_type": "stream",
     "text": [
      "29/29 [==============================] - 0s 14ms/step - loss: 0.3889 - acc: 0.9206\n",
      "10/10 [==============================] - 0s 14ms/step - loss: 0.6864 - acc: 0.8717\n",
      "TrainLoss: 0.388913, Train accuracy 0.920566, TestLoss: 0.686426, Test Accuracy: 0.871711 \n",
      "Confusion_matrix:  tf.Tensor(\n",
      "[[10  0  0  0  0  0  0  0  0  0  0  0  0  0  0  0  0  0  0  0  0  0  2  0]\n",
      " [13  0  0  0  0  0  0  0  0  0  0  0  0  0  0  0  0  0  0  0  0  0  0  0]\n",
      " [ 0  0  8  0  0  0  0  0  0  0  0  0  0  0  0  0  0  0  0  1  0  0  0  0]\n",
      " [ 0  0  0  4  0  0  0  0  0  0  0  0  0  0  0  0  0  0  9  0  0  0  0  0]\n",
      " [ 0  0  0  0 10  0  0  0  0  0  0  0  0  0  0  0  3  0  0  0  0  0  0  0]\n",
      " [ 0  0  0  0  0  9  0  1  0  0  2  0  0  0  0  0  0  0  0  0  0  0  0  0]\n",
      " [ 0  0  0  0  0  0 12  0  0  0  0  0  0  0  0  0  0  0  0  0  0  0  0  0]\n",
      " [ 0  0  0  0  0  0  0 12  0  0  0  0  1  0  0  0  0  0  0  0  0  0  0  0]\n",
      " [ 0  0  0  0  0  0  0  0 12  0  0  0  0  0  0  0  0  0  0  0  0  0  0  0]\n",
      " [ 0  0  0  0  0  0  0  0  0  8  0  0  0  0  0  0  0  0  0  0  0  0  0  0]\n",
      " [ 0  0  0  0  0  0  0  0  0  0 13  0  0  0  0  0  0  0  0  0  0  0  0  0]\n",
      " [ 0  0  0  0  0  0  0  0  0  0  0 13  0  0  0  0  0  0  0  0  0  0  0  0]\n",
      " [ 0  0  0  0  0  0  0  2  0  0  0  0 10  0  0  0  0  0  0  0  0  0  0  0]\n",
      " [ 0  0  0  0  0  0  0  0  0  1  0  0  0 12  0  0  0  0  0  0  0  0  0  0]\n",
      " [ 0  0  0  0  0  0  0  0  0  0  0  0  0  1 12  0  0  0  0  0  0  0  0  0]\n",
      " [ 0  0  0  0  0  0  0  0  0  0  0  0  0  0  0 12  0  0  0  0  0  0  0  0]\n",
      " [ 0  0  0  0  0  0  0  0  0  0  0  0  0  0  0  0 12  0  0  0  0  0  0  0]\n",
      " [ 0  0  0  0  0  0  0  0  0  1  0  0  0  0  0  0  0 16  0  0  0  0  0  0]\n",
      " [ 0  0  0  0  0  0  0  0  0  0  0  0  0  0  0  0  0  0 13  0  0  0  0  0]\n",
      " [ 0  0  0  0  0  0  0  0  0  0  0  0  0  0  0  0  0  0  0 11  0  0  0  0]\n",
      " [ 0  0  0  0  0  0  0  0  0  0  1  0  0  0  0  0  0  0  0  0  9  0  0  0]\n",
      " [ 0  0  0  0  0  0  0  0  0  0  0  0  0  0  0  0  0  0  0  0  0 12  0  0]\n",
      " [ 0  0  0  0  0  0  0  0  0  0  0  0  0  0  0  0  0  0  0  1  0  0 10  0]\n",
      " [ 0  0  0  0  0  0  0  0  0  0  0  0  0  0  0  0  0  0  0  0  0  0  0 25]], shape=(24, 24), dtype=int32)\n"
     ]
    }
   ],
   "source": [
    "TrainLoss, Trainacc = model.evaluate(X_train[:,:,:,2],y_train)\n",
    "TestLoss, Testacc = model.evaluate(X_test[:,:,:,2], y_test)\n",
    "y_pred=model.predict(X_test[:,:,:,2])\n",
    "print('TrainLoss: %f, Train accuracy %f, TestLoss: %f, Test Accuracy: %f ' %(TrainLoss,Trainacc,TestLoss,Testacc))\n",
    "print('Confusion_matrix: ',tf.math.confusion_matrix(y_test, np.argmax(y_pred,axis=1)))"
   ]
  },
  {
   "cell_type": "code",
   "execution_count": 7,
   "metadata": {
    "execution": {
     "iopub.execute_input": "2021-02-08T23:08:36.638465Z",
     "iopub.status.busy": "2021-02-08T23:08:36.636203Z",
     "iopub.status.idle": "2021-02-08T23:08:37.023240Z",
     "shell.execute_reply": "2021-02-08T23:08:37.022095Z"
    },
    "papermill": {
     "duration": 0.456462,
     "end_time": "2021-02-08T23:08:37.023438",
     "exception": false,
     "start_time": "2021-02-08T23:08:36.566976",
     "status": "completed"
    },
    "tags": []
   },
   "outputs": [
    {
     "data": {
      "image/png": "[encoded data removed]",
      "text/plain": [
       "<Figure size 1080x360 with 2 Axes>"
      ]
     },
     "metadata": {
      "needs_background": "light"
     },
     "output_type": "display_data"
    }
   ],
   "source": [
    "history_dict=history.history\n",
    "loss_values=history_dict['loss']\n",
    "acc_values=history_dict['acc']\n",
    "val_loss_values = history_dict['val_loss']\n",
    "val_acc_values=history_dict['val_acc']\n",
    "epochs=range(1,51)\n",
    "fig,(ax1,ax2)=plt.subplots(1,2,figsize=(15,5))\n",
    "ax1.plot(epochs,loss_values,'bo',label='Training Loss')\n",
    "ax1.plot(epochs,val_loss_values,'orange', label='Validation Loss')\n",
    "ax1.set_title('Training and validation loss')\n",
    "ax1.set_xlabel('Epochs')\n",
    "ax1.set_ylabel('Loss')\n",
    "ax1.legend()\n",
    "ax2.plot(epochs,acc_values,'bo', label='Training accuracy')\n",
    "ax2.plot(epochs,val_acc_values,'orange',label='Validation accuracy')\n",
    "ax2.set_title('Training and validation accuracy')\n",
    "ax2.set_xlabel('Epochs')\n",
    "ax2.set_ylabel('Accuracy')\n",
    "ax2.legend()\n",
    "plt.show()"
   ]
  },
  {
   "cell_type": "code",
   "execution_count": 8,
   "metadata": {
    "execution": {
     "iopub.execute_input": "2021-02-08T23:08:37.146525Z",
     "iopub.status.busy": "2021-02-08T23:08:37.145648Z",
     "iopub.status.idle": "2021-02-08T23:08:37.197633Z",
     "shell.execute_reply": "2021-02-08T23:08:37.196975Z"
    },
    "papermill": {
     "duration": 0.114535,
     "end_time": "2021-02-08T23:08:37.197795",
     "exception": false,
     "start_time": "2021-02-08T23:08:37.083260",
     "status": "completed"
    },
    "tags": []
   },
   "outputs": [],
   "source": [
    "#Save model as a json file\n",
    "model_json=model.to_json()\n",
    "with open('/kaggle/working/RNNmodel.json','w') as file:\n",
    "    file.write(model_json)\n",
    "\n",
    "#save weights as an HDF5 file\n",
    "model.save_weights('/kaggle/working/RNNmodel.h5')"
   ]
  }
 ],
 "metadata": {
  "kernelspec": {
   "display_name": "Python 3",
   "language": "python",
   "name": "python3"
  },
  "language_info": {
   "codemirror_mode": {
    "name": "ipython",
    "version": 3
   },
   "file_extension": ".py",
   "mimetype": "text/x-python",
   "name": "python",
   "nbconvert_exporter": "python",
   "pygments_lexer": "ipython3",
   "version": "3.7.9"
  },
  "papermill": {
   "default_parameters": {},
   "duration": 104.908941,
   "end_time": "2021-02-08T23:08:40.748917",
   "environment_variables": {},
   "exception": null,
   "input_path": "__notebook__.ipynb",
   "output_path": "__notebook__.ipynb",
   "parameters": {},
   "start_time": "2021-02-08T23:06:55.839976",
   "version": "2.2.2"
  }
 },
 "nbformat": 4,
 "nbformat_minor": 4
}
