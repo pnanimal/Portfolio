{
 "cells": [
  {
   "cell_type": "code",
   "execution_count": 1,
   "metadata": {
    "_cell_guid": "b1076dfc-b9ad-4769-8c92-a6c4dae69d19",
    "_uuid": "8f2839f25d086af736a60e9eeb907d3b93b6e0e5",
    "execution": {
     "iopub.execute_input": "2021-02-21T19:31:06.887000Z",
     "iopub.status.busy": "2021-02-21T19:31:06.886405Z",
     "iopub.status.idle": "2021-02-21T19:31:14.310040Z",
     "shell.execute_reply": "2021-02-21T19:31:14.309006Z"
    },
    "papermill": {
     "duration": 7.439586,
     "end_time": "2021-02-21T19:31:14.310269",
     "exception": false,
     "start_time": "2021-02-21T19:31:06.870683",
     "status": "completed"
    },
    "tags": []
   },
   "outputs": [
    {
     "name": "stdout",
     "output_type": "stream",
     "text": [
      "/kaggle/input/birdfrog-eda/test_labels.pkl\n",
      "/kaggle/input/birdfrog-eda/train_features.pkl\n",
      "/kaggle/input/birdfrog-eda/filename-noise.wav\n",
      "/kaggle/input/birdfrog-eda/filename.wav\n",
      "/kaggle/input/birdfrog-eda/__results__.html\n",
      "/kaggle/input/birdfrog-eda/train_labels.pkl\n",
      "/kaggle/input/birdfrog-eda/test_features.pkl\n",
      "/kaggle/input/birdfrog-eda/train_noOS_labels.pkl\n",
      "/kaggle/input/birdfrog-eda/train_noOS_features.pkl\n",
      "/kaggle/input/birdfrog-eda/__notebook__.ipynb\n",
      "/kaggle/input/birdfrog-eda/__output__.json\n",
      "/kaggle/input/birdfrog-eda/custom.css\n",
      "/kaggle/input/birdfrog-eda/__results___files/__results___15_0.png\n",
      "/kaggle/input/birdfrog-eda/__results___files/__results___25_0.png\n",
      "/kaggle/input/birdfrog-eda/__results___files/__results___10_0.png\n",
      "/kaggle/input/birdfrog-eda/__results___files/__results___19_0.png\n",
      "/kaggle/input/birdfrog-eda/__results___files/__results___31_0.png\n",
      "/kaggle/input/birdfrog-eda/__results___files/__results___27_0.png\n",
      "/kaggle/input/birdfrog-eda/__results___files/__results___21_0.png\n",
      "/kaggle/input/birdfrog-eda/__results___files/__results___43_0.png\n",
      "/kaggle/input/birdfrog-eda/__results___files/__results___33_0.png\n",
      "/kaggle/input/birdfrog-eda/__results___files/__results___17_0.png\n",
      "/kaggle/input/birdfrog-eda/__results___files/__results___29_0.png\n",
      "/kaggle/input/birdfrog-eda/__results___files/__results___23_0.png\n",
      "/kaggle/input/birdfrog-eda/__results___files/__results___38_0.png\n"
     ]
    }
   ],
   "source": [
    "import numpy as np # linear algebra\n",
    "import pandas as pd # data processing, CSV file I/O (e.g. pd.read_csv)\n",
    "import os\n",
    "for dirname, _, filenames in os.walk('/kaggle/input'):\n",
    "    for filename in filenames:\n",
    "        print(os.path.join(dirname, filename))\n",
    "import pickle\n",
    "import joblib\n",
    "from sklearn.preprocessing import normalize\n",
    "from sklearn import preprocessing\n",
    "from sklearn.ensemble import RandomForestClassifier \n",
    "from sklearn.metrics import accuracy_score, confusion_matrix, classification_report\n",
    "from sklearn import preprocessing\n",
    "from sklearn.model_selection import train_test_split\n",
    "import tensorflow as tf\n",
    "from tensorflow import keras\n",
    "import tensorflow_datasets as tfds\n",
    "from tensorflow.keras.layers import Dropout, Flatten, Dense, Input, LSTM\n",
    "from tensorflow.keras import models, layers, Model\n",
    "from tensorflow.keras.optimizers import Adam\n",
    "import matplotlib.pyplot as plt"
   ]
  },
  {
   "cell_type": "code",
   "execution_count": 2,
   "metadata": {
    "execution": {
     "iopub.execute_input": "2021-02-21T19:31:14.331559Z",
     "iopub.status.busy": "2021-02-21T19:31:14.330866Z",
     "iopub.status.idle": "2021-02-21T19:31:49.104600Z",
     "shell.execute_reply": "2021-02-21T19:31:49.105082Z"
    },
    "papermill": {
     "duration": 34.785835,
     "end_time": "2021-02-21T19:31:49.105256",
     "exception": false,
     "start_time": "2021-02-21T19:31:14.319421",
     "status": "completed"
    },
    "tags": []
   },
   "outputs": [
    {
     "name": "stdout",
     "output_type": "stream",
     "text": [
      "(1226, 128, 1000, 3) (304, 128, 1000, 3)\n"
     ]
    }
   ],
   "source": [
    "X_train = joblib.load('/kaggle/input/birdfrog-eda/train_features.pkl')\n",
    "X_test = joblib.load('/kaggle/input/birdfrog-eda/test_features.pkl')\n",
    "print(X_train.shape,X_test.shape)"
   ]
  },
  {
   "cell_type": "code",
   "execution_count": 3,
   "metadata": {
    "execution": {
     "iopub.execute_input": "2021-02-21T19:31:49.127635Z",
     "iopub.status.busy": "2021-02-21T19:31:49.126844Z",
     "iopub.status.idle": "2021-02-21T19:31:50.695375Z",
     "shell.execute_reply": "2021-02-21T19:31:50.694848Z"
    },
    "papermill": {
     "duration": 1.58198,
     "end_time": "2021-02-21T19:31:50.695520",
     "exception": false,
     "start_time": "2021-02-21T19:31:49.113540",
     "status": "completed"
    },
    "tags": []
   },
   "outputs": [
    {
     "name": "stdout",
     "output_type": "stream",
     "text": [
      "(919, 128, 1000, 3) (919,) (304, 128, 1000, 3) (304,) (307, 128, 1000, 3) (307,)\n"
     ]
    }
   ],
   "source": [
    "y_train = np.array(joblib.load('/kaggle/input/birdfrog-eda/train_labels.pkl'))\n",
    "y_test = np.array(joblib.load('/kaggle/input/birdfrog-eda/test_labels.pkl'))\n",
    "X_train, X_val, y_train, y_val = train_test_split(X_train, y_train, test_size=0.25, random_state=123)\n",
    "print(X_train.shape, y_train.shape,X_test.shape, y_test.shape,X_val.shape, y_val.shape)"
   ]
  },
  {
   "cell_type": "code",
   "execution_count": 4,
   "metadata": {
    "execution": {
     "iopub.execute_input": "2021-02-21T19:31:50.719643Z",
     "iopub.status.busy": "2021-02-21T19:31:50.718938Z",
     "iopub.status.idle": "2021-02-21T19:31:50.971847Z",
     "shell.execute_reply": "2021-02-21T19:31:50.971343Z"
    },
    "papermill": {
     "duration": 0.267067,
     "end_time": "2021-02-21T19:31:50.971973",
     "exception": false,
     "start_time": "2021-02-21T19:31:50.704906",
     "status": "completed"
    },
    "tags": []
   },
   "outputs": [
    {
     "data": {
      "image/png": "[encoded data removed]",
      "text/plain": [
       "<Figure size 1080x360 with 1 Axes>"
      ]
     },
     "metadata": {
      "needs_background": "light"
     },
     "output_type": "display_data"
    }
   ],
   "source": [
    "unique, counts = np.unique(np.concatenate((y_train,y_val)),return_counts=True)\n",
    "values=dict(zip(unique,counts))\n",
    "fig, ax = plt.subplots(figsize=(15,5))\n",
    "barlist=plt.bar(values.keys(),values.values(), label='Minority samples')\n",
    "plt.xlabel('Species ID', fontsize=17)\n",
    "plt.ylabel('Number of audio recordings', fontsize=17)\n",
    "plt.title('Number of Training Samples with augmentation', fontsize=20)\n",
    "plt.show()"
   ]
  },
  {
   "cell_type": "markdown",
   "metadata": {
    "papermill": {
     "duration": 0.010039,
     "end_time": "2021-02-21T19:31:50.991848",
     "exception": false,
     "start_time": "2021-02-21T19:31:50.981809",
     "status": "completed"
    },
    "tags": []
   },
   "source": [
    "# RNN Modeling"
   ]
  },
  {
   "cell_type": "markdown",
   "metadata": {
    "papermill": {
     "duration": 0.009646,
     "end_time": "2021-02-21T19:31:51.011537",
     "exception": false,
     "start_time": "2021-02-21T19:31:51.001891",
     "status": "completed"
    },
    "tags": []
   },
   "source": [
    "## RNN does not seem to be able to mix types of data (1D spectral bandwidth with 2D spectrogram or 2D MFCC's for example). The best results are obtained from using only one type of data, the MFCC's."
   ]
  },
  {
   "cell_type": "code",
   "execution_count": 5,
   "metadata": {
    "execution": {
     "iopub.execute_input": "2021-02-21T19:31:51.037465Z",
     "iopub.status.busy": "2021-02-21T19:31:51.036860Z",
     "iopub.status.idle": "2021-02-21T19:31:54.872066Z",
     "shell.execute_reply": "2021-02-21T19:31:54.871425Z"
    },
    "papermill": {
     "duration": 3.850907,
     "end_time": "2021-02-21T19:31:54.872276",
     "exception": false,
     "start_time": "2021-02-21T19:31:51.021369",
     "status": "completed"
    },
    "tags": []
   },
   "outputs": [
    {
     "name": "stdout",
     "output_type": "stream",
     "text": [
      "Model: \"sequential\"\n",
      "_________________________________________________________________\n",
      "Layer (type)                 Output Shape              Param #   \n",
      "=================================================================\n",
      "lstm (LSTM)                  (None, 128)               578048    \n",
      "_________________________________________________________________\n",
      "dropout (Dropout)            (None, 128)               0         \n",
      "_________________________________________________________________\n",
      "dense (Dense)                (None, 128)               16512     \n",
      "_________________________________________________________________\n",
      "dense_1 (Dense)              (None, 64)                8256      \n",
      "_________________________________________________________________\n",
      "dropout_1 (Dropout)          (None, 64)                0         \n",
      "_________________________________________________________________\n",
      "dense_2 (Dense)              (None, 48)                3120      \n",
      "_________________________________________________________________\n",
      "dropout_2 (Dropout)          (None, 48)                0         \n",
      "_________________________________________________________________\n",
      "dense_3 (Dense)              (None, 24)                1176      \n",
      "=================================================================\n",
      "Total params: 607,112\n",
      "Trainable params: 607,112\n",
      "Non-trainable params: 0\n",
      "_________________________________________________________________\n"
     ]
    }
   ],
   "source": [
    "input_shape=(128,1000)\n",
    "model = keras.Sequential()\n",
    "model.add(LSTM(128,input_shape=input_shape))\n",
    "model.add(Dropout(0.2))\n",
    "model.add(Dense(128, activation='relu'))\n",
    "model.add(Dense(64, activation='relu'))\n",
    "model.add(Dropout(0.4))\n",
    "model.add(Dense(48, activation='relu'))\n",
    "model.add(Dropout(0.4))\n",
    "model.add(Dense(24, activation='softmax'))\n",
    "model.summary()"
   ]
  },
  {
   "cell_type": "code",
   "execution_count": 6,
   "metadata": {
    "execution": {
     "iopub.execute_input": "2021-02-21T19:31:54.906774Z",
     "iopub.status.busy": "2021-02-21T19:31:54.903968Z",
     "iopub.status.idle": "2021-02-21T19:32:30.369971Z",
     "shell.execute_reply": "2021-02-21T19:32:30.368926Z"
    },
    "papermill": {
     "duration": 35.487215,
     "end_time": "2021-02-21T19:32:30.370120",
     "exception": false,
     "start_time": "2021-02-21T19:31:54.882905",
     "status": "completed"
    },
    "tags": []
   },
   "outputs": [
    {
     "name": "stdout",
     "output_type": "stream",
     "text": [
      "Epoch 1/50\n",
      "13/13 - 6s - loss: 3.1197 - acc: 0.0838 - val_loss: 2.9284 - val_acc: 0.1498\n",
      "Epoch 2/50\n",
      "13/13 - 1s - loss: 2.9504 - acc: 0.1164 - val_loss: 2.7076 - val_acc: 0.3257\n",
      "Epoch 3/50\n",
      "13/13 - 1s - loss: 2.7922 - acc: 0.1785 - val_loss: 2.4874 - val_acc: 0.3160\n",
      "Epoch 4/50\n",
      "13/13 - 1s - loss: 2.6191 - acc: 0.1926 - val_loss: 2.2790 - val_acc: 0.4593\n",
      "Epoch 5/50\n",
      "13/13 - 1s - loss: 2.4728 - acc: 0.2285 - val_loss: 2.0325 - val_acc: 0.5342\n",
      "Epoch 6/50\n",
      "13/13 - 1s - loss: 2.3059 - acc: 0.3134 - val_loss: 1.8279 - val_acc: 0.5505\n",
      "Epoch 7/50\n",
      "13/13 - 1s - loss: 2.1057 - acc: 0.3558 - val_loss: 1.7182 - val_acc: 0.6319\n",
      "Epoch 8/50\n",
      "13/13 - 1s - loss: 1.9436 - acc: 0.4059 - val_loss: 1.5806 - val_acc: 0.5896\n",
      "Epoch 9/50\n",
      "13/13 - 1s - loss: 1.8728 - acc: 0.4450 - val_loss: 1.4464 - val_acc: 0.6743\n",
      "Epoch 10/50\n",
      "13/13 - 1s - loss: 1.7148 - acc: 0.4973 - val_loss: 1.3549 - val_acc: 0.6906\n",
      "Epoch 11/50\n",
      "13/13 - 1s - loss: 1.6629 - acc: 0.4875 - val_loss: 1.3168 - val_acc: 0.6580\n",
      "Epoch 12/50\n",
      "13/13 - 1s - loss: 1.5774 - acc: 0.5114 - val_loss: 1.2530 - val_acc: 0.6775\n",
      "Epoch 13/50\n",
      "13/13 - 1s - loss: 1.4710 - acc: 0.5615 - val_loss: 1.1874 - val_acc: 0.6808\n",
      "Epoch 14/50\n",
      "13/13 - 1s - loss: 1.3674 - acc: 0.5822 - val_loss: 1.1143 - val_acc: 0.7329\n",
      "Epoch 15/50\n",
      "13/13 - 1s - loss: 1.3265 - acc: 0.5811 - val_loss: 1.0555 - val_acc: 0.7818\n",
      "Epoch 16/50\n",
      "13/13 - 1s - loss: 1.3011 - acc: 0.6137 - val_loss: 1.0567 - val_acc: 0.7459\n",
      "Epoch 17/50\n",
      "13/13 - 1s - loss: 1.2360 - acc: 0.6333 - val_loss: 0.9926 - val_acc: 0.7622\n",
      "Epoch 18/50\n",
      "13/13 - 1s - loss: 1.1358 - acc: 0.6540 - val_loss: 0.9358 - val_acc: 0.7980\n",
      "Epoch 19/50\n",
      "13/13 - 1s - loss: 1.0611 - acc: 0.6572 - val_loss: 0.9044 - val_acc: 0.7590\n",
      "Epoch 20/50\n",
      "13/13 - 1s - loss: 1.1150 - acc: 0.6420 - val_loss: 0.9668 - val_acc: 0.7818\n",
      "Epoch 21/50\n",
      "13/13 - 1s - loss: 1.0827 - acc: 0.6681 - val_loss: 0.9307 - val_acc: 0.7720\n",
      "Epoch 22/50\n",
      "13/13 - 1s - loss: 1.0347 - acc: 0.6703 - val_loss: 0.8993 - val_acc: 0.7720\n",
      "Epoch 23/50\n",
      "13/13 - 1s - loss: 0.9750 - acc: 0.7018 - val_loss: 0.8481 - val_acc: 0.8046\n",
      "Epoch 24/50\n",
      "13/13 - 1s - loss: 0.9782 - acc: 0.6910 - val_loss: 0.9539 - val_acc: 0.7557\n",
      "Epoch 25/50\n",
      "13/13 - 1s - loss: 0.8695 - acc: 0.7160 - val_loss: 0.9376 - val_acc: 0.7557\n",
      "Epoch 26/50\n",
      "13/13 - 1s - loss: 0.8705 - acc: 0.7225 - val_loss: 0.8563 - val_acc: 0.7915\n",
      "Epoch 27/50\n",
      "13/13 - 1s - loss: 0.8439 - acc: 0.7334 - val_loss: 0.8571 - val_acc: 0.8078\n",
      "Epoch 28/50\n",
      "13/13 - 1s - loss: 0.8824 - acc: 0.7084 - val_loss: 0.8801 - val_acc: 0.8143\n",
      "Epoch 29/50\n",
      "13/13 - 1s - loss: 0.7812 - acc: 0.7323 - val_loss: 0.8349 - val_acc: 0.8078\n",
      "Epoch 30/50\n",
      "13/13 - 1s - loss: 0.7628 - acc: 0.7367 - val_loss: 0.8483 - val_acc: 0.7980\n",
      "Epoch 31/50\n",
      "13/13 - 1s - loss: 0.7479 - acc: 0.7410 - val_loss: 0.7948 - val_acc: 0.8306\n",
      "Epoch 32/50\n",
      "13/13 - 1s - loss: 0.8204 - acc: 0.7410 - val_loss: 0.8006 - val_acc: 0.7915\n",
      "Epoch 33/50\n",
      "13/13 - 1s - loss: 0.7722 - acc: 0.7443 - val_loss: 0.8895 - val_acc: 0.7883\n",
      "Epoch 34/50\n",
      "13/13 - 1s - loss: 0.6678 - acc: 0.7791 - val_loss: 0.8897 - val_acc: 0.8111\n",
      "Epoch 35/50\n",
      "13/13 - 1s - loss: 0.6119 - acc: 0.8030 - val_loss: 0.8559 - val_acc: 0.8078\n",
      "Epoch 36/50\n",
      "13/13 - 1s - loss: 0.6293 - acc: 0.7987 - val_loss: 0.7794 - val_acc: 0.8111\n",
      "Epoch 37/50\n",
      "13/13 - 1s - loss: 0.6156 - acc: 0.7911 - val_loss: 0.8604 - val_acc: 0.8241\n",
      "Epoch 38/50\n",
      "13/13 - 1s - loss: 0.5885 - acc: 0.7878 - val_loss: 0.8732 - val_acc: 0.8143\n",
      "Epoch 39/50\n",
      "13/13 - 1s - loss: 0.5559 - acc: 0.7856 - val_loss: 0.8363 - val_acc: 0.8046\n",
      "Epoch 40/50\n",
      "13/13 - 1s - loss: 0.5662 - acc: 0.7976 - val_loss: 0.8893 - val_acc: 0.8208\n",
      "Epoch 41/50\n",
      "13/13 - 1s - loss: 0.5313 - acc: 0.8172 - val_loss: 0.8919 - val_acc: 0.8274\n",
      "Epoch 42/50\n",
      "13/13 - 1s - loss: 0.4904 - acc: 0.8259 - val_loss: 0.7897 - val_acc: 0.8143\n",
      "Epoch 43/50\n",
      "13/13 - 1s - loss: 0.4890 - acc: 0.8226 - val_loss: 0.7737 - val_acc: 0.8469\n",
      "Epoch 44/50\n",
      "13/13 - 1s - loss: 0.4575 - acc: 0.8346 - val_loss: 0.8769 - val_acc: 0.8306\n",
      "Epoch 45/50\n",
      "13/13 - 1s - loss: 0.4399 - acc: 0.8357 - val_loss: 0.7858 - val_acc: 0.8371\n",
      "Epoch 46/50\n",
      "13/13 - 1s - loss: 0.3919 - acc: 0.8629 - val_loss: 0.7980 - val_acc: 0.8143\n",
      "Epoch 47/50\n",
      "13/13 - 1s - loss: 0.4019 - acc: 0.8379 - val_loss: 0.8597 - val_acc: 0.8176\n",
      "Epoch 48/50\n",
      "13/13 - 1s - loss: 0.3746 - acc: 0.8618 - val_loss: 0.8904 - val_acc: 0.8208\n",
      "Epoch 49/50\n",
      "13/13 - 1s - loss: 0.3870 - acc: 0.8498 - val_loss: 0.8635 - val_acc: 0.8306\n",
      "Epoch 50/50\n",
      "13/13 - 1s - loss: 0.4599 - acc: 0.8390 - val_loss: 0.7645 - val_acc: 0.8404\n"
     ]
    }
   ],
   "source": [
    "model.compile(optimizer='adam',loss='SparseCategoricalCrossentropy',metrics=['acc'])\n",
    "history = model.fit(X_train[:,:,:,2], y_train, epochs=50, batch_size=72, \n",
    "                    validation_data=(X_val[:,:,:,2], y_val), verbose=2,shuffle=False)"
   ]
  },
  {
   "cell_type": "code",
   "execution_count": 7,
   "metadata": {
    "execution": {
     "iopub.execute_input": "2021-02-21T19:32:30.464032Z",
     "iopub.status.busy": "2021-02-21T19:32:30.463183Z",
     "iopub.status.idle": "2021-02-21T19:32:32.602489Z",
     "shell.execute_reply": "2021-02-21T19:32:32.603046Z"
    },
    "papermill": {
     "duration": 2.189006,
     "end_time": "2021-02-21T19:32:32.603292",
     "exception": false,
     "start_time": "2021-02-21T19:32:30.414286",
     "status": "completed"
    },
    "tags": []
   },
   "outputs": [
    {
     "name": "stdout",
     "output_type": "stream",
     "text": [
      "29/29 [==============================] - 0s 11ms/step - loss: 0.1062 - acc: 0.9641\n",
      "10/10 [==============================] - 0s 11ms/step - loss: 0.1823 - acc: 0.9342\n",
      "TrainLoss: 0.106159, Train accuracy 0.964091, TestLoss: 0.182336, Test Accuracy: 0.934211 \n",
      "Confusion_matrix:  tf.Tensor(\n",
      "[[12  0  0  0  0  0  0  0  0  0  0  0  0  0  0  0  0  0  0  0  0  0  0  0]\n",
      " [ 0 13  0  0  0  0  0  0  0  0  0  0  0  0  0  0  0  0  0  0  0  0  0  0]\n",
      " [ 0  0  9  0  0  0  0  0  0  0  0  0  0  0  0  0  0  0  0  0  0  0  0  0]\n",
      " [ 0  0  0 13  0  0  0  0  0  0  0  0  0  0  0  0  0  0  0  0  0  0  0  0]\n",
      " [ 0  0  0  0 13  0  0  0  0  0  0  0  0  0  0  0  0  0  0  0  0  0  0  0]\n",
      " [ 0  0  0  0  0 11  0  1  0  0  0  0  0  0  0  0  0  0  0  0  0  0  0  0]\n",
      " [ 0  0  0  0  0  0 12  0  0  0  0  0  0  0  0  0  0  0  0  0  0  0  0  0]\n",
      " [ 0  0  0  0  0  0  0  4  0  0  0  0  9  0  0  0  0  0  0  0  0  0  0  0]\n",
      " [ 0  0  0  0  0  0  0  0 12  0  0  0  0  0  0  0  0  0  0  0  0  0  0  0]\n",
      " [ 0  0  0  0  0  0  0  0  0  7  0  0  0  0  0  0  0  0  0  1  0  0  0  0]\n",
      " [ 0  0  0  0  0  0  0  0  0  0 13  0  0  0  0  0  0  0  0  0  0  0  0  0]\n",
      " [ 0  0  0  0  0  0  0  0  0  0  0 13  0  0  0  0  0  0  0  0  0  0  0  0]\n",
      " [ 0  0  0  0  0  0  1  2  0  0  0  0  9  0  0  0  0  0  0  0  0  0  0  0]\n",
      " [ 0  0  0  0  0  0  0  0  0  1  0  0  0 12  0  0  0  0  0  0  0  0  0  0]\n",
      " [ 0  0  0  0  0  0  0  0  0  0  0  0  0  0 13  0  0  0  0  0  0  0  0  0]\n",
      " [ 0  0  0  0  0  0  0  0  0  0  0  0  0  0  0 12  0  0  0  0  0  0  0  0]\n",
      " [ 0  0  0  0  0  0  0  0  0  0  0  0  0  0  0  0 12  0  0  0  0  0  0  0]\n",
      " [ 0  0  0  0  0  0  0  0  0  1  0  0  0  0  0  0  0 12  0  4  0  0  0  0]\n",
      " [ 0  0  0  0  0  0  0  0  0  0  0  0  0  0  0  0  0  0 13  0  0  0  0  0]\n",
      " [ 0  0  0  0  0  0  0  0  0  0  0  0  0  0  0  0  0  0  0 11  0  0  0  0]\n",
      " [ 0  0  0  0  0  0  0  0  0  0  0  0  0  0  0  0  0  0  0  0 10  0  0  0]\n",
      " [ 0  0  0  0  0  0  0  0  0  0  0  0  0  0  0  0  0  0  0  0  0 12  0  0]\n",
      " [ 0  0  0  0  0  0  0  0  0  0  0  0  0  0  0  0  0  0  0  0  0  0 11  0]\n",
      " [ 0  0  0  0  0  0  0  0  0  0  0  0  0  0  0  0  0  0  0  0  0  0  0 25]], shape=(24, 24), dtype=int32)\n"
     ]
    }
   ],
   "source": [
    "TrainLoss, Trainacc = model.evaluate(X_train[:,:,:,2],y_train)\n",
    "TestLoss, Testacc = model.evaluate(X_test[:,:,:,2], y_test)\n",
    "y_pred=model.predict(X_test[:,:,:,2])\n",
    "print('TrainLoss: %f, Train accuracy %f, TestLoss: %f, Test Accuracy: %f ' %(TrainLoss,Trainacc,TestLoss,Testacc))\n",
    "print('Confusion_matrix: ',tf.math.confusion_matrix(y_test, np.argmax(y_pred,axis=1)))"
   ]
  },
  {
   "cell_type": "code",
   "execution_count": 8,
   "metadata": {
    "execution": {
     "iopub.execute_input": "2021-02-21T19:32:32.724151Z",
     "iopub.status.busy": "2021-02-21T19:32:32.718212Z",
     "iopub.status.idle": "2021-02-21T19:32:33.040352Z",
     "shell.execute_reply": "2021-02-21T19:32:33.039530Z"
    },
    "papermill": {
     "duration": 0.391482,
     "end_time": "2021-02-21T19:32:33.040491",
     "exception": false,
     "start_time": "2021-02-21T19:32:32.649009",
     "status": "completed"
    },
    "tags": []
   },
   "outputs": [
    {
     "data": {
      "image/png": "[encoded data removed]",
      "text/plain": [
       "<Figure size 1080x360 with 2 Axes>"
      ]
     },
     "metadata": {
      "needs_background": "light"
     },
     "output_type": "display_data"
    }
   ],
   "source": [
    "history_dict=history.history\n",
    "loss_values=history_dict['loss']\n",
    "acc_values=history_dict['acc']\n",
    "val_loss_values = history_dict['val_loss']\n",
    "val_acc_values=history_dict['val_acc']\n",
    "epochs=range(1,51)\n",
    "fig,(ax1,ax2)=plt.subplots(1,2,figsize=(15,5))\n",
    "ax1.plot(epochs,loss_values,'co',label='Training Loss')\n",
    "ax1.plot(epochs,val_loss_values,'m', label='Validation Loss')\n",
    "ax1.set_title('Training and validation loss')\n",
    "ax1.set_xlabel('Epochs')\n",
    "ax1.set_ylabel('Loss')\n",
    "ax1.legend()\n",
    "ax2.plot(epochs,acc_values,'co', label='Training accuracy')\n",
    "ax2.plot(epochs,val_acc_values,'m',label='Validation accuracy')\n",
    "ax2.set_title('Training and validation accuracy')\n",
    "ax2.set_xlabel('Epochs')\n",
    "ax2.set_ylabel('Accuracy')\n",
    "ax2.legend()\n",
    "plt.show()"
   ]
  },
  {
   "cell_type": "code",
   "execution_count": 9,
   "metadata": {
    "execution": {
     "iopub.execute_input": "2021-02-21T19:32:33.141178Z",
     "iopub.status.busy": "2021-02-21T19:32:33.140523Z",
     "iopub.status.idle": "2021-02-21T19:32:33.176929Z",
     "shell.execute_reply": "2021-02-21T19:32:33.176078Z"
    },
    "papermill": {
     "duration": 0.089144,
     "end_time": "2021-02-21T19:32:33.177062",
     "exception": false,
     "start_time": "2021-02-21T19:32:33.087918",
     "status": "completed"
    },
    "tags": []
   },
   "outputs": [],
   "source": [
    "#Save model as a json file\n",
    "model_json=model.to_json()\n",
    "with open('/kaggle/working/RNNmodel.json','w') as file:\n",
    "    file.write(model_json)\n",
    "\n",
    "#save weights as an HDF5 file\n",
    "model.save_weights('/kaggle/working/RNNmodel.h5')"
   ]
  }
 ],
 "metadata": {
  "kernelspec": {
   "display_name": "Python 3",
   "language": "python",
   "name": "python3"
  },
  "language_info": {
   "codemirror_mode": {
    "name": "ipython",
    "version": 3
   },
   "file_extension": ".py",
   "mimetype": "text/x-python",
   "name": "python",
   "nbconvert_exporter": "python",
   "pygments_lexer": "ipython3",
   "version": "3.7.9"
  },
  "papermill": {
   "default_parameters": {},
   "duration": 94.807584,
   "end_time": "2021-02-21T19:32:36.077582",
   "environment_variables": {},
   "exception": null,
   "input_path": "__notebook__.ipynb",
   "output_path": "__notebook__.ipynb",
   "parameters": {},
   "start_time": "2021-02-21T19:31:01.269998",
   "version": "2.2.2"
  }
 },
 "nbformat": 4,
 "nbformat_minor": 4
}
