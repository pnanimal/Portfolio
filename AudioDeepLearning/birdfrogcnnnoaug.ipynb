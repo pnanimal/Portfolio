{
 "cells": [
  {
   "cell_type": "code",
   "execution_count": 1,
   "metadata": {
    "_cell_guid": "b1076dfc-b9ad-4769-8c92-a6c4dae69d19",
    "_uuid": "8f2839f25d086af736a60e9eeb907d3b93b6e0e5",
    "execution": {
     "iopub.execute_input": "2021-02-06T00:18:16.127271Z",
     "iopub.status.busy": "2021-02-06T00:18:16.126567Z",
     "iopub.status.idle": "2021-02-06T00:18:22.338034Z",
     "shell.execute_reply": "2021-02-06T00:18:22.336926Z"
    },
    "papermill": {
     "duration": 6.22785,
     "end_time": "2021-02-06T00:18:22.338232",
     "exception": false,
     "start_time": "2021-02-06T00:18:16.110382",
     "status": "completed"
    },
    "tags": []
   },
   "outputs": [
    {
     "name": "stdout",
     "output_type": "stream",
     "text": [
      "/kaggle/input/nanimalbirdfrogeda/test_labels.pkl\n",
      "/kaggle/input/nanimalbirdfrogeda/train_features.pkl\n",
      "/kaggle/input/nanimalbirdfrogeda/filename-noise.wav\n",
      "/kaggle/input/nanimalbirdfrogeda/filename.wav\n",
      "/kaggle/input/nanimalbirdfrogeda/__results__.html\n",
      "/kaggle/input/nanimalbirdfrogeda/train_labels.pkl\n",
      "/kaggle/input/nanimalbirdfrogeda/test_features.pkl\n",
      "/kaggle/input/nanimalbirdfrogeda/train_noOS_labels.pkl\n",
      "/kaggle/input/nanimalbirdfrogeda/train_noOS_features.pkl\n",
      "/kaggle/input/nanimalbirdfrogeda/__notebook__.ipynb\n",
      "/kaggle/input/nanimalbirdfrogeda/__output__.json\n",
      "/kaggle/input/nanimalbirdfrogeda/custom.css\n",
      "/kaggle/input/nanimalbirdfrogeda/__results___files/__results___15_0.png\n",
      "/kaggle/input/nanimalbirdfrogeda/__results___files/__results___10_0.png\n",
      "/kaggle/input/nanimalbirdfrogeda/__results___files/__results___24_0.png\n",
      "/kaggle/input/nanimalbirdfrogeda/__results___files/__results___36_0.png\n",
      "/kaggle/input/nanimalbirdfrogeda/__results___files/__results___21_0.png\n",
      "/kaggle/input/nanimalbirdfrogeda/__results___files/__results___46_0.png\n",
      "/kaggle/input/nanimalbirdfrogeda/__results___files/__results___30_0.png\n",
      "/kaggle/input/nanimalbirdfrogeda/__results___files/__results___41_0.png\n",
      "/kaggle/input/nanimalbirdfrogeda/__results___files/__results___34_0.png\n",
      "/kaggle/input/nanimalbirdfrogeda/__results___files/__results___18_0.png\n",
      "/kaggle/input/nanimalbirdfrogeda/__results___files/__results___32_0.png\n",
      "/kaggle/input/nanimalbirdfrogeda/__results___files/__results___26_0.png\n",
      "/kaggle/input/nanimalbirdfrogeda/__results___files/__results___28_0.png\n"
     ]
    }
   ],
   "source": [
    "import numpy as np # linear algebra\n",
    "import pandas as pd # data processing, CSV file I/O (e.g. pd.read_csv)\n",
    "import os\n",
    "for dirname, _, filenames in os.walk('/kaggle/input'):\n",
    "    for filename in filenames:\n",
    "        print(os.path.join(dirname, filename))\n",
    "import pickle\n",
    "import joblib\n",
    "from sklearn.preprocessing import normalize\n",
    "from sklearn import preprocessing\n",
    "from sklearn.ensemble import RandomForestClassifier \n",
    "from sklearn.metrics import accuracy_score, confusion_matrix, classification_report\n",
    "from sklearn import preprocessing\n",
    "from sklearn.model_selection import train_test_split\n",
    "import tensorflow as tf\n",
    "import tensorflow_datasets as tfds\n",
    "from tensorflow.keras.layers import Dropout,Dense,Input,Conv2D, MaxPooling2D\n",
    "from tensorflow.keras import models, layers\n",
    "from tensorflow.keras.models import Sequential\n",
    "from tensorflow.keras.optimizers import Adam\n",
    "import matplotlib.pyplot as plt"
   ]
  },
  {
   "cell_type": "markdown",
   "metadata": {
    "papermill": {
     "duration": 0.008872,
     "end_time": "2021-02-06T00:18:22.356384",
     "exception": false,
     "start_time": "2021-02-06T00:18:22.347512",
     "status": "completed"
    },
    "tags": []
   },
   "source": [
    "# Training with augmentation"
   ]
  },
  {
   "cell_type": "code",
   "execution_count": 2,
   "metadata": {
    "execution": {
     "iopub.execute_input": "2021-02-06T00:18:22.376472Z",
     "iopub.status.busy": "2021-02-06T00:18:22.375982Z",
     "iopub.status.idle": "2021-02-06T00:19:01.091007Z",
     "shell.execute_reply": "2021-02-06T00:19:01.091587Z"
    },
    "papermill": {
     "duration": 38.727193,
     "end_time": "2021-02-06T00:19:01.091793",
     "exception": false,
     "start_time": "2021-02-06T00:18:22.364600",
     "status": "completed"
    },
    "tags": []
   },
   "outputs": [
    {
     "name": "stdout",
     "output_type": "stream",
     "text": [
      "(1226, 128, 1000, 3) (304, 128, 1000, 3)\n"
     ]
    }
   ],
   "source": [
    "X_train = joblib.load('/kaggle/input/nanimalbirdfrogeda/train_features.pkl')\n",
    "X_test = joblib.load('/kaggle/input/nanimalbirdfrogeda/test_features.pkl')\n",
    "print(X_train.shape,X_test.shape)"
   ]
  },
  {
   "cell_type": "code",
   "execution_count": 3,
   "metadata": {
    "execution": {
     "iopub.execute_input": "2021-02-06T00:19:01.114968Z",
     "iopub.status.busy": "2021-02-06T00:19:01.114410Z",
     "iopub.status.idle": "2021-02-06T00:19:02.513389Z",
     "shell.execute_reply": "2021-02-06T00:19:02.514003Z"
    },
    "papermill": {
     "duration": 1.412686,
     "end_time": "2021-02-06T00:19:02.514205",
     "exception": false,
     "start_time": "2021-02-06T00:19:01.101519",
     "status": "completed"
    },
    "tags": []
   },
   "outputs": [
    {
     "name": "stdout",
     "output_type": "stream",
     "text": [
      "(919, 128, 1000, 3) (919,) (304, 128, 1000, 3) (304,) (307, 128, 1000, 3) (307,)\n"
     ]
    }
   ],
   "source": [
    "y_train = np.array(joblib.load('/kaggle/input/nanimalbirdfrogeda/train_labels.pkl'))\n",
    "y_test = np.array(joblib.load('/kaggle/input/nanimalbirdfrogeda/test_labels.pkl'))\n",
    "X_train, X_val, y_train, y_val = train_test_split(X_train, y_train, test_size=0.25, random_state=123)\n",
    "print(X_train.shape, y_train.shape,X_test.shape, y_test.shape,X_val.shape, y_val.shape)"
   ]
  },
  {
   "cell_type": "code",
   "execution_count": 4,
   "metadata": {
    "execution": {
     "iopub.execute_input": "2021-02-06T00:19:02.538548Z",
     "iopub.status.busy": "2021-02-06T00:19:02.537986Z",
     "iopub.status.idle": "2021-02-06T00:19:02.755450Z",
     "shell.execute_reply": "2021-02-06T00:19:02.755898Z"
    },
    "papermill": {
     "duration": 0.231924,
     "end_time": "2021-02-06T00:19:02.756061",
     "exception": false,
     "start_time": "2021-02-06T00:19:02.524137",
     "status": "completed"
    },
    "tags": []
   },
   "outputs": [
    {
     "data": {
      "image/png": "[encoded data removed]",
      "text/plain": [
       "<Figure size 1080x360 with 1 Axes>"
      ]
     },
     "metadata": {
      "needs_background": "light"
     },
     "output_type": "display_data"
    }
   ],
   "source": [
    "unique, counts = np.unique(np.concatenate((y_train,y_val)),return_counts=True)\n",
    "values=dict(zip(unique,counts))\n",
    "fig, ax = plt.subplots(figsize=(15,5))\n",
    "barlist=plt.bar(values.keys(),values.values(), label='Minority samples')\n",
    "plt.xlabel('Species ID', fontsize=17)\n",
    "plt.ylabel('Number of audio recordings', fontsize=17)\n",
    "plt.title('Number of Training Samples with augmentation', fontsize=20)\n",
    "plt.show()"
   ]
  },
  {
   "cell_type": "code",
   "execution_count": 5,
   "metadata": {
    "execution": {
     "iopub.execute_input": "2021-02-06T00:19:02.942223Z",
     "iopub.status.busy": "2021-02-06T00:19:02.941314Z",
     "iopub.status.idle": "2021-02-06T00:19:02.945361Z",
     "shell.execute_reply": "2021-02-06T00:19:02.944956Z"
    },
    "papermill": {
     "duration": 0.179358,
     "end_time": "2021-02-06T00:19:02.945492",
     "exception": false,
     "start_time": "2021-02-06T00:19:02.766134",
     "status": "completed"
    },
    "tags": []
   },
   "outputs": [
    {
     "data": {
      "text/plain": [
       "42"
      ]
     },
     "execution_count": 5,
     "metadata": {},
     "output_type": "execute_result"
    }
   ],
   "source": [
    "#Clean up files to free enough memory to run CNN without augmentation\n",
    "import gc\n",
    "del X_train, X_test, y_train, y_test, X_val, y_val\n",
    "gc.collect()"
   ]
  },
  {
   "cell_type": "markdown",
   "metadata": {
    "papermill": {
     "duration": 0.010042,
     "end_time": "2021-02-06T00:19:02.965909",
     "exception": false,
     "start_time": "2021-02-06T00:19:02.955867",
     "status": "completed"
    },
    "tags": []
   },
   "source": [
    "# Training without augmentation"
   ]
  },
  {
   "cell_type": "code",
   "execution_count": 6,
   "metadata": {
    "execution": {
     "iopub.execute_input": "2021-02-06T00:19:02.991036Z",
     "iopub.status.busy": "2021-02-06T00:19:02.990428Z",
     "iopub.status.idle": "2021-02-06T00:19:33.410822Z",
     "shell.execute_reply": "2021-02-06T00:19:33.411906Z"
    },
    "papermill": {
     "duration": 30.435668,
     "end_time": "2021-02-06T00:19:33.412204",
     "exception": false,
     "start_time": "2021-02-06T00:19:02.976536",
     "status": "completed"
    },
    "tags": []
   },
   "outputs": [
    {
     "name": "stdout",
     "output_type": "stream",
     "text": [
      "(912, 128, 1000, 3) (304, 128, 1000, 3)\n"
     ]
    }
   ],
   "source": [
    "X_train_noOS = joblib.load('/kaggle/input/nanimalbirdfrogeda/train_noOS_features.pkl')\n",
    "X_test = joblib.load('/kaggle/input/nanimalbirdfrogeda/test_features.pkl')\n",
    "print(X_train_noOS.shape,X_test.shape)"
   ]
  },
  {
   "cell_type": "code",
   "execution_count": 7,
   "metadata": {
    "execution": {
     "iopub.execute_input": "2021-02-06T00:19:33.454488Z",
     "iopub.status.busy": "2021-02-06T00:19:33.453701Z",
     "iopub.status.idle": "2021-02-06T00:19:34.471003Z",
     "shell.execute_reply": "2021-02-06T00:19:34.470282Z"
    },
    "papermill": {
     "duration": 1.040677,
     "end_time": "2021-02-06T00:19:34.471131",
     "exception": false,
     "start_time": "2021-02-06T00:19:33.430454",
     "status": "completed"
    },
    "tags": []
   },
   "outputs": [
    {
     "name": "stdout",
     "output_type": "stream",
     "text": [
      "(684, 128, 1000, 3) (684,) (304, 128, 1000, 3) (304,) (228, 128, 1000, 3) (228,)\n"
     ]
    }
   ],
   "source": [
    "y_train_noOS = np.array(joblib.load('/kaggle/input/nanimalbirdfrogeda/train_noOS_labels.pkl'))\n",
    "y_test = np.array(joblib.load('/kaggle/input/nanimalbirdfrogeda/test_labels.pkl'))\n",
    "X_train_noOS, X_val_noOS, y_train_noOS, y_val_noOS = train_test_split(X_train_noOS, y_train_noOS, test_size=0.25, random_state=123)\n",
    "print(X_train_noOS.shape, y_train_noOS.shape,X_test.shape, y_test.shape,X_val_noOS.shape, y_val_noOS.shape)"
   ]
  },
  {
   "cell_type": "code",
   "execution_count": 8,
   "metadata": {
    "execution": {
     "iopub.execute_input": "2021-02-06T00:19:34.513001Z",
     "iopub.status.busy": "2021-02-06T00:19:34.498532Z",
     "iopub.status.idle": "2021-02-06T00:19:34.667204Z",
     "shell.execute_reply": "2021-02-06T00:19:34.667595Z"
    },
    "papermill": {
     "duration": 0.185554,
     "end_time": "2021-02-06T00:19:34.667741",
     "exception": false,
     "start_time": "2021-02-06T00:19:34.482187",
     "status": "completed"
    },
    "tags": []
   },
   "outputs": [
    {
     "data": {
      "image/png": "[encoded data removed]",
      "text/plain": [
       "<Figure size 1080x360 with 1 Axes>"
      ]
     },
     "metadata": {
      "needs_background": "light"
     },
     "output_type": "display_data"
    }
   ],
   "source": [
    "unique, counts = np.unique(np.concatenate((y_train_noOS,y_val_noOS)),return_counts=True)\n",
    "values=dict(zip(unique,counts))\n",
    "fig, ax = plt.subplots(figsize=(15,5))\n",
    "barlist=plt.bar(values.keys(),values.values(), label='Minority samples')\n",
    "plt.xlabel('Species ID', fontsize=17)\n",
    "plt.ylabel('Number of audio recordings', fontsize=17)\n",
    "plt.title('Number of Training Samples without augmentation', fontsize=20)\n",
    "plt.show()"
   ]
  },
  {
   "cell_type": "markdown",
   "metadata": {
    "papermill": {
     "duration": 0.011739,
     "end_time": "2021-02-06T00:19:34.692227",
     "exception": false,
     "start_time": "2021-02-06T00:19:34.680488",
     "status": "completed"
    },
    "tags": []
   },
   "source": [
    "# CNN performs converges more quickly without augmentation, but to the same degree of accuracy. However, this data may be less robust in the presence of unseen data."
   ]
  },
  {
   "cell_type": "code",
   "execution_count": 9,
   "metadata": {
    "execution": {
     "iopub.execute_input": "2021-02-06T00:19:34.723091Z",
     "iopub.status.busy": "2021-02-06T00:19:34.722498Z",
     "iopub.status.idle": "2021-02-06T00:19:37.631872Z",
     "shell.execute_reply": "2021-02-06T00:19:37.631170Z"
    },
    "papermill": {
     "duration": 2.927999,
     "end_time": "2021-02-06T00:19:37.632064",
     "exception": false,
     "start_time": "2021-02-06T00:19:34.704065",
     "status": "completed"
    },
    "tags": []
   },
   "outputs": [
    {
     "name": "stdout",
     "output_type": "stream",
     "text": [
      "Model: \"sequential\"\n",
      "_________________________________________________________________\n",
      "Layer (type)                 Output Shape              Param #   \n",
      "=================================================================\n",
      "conv2d (Conv2D)              (None, 126, 998, 32)      896       \n",
      "_________________________________________________________________\n",
      "max_pooling2d (MaxPooling2D) (None, 63, 499, 32)       0         \n",
      "_________________________________________________________________\n",
      "dropout (Dropout)            (None, 63, 499, 32)       0         \n",
      "_________________________________________________________________\n",
      "conv2d_1 (Conv2D)            (None, 61, 497, 64)       18496     \n",
      "_________________________________________________________________\n",
      "max_pooling2d_1 (MaxPooling2 (None, 30, 248, 64)       0         \n",
      "_________________________________________________________________\n",
      "dropout_1 (Dropout)          (None, 30, 248, 64)       0         \n",
      "_________________________________________________________________\n",
      "conv2d_2 (Conv2D)            (None, 28, 246, 64)       36928     \n",
      "_________________________________________________________________\n",
      "flatten (Flatten)            (None, 440832)            0         \n",
      "_________________________________________________________________\n",
      "dense (Dense)                (None, 64)                28213312  \n",
      "_________________________________________________________________\n",
      "dropout_2 (Dropout)          (None, 64)                0         \n",
      "_________________________________________________________________\n",
      "dense_1 (Dense)              (None, 32)                2080      \n",
      "_________________________________________________________________\n",
      "dense_2 (Dense)              (None, 24)                792       \n",
      "=================================================================\n",
      "Total params: 28,272,504\n",
      "Trainable params: 28,272,504\n",
      "Non-trainable params: 0\n",
      "_________________________________________________________________\n"
     ]
    }
   ],
   "source": [
    "input_shape=(128,1000,3)\n",
    "CNNmodel = models.Sequential()\n",
    "CNNmodel.add(layers.Conv2D(32, (3, 3), activation='relu', input_shape=input_shape))\n",
    "CNNmodel.add(layers.MaxPooling2D((2, 2)))\n",
    "CNNmodel.add(layers.Dropout(0.2))\n",
    "CNNmodel.add(layers.Conv2D(64, (3, 3), activation='relu'))\n",
    "CNNmodel.add(layers.MaxPooling2D((2, 2)))\n",
    "CNNmodel.add(layers.Dropout(0.2))\n",
    "CNNmodel.add(layers.Conv2D(64, (3, 3), activation='relu'))\n",
    "CNNmodel.add(layers.Flatten())\n",
    "CNNmodel.add(layers.Dense(64, activation='relu'))\n",
    "CNNmodel.add(layers.Dropout(0.2))\n",
    "CNNmodel.add(layers.Dense(32, activation='relu'))\n",
    "CNNmodel.add(layers.Dense(24, activation='softmax'))\n",
    "CNNmodel.summary()"
   ]
  },
  {
   "cell_type": "markdown",
   "metadata": {
    "papermill": {
     "duration": 0.012406,
     "end_time": "2021-02-06T00:19:37.657326",
     "exception": false,
     "start_time": "2021-02-06T00:19:37.644920",
     "status": "completed"
    },
    "tags": []
   },
   "source": [
    "# CNN without augmentation"
   ]
  },
  {
   "cell_type": "code",
   "execution_count": 10,
   "metadata": {
    "execution": {
     "iopub.execute_input": "2021-02-06T00:19:37.692072Z",
     "iopub.status.busy": "2021-02-06T00:19:37.686779Z",
     "iopub.status.idle": "2021-02-06T00:20:26.694634Z",
     "shell.execute_reply": "2021-02-06T00:20:26.693971Z"
    },
    "papermill": {
     "duration": 49.025296,
     "end_time": "2021-02-06T00:20:26.694807",
     "exception": false,
     "start_time": "2021-02-06T00:19:37.669511",
     "status": "completed"
    },
    "tags": []
   },
   "outputs": [
    {
     "name": "stdout",
     "output_type": "stream",
     "text": [
      "Epoch 1/20\n",
      "22/22 [==============================] - 7s 151ms/step - loss: 12.3222 - accuracy: 0.1404 - val_loss: 1.6817 - val_accuracy: 0.5482\n",
      "Epoch 2/20\n",
      "22/22 [==============================] - 2s 95ms/step - loss: 1.5499 - accuracy: 0.5509 - val_loss: 0.9374 - val_accuracy: 0.7456\n",
      "Epoch 3/20\n",
      "22/22 [==============================] - 2s 96ms/step - loss: 0.8296 - accuracy: 0.7534 - val_loss: 0.3902 - val_accuracy: 0.9298\n",
      "Epoch 4/20\n",
      "22/22 [==============================] - 2s 100ms/step - loss: 0.5979 - accuracy: 0.8025 - val_loss: 0.2017 - val_accuracy: 0.9298\n",
      "Epoch 5/20\n",
      "22/22 [==============================] - 2s 98ms/step - loss: 0.2509 - accuracy: 0.9275 - val_loss: 0.1266 - val_accuracy: 0.9430\n",
      "Epoch 6/20\n",
      "22/22 [==============================] - 2s 92ms/step - loss: 0.2389 - accuracy: 0.9305 - val_loss: 0.0890 - val_accuracy: 0.9518\n",
      "Epoch 7/20\n",
      "22/22 [==============================] - 2s 100ms/step - loss: 0.1705 - accuracy: 0.9269 - val_loss: 0.0843 - val_accuracy: 0.9430\n",
      "Epoch 8/20\n",
      "22/22 [==============================] - 2s 95ms/step - loss: 0.1486 - accuracy: 0.9344 - val_loss: 0.0852 - val_accuracy: 0.9430\n",
      "Epoch 9/20\n",
      "22/22 [==============================] - 2s 103ms/step - loss: 0.1628 - accuracy: 0.9414 - val_loss: 0.0748 - val_accuracy: 0.9737\n",
      "Epoch 10/20\n",
      "22/22 [==============================] - 2s 96ms/step - loss: 0.1451 - accuracy: 0.9523 - val_loss: 0.0741 - val_accuracy: 0.9518\n",
      "Epoch 11/20\n",
      "22/22 [==============================] - 2s 93ms/step - loss: 0.1513 - accuracy: 0.9446 - val_loss: 0.0753 - val_accuracy: 0.9825\n",
      "Epoch 12/20\n",
      "22/22 [==============================] - 2s 98ms/step - loss: 0.1356 - accuracy: 0.9495 - val_loss: 0.0872 - val_accuracy: 0.9518\n",
      "Epoch 13/20\n",
      "22/22 [==============================] - 2s 102ms/step - loss: 0.1212 - accuracy: 0.9365 - val_loss: 0.0770 - val_accuracy: 0.9430\n",
      "Epoch 14/20\n",
      "22/22 [==============================] - 2s 108ms/step - loss: 0.1013 - accuracy: 0.9683 - val_loss: 0.0759 - val_accuracy: 0.9518\n",
      "Epoch 15/20\n",
      "22/22 [==============================] - 2s 97ms/step - loss: 0.1019 - accuracy: 0.9497 - val_loss: 0.0762 - val_accuracy: 0.9430\n",
      "Epoch 16/20\n",
      "22/22 [==============================] - 2s 94ms/step - loss: 0.0943 - accuracy: 0.9561 - val_loss: 0.0763 - val_accuracy: 0.9430\n",
      "Epoch 17/20\n",
      "22/22 [==============================] - 2s 95ms/step - loss: 0.1037 - accuracy: 0.9509 - val_loss: 0.0736 - val_accuracy: 0.9430\n",
      "Epoch 18/20\n",
      "22/22 [==============================] - 2s 96ms/step - loss: 0.0788 - accuracy: 0.9671 - val_loss: 0.0714 - val_accuracy: 0.9518\n",
      "Epoch 19/20\n",
      "22/22 [==============================] - 2s 102ms/step - loss: 0.0794 - accuracy: 0.9548 - val_loss: 0.0668 - val_accuracy: 0.9518\n",
      "Epoch 20/20\n",
      "22/22 [==============================] - 2s 95ms/step - loss: 0.0776 - accuracy: 0.9699 - val_loss: 0.0748 - val_accuracy: 0.9430\n"
     ]
    }
   ],
   "source": [
    "CNNmodel.compile(optimizer='adam',\n",
    "              loss=tf.keras.losses.SparseCategoricalCrossentropy(from_logits=False),\n",
    "              metrics=['accuracy'])\n",
    "\n",
    "history = CNNmodel.fit(X_train_noOS, y_train_noOS, epochs=20, \n",
    "                    validation_data=(X_val_noOS, y_val_noOS))"
   ]
  },
  {
   "cell_type": "code",
   "execution_count": 11,
   "metadata": {
    "execution": {
     "iopub.execute_input": "2021-02-06T00:20:26.949166Z",
     "iopub.status.busy": "2021-02-06T00:20:26.948180Z",
     "iopub.status.idle": "2021-02-06T00:20:31.543446Z",
     "shell.execute_reply": "2021-02-06T00:20:31.544050Z"
    },
    "papermill": {
     "duration": 4.725245,
     "end_time": "2021-02-06T00:20:31.544244",
     "exception": false,
     "start_time": "2021-02-06T00:20:26.818999",
     "status": "completed"
    },
    "tags": []
   },
   "outputs": [
    {
     "name": "stdout",
     "output_type": "stream",
     "text": [
      "22/22 [==============================] - 1s 38ms/step - loss: 0.0500 - accuracy: 0.9649\n",
      "10/10 [==============================] - 0s 43ms/step - loss: 0.2115 - accuracy: 0.9507\n",
      "TrainLoss: 0.050030, Train accuracy 0.964912, TestLoss: 0.211460, Test Accuracy: 0.950658 \n",
      "Confusion_matrix:  tf.Tensor(\n",
      "[[12  0  0  0  0  0  0  0  0  0  0  0  0  0  0  0  0  0  0  0  0  0  0  0]\n",
      " [ 0 13  0  0  0  0  0  0  0  0  0  0  0  0  0  0  0  0  0  0  0  0  0  0]\n",
      " [ 0  0  9  0  0  0  0  0  0  0  0  0  0  0  0  0  0  0  0  0  0  0  0  0]\n",
      " [ 0  0  0 13  0  0  0  0  0  0  0  0  0  0  0  0  0  0  0  0  0  0  0  0]\n",
      " [ 0  0  0  0 13  0  0  0  0  0  0  0  0  0  0  0  0  0  0  0  0  0  0  0]\n",
      " [ 0  0  0  0  0 11  0  0  0  0  0  0  1  0  0  0  0  0  0  0  0  0  0  0]\n",
      " [ 0  0  0  0  0  0 12  0  0  0  0  0  0  0  0  0  0  0  0  0  0  0  0  0]\n",
      " [ 0  0  0  0  0  0  0  0  0  0  0  0 13  0  0  0  0  0  0  0  0  0  0  0]\n",
      " [ 0  0  0  0  0  0  0  0 12  0  0  0  0  0  0  0  0  0  0  0  0  0  0  0]\n",
      " [ 0  0  0  0  0  0  0  0  0  8  0  0  0  0  0  0  0  0  0  0  0  0  0  0]\n",
      " [ 0  0  0  0  0  0  0  0  0  0 13  0  0  0  0  0  0  0  0  0  0  0  0  0]\n",
      " [ 0  0  0  0  0  0  0  0  0  0  0 13  0  0  0  0  0  0  0  0  0  0  0  0]\n",
      " [ 0  0  0  0  0  0  0  0  0  0  0  0 12  0  0  0  0  0  0  0  0  0  0  0]\n",
      " [ 0  0  0  0  0  0  0  0  0  0  0  0  0 12  0  0  0  1  0  0  0  0  0  0]\n",
      " [ 0  0  0  0  0  0  0  0  0  0  0  0  0  0 13  0  0  0  0  0  0  0  0  0]\n",
      " [ 0  0  0  0  0  0  0  0  0  0  0  0  0  0  0 12  0  0  0  0  0  0  0  0]\n",
      " [ 0  0  0  0  0  0  0  0  0  0  0  0  0  0  0  0 12  0  0  0  0  0  0  0]\n",
      " [ 0  0  0  0  0  0  0  0  0  0  0  0  0  0  0  0  0 17  0  0  0  0  0  0]\n",
      " [ 0  0  0  0  0  0  0  0  0  0  0  0  0  0  0  0  0  0 13  0  0  0  0  0]\n",
      " [ 0  0  0  0  0  0  0  0  0  0  0  0  0  0  0  0  0  0  0 11  0  0  0  0]\n",
      " [ 0  0  0  0  0  0  0  0  0  0  0  0  0  0  0  0  0  0  0  0 10  0  0  0]\n",
      " [ 0  0  0  0  0  0  0  0  0  0  0  0  0  0  0  0  0  0  0  0  0 12  0  0]\n",
      " [ 0  0  0  0  0  0  0  0  0  0  0  0  0  0  0  0  0  0  0  0  0  0 11  0]\n",
      " [ 0  0  0  0  0  0  0  0  0  0  0  0  0  0  0  0  0  0  0  0  0  0  0 25]], shape=(24, 24), dtype=int32)\n"
     ]
    }
   ],
   "source": [
    "TrainLoss, Trainacc = CNNmodel.evaluate(X_train_noOS,y_train_noOS)\n",
    "TestLoss, Testacc = CNNmodel.evaluate(X_test, y_test)\n",
    "y_pred=CNNmodel.predict(X_test)\n",
    "print('TrainLoss: %f, Train accuracy %f, TestLoss: %f, Test Accuracy: %f ' %(TrainLoss,Trainacc,TestLoss,Testacc))\n",
    "print('Confusion_matrix: ',tf.math.confusion_matrix(y_test, np.argmax(y_pred,axis=1)))"
   ]
  },
  {
   "cell_type": "code",
   "execution_count": 12,
   "metadata": {
    "execution": {
     "iopub.execute_input": "2021-02-06T00:20:31.823365Z",
     "iopub.status.busy": "2021-02-06T00:20:31.822527Z",
     "iopub.status.idle": "2021-02-06T00:20:32.129121Z",
     "shell.execute_reply": "2021-02-06T00:20:32.129540Z"
    },
    "papermill": {
     "duration": 0.4577,
     "end_time": "2021-02-06T00:20:32.129707",
     "exception": false,
     "start_time": "2021-02-06T00:20:31.672007",
     "status": "completed"
    },
    "tags": []
   },
   "outputs": [
    {
     "data": {
      "image/png": "[encoded data removed]",
      "text/plain": [
       "<Figure size 1080x360 with 2 Axes>"
      ]
     },
     "metadata": {
      "needs_background": "light"
     },
     "output_type": "display_data"
    }
   ],
   "source": [
    "history_dict=history.history\n",
    "loss_values=history_dict['loss']\n",
    "acc_values=history_dict['accuracy']\n",
    "val_loss_values = history_dict['val_loss']\n",
    "val_acc_values=history_dict['val_accuracy']\n",
    "epochs=range(1,21)\n",
    "fig,(ax1,ax2)=plt.subplots(1,2,figsize=(15,5))\n",
    "ax1.plot(epochs,loss_values,'bo',label='Training Loss')\n",
    "ax1.plot(epochs,val_loss_values,'orange', label='Validation Loss')\n",
    "ax1.set_title('Training and validation loss')\n",
    "ax1.set_xlabel('Epochs')\n",
    "ax1.set_ylabel('Loss')\n",
    "ax1.legend()\n",
    "ax2.plot(epochs,acc_values,'bo', label='Training accuracy')\n",
    "ax2.plot(epochs,val_acc_values,'orange',label='Validation accuracy')\n",
    "ax2.set_title('Training and validation accuracy')\n",
    "ax2.set_xlabel('Epochs')\n",
    "ax2.set_ylabel('Accuracy')\n",
    "ax2.legend()\n",
    "plt.show()"
   ]
  }
 ],
 "metadata": {
  "kernelspec": {
   "display_name": "Python 3",
   "language": "python",
   "name": "python3"
  },
  "language_info": {
   "codemirror_mode": {
    "name": "ipython",
    "version": 3
   },
   "file_extension": ".py",
   "mimetype": "text/x-python",
   "name": "python",
   "nbconvert_exporter": "python",
   "pygments_lexer": "ipython3",
   "version": "3.7.9"
  },
  "papermill": {
   "default_parameters": {},
   "duration": 143.725149,
   "end_time": "2021-02-06T00:20:34.943808",
   "environment_variables": {},
   "exception": null,
   "input_path": "__notebook__.ipynb",
   "output_path": "__notebook__.ipynb",
   "parameters": {},
   "start_time": "2021-02-06T00:18:11.218659",
   "version": "2.2.2"
  }
 },
 "nbformat": 4,
 "nbformat_minor": 4
}
