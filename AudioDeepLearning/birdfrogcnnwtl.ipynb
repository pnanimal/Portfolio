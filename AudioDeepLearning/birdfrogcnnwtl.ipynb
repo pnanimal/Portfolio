{
 "cells": [
  {
   "cell_type": "code",
   "execution_count": 1,
   "metadata": {
    "_cell_guid": "b1076dfc-b9ad-4769-8c92-a6c4dae69d19",
    "_uuid": "8f2839f25d086af736a60e9eeb907d3b93b6e0e5",
    "execution": {
     "iopub.execute_input": "2021-02-05T23:55:25.905556Z",
     "iopub.status.busy": "2021-02-05T23:55:25.904994Z",
     "iopub.status.idle": "2021-02-05T23:55:32.191020Z",
     "shell.execute_reply": "2021-02-05T23:55:32.191836Z"
    },
    "papermill": {
     "duration": 6.302192,
     "end_time": "2021-02-05T23:55:32.192214",
     "exception": false,
     "start_time": "2021-02-05T23:55:25.890022",
     "status": "completed"
    },
    "tags": []
   },
   "outputs": [
    {
     "name": "stdout",
     "output_type": "stream",
     "text": [
      "/kaggle/input/nanimalbirdfrogeda/test_labels.pkl\n",
      "/kaggle/input/nanimalbirdfrogeda/train_features.pkl\n",
      "/kaggle/input/nanimalbirdfrogeda/filename-noise.wav\n",
      "/kaggle/input/nanimalbirdfrogeda/filename.wav\n",
      "/kaggle/input/nanimalbirdfrogeda/__results__.html\n",
      "/kaggle/input/nanimalbirdfrogeda/train_labels.pkl\n",
      "/kaggle/input/nanimalbirdfrogeda/test_features.pkl\n",
      "/kaggle/input/nanimalbirdfrogeda/train_noOS_labels.pkl\n",
      "/kaggle/input/nanimalbirdfrogeda/train_noOS_features.pkl\n",
      "/kaggle/input/nanimalbirdfrogeda/__notebook__.ipynb\n",
      "/kaggle/input/nanimalbirdfrogeda/__output__.json\n",
      "/kaggle/input/nanimalbirdfrogeda/custom.css\n",
      "/kaggle/input/nanimalbirdfrogeda/__results___files/__results___15_0.png\n",
      "/kaggle/input/nanimalbirdfrogeda/__results___files/__results___10_0.png\n",
      "/kaggle/input/nanimalbirdfrogeda/__results___files/__results___24_0.png\n",
      "/kaggle/input/nanimalbirdfrogeda/__results___files/__results___36_0.png\n",
      "/kaggle/input/nanimalbirdfrogeda/__results___files/__results___21_0.png\n",
      "/kaggle/input/nanimalbirdfrogeda/__results___files/__results___46_0.png\n",
      "/kaggle/input/nanimalbirdfrogeda/__results___files/__results___30_0.png\n",
      "/kaggle/input/nanimalbirdfrogeda/__results___files/__results___41_0.png\n",
      "/kaggle/input/nanimalbirdfrogeda/__results___files/__results___34_0.png\n",
      "/kaggle/input/nanimalbirdfrogeda/__results___files/__results___18_0.png\n",
      "/kaggle/input/nanimalbirdfrogeda/__results___files/__results___32_0.png\n",
      "/kaggle/input/nanimalbirdfrogeda/__results___files/__results___26_0.png\n",
      "/kaggle/input/nanimalbirdfrogeda/__results___files/__results___28_0.png\n"
     ]
    }
   ],
   "source": [
    "# This Python 3 environment comes with many helpful analytics libraries installed\n",
    "# It is defined by the kaggle/python Docker image: https://github.com/kaggle/docker-python\n",
    "# For example, here's several helpful packages to load\n",
    "\n",
    "import numpy as np # linear algebra\n",
    "import pandas as pd # data processing, CSV file I/O (e.g. pd.read_csv)\n",
    "\n",
    "# Input data files are available in the read-only \"../input/\" directory\n",
    "# For example, running this (by clicking run or pressing Shift+Enter) will list all files under the input directory\n",
    "\n",
    "import os\n",
    "for dirname, _, filenames in os.walk('/kaggle/input'):\n",
    "    for filename in filenames:\n",
    "        print(os.path.join(dirname, filename))\n",
    "import pickle\n",
    "import joblib\n",
    "from sklearn.preprocessing import normalize\n",
    "from sklearn import preprocessing\n",
    "from sklearn.ensemble import RandomForestClassifier \n",
    "from sklearn.metrics import accuracy_score, confusion_matrix, classification_report\n",
    "from sklearn import preprocessing\n",
    "from sklearn.model_selection import train_test_split\n",
    "import tensorflow as tf\n",
    "import tensorflow_datasets as tfds\n",
    "from tensorflow.keras.layers import Dropout, Flatten, Dense, Input, Conv2D, MaxPooling2D\n",
    "from tensorflow.keras import models, layers, Model\n",
    "from tensorflow.keras.optimizers import Adam\n",
    "import matplotlib.pyplot as plt\n",
    "from tensorflow.keras.applications import vgg16\n",
    "# You can write up to 20GB to the current directory (/kaggle/working/) that gets preserved as output when you create a version using \"Save & Run All\" \n",
    "# You can also write temporary files to /kaggle/temp/, but they won't be saved outside of the current session"
   ]
  },
  {
   "cell_type": "code",
   "execution_count": 2,
   "metadata": {
    "execution": {
     "iopub.execute_input": "2021-02-05T23:55:32.222040Z",
     "iopub.status.busy": "2021-02-05T23:55:32.221191Z",
     "iopub.status.idle": "2021-02-05T23:56:08.242841Z",
     "shell.execute_reply": "2021-02-05T23:56:08.243371Z"
    },
    "papermill": {
     "duration": 36.038711,
     "end_time": "2021-02-05T23:56:08.243631",
     "exception": false,
     "start_time": "2021-02-05T23:55:32.204920",
     "status": "completed"
    },
    "tags": []
   },
   "outputs": [
    {
     "name": "stdout",
     "output_type": "stream",
     "text": [
      "(1226, 128, 1000, 3) (304, 128, 1000, 3)\n"
     ]
    }
   ],
   "source": [
    "X_train = joblib.load('/kaggle/input/nanimalbirdfrogeda/train_features.pkl')\n",
    "X_test = joblib.load('/kaggle/input/nanimalbirdfrogeda/test_features.pkl')\n",
    "print(X_train.shape,X_test.shape)"
   ]
  },
  {
   "cell_type": "code",
   "execution_count": 3,
   "metadata": {
    "execution": {
     "iopub.execute_input": "2021-02-05T23:56:08.263637Z",
     "iopub.status.busy": "2021-02-05T23:56:08.263093Z",
     "iopub.status.idle": "2021-02-05T23:56:09.685034Z",
     "shell.execute_reply": "2021-02-05T23:56:09.684584Z"
    },
    "papermill": {
     "duration": 1.43341,
     "end_time": "2021-02-05T23:56:09.685160",
     "exception": false,
     "start_time": "2021-02-05T23:56:08.251750",
     "status": "completed"
    },
    "tags": []
   },
   "outputs": [
    {
     "name": "stdout",
     "output_type": "stream",
     "text": [
      "(919, 128, 1000, 3) (919,) (304, 128, 1000, 3) (304,) (307, 128, 1000, 3) (307,)\n"
     ]
    }
   ],
   "source": [
    "y_train = np.array(joblib.load('/kaggle/input/nanimalbirdfrogeda/train_labels.pkl'))\n",
    "y_test = np.array(joblib.load('/kaggle/input/nanimalbirdfrogeda/test_labels.pkl'))\n",
    "X_train, X_val, y_train, y_val = train_test_split(X_train, y_train, test_size=0.25, random_state=123)\n",
    "print(X_train.shape, y_train.shape,X_test.shape, y_test.shape,X_val.shape, y_val.shape)"
   ]
  },
  {
   "cell_type": "markdown",
   "metadata": {
    "papermill": {
     "duration": 0.008658,
     "end_time": "2021-02-05T23:56:09.702062",
     "exception": false,
     "start_time": "2021-02-05T23:56:09.693404",
     "status": "completed"
    },
    "tags": []
   },
   "source": [
    "# Distribution of species after augmentation (limited by RAM)"
   ]
  },
  {
   "cell_type": "code",
   "execution_count": 4,
   "metadata": {
    "execution": {
     "iopub.execute_input": "2021-02-05T23:56:09.725431Z",
     "iopub.status.busy": "2021-02-05T23:56:09.724873Z",
     "iopub.status.idle": "2021-02-05T23:56:09.947756Z",
     "shell.execute_reply": "2021-02-05T23:56:09.948138Z"
    },
    "papermill": {
     "duration": 0.237616,
     "end_time": "2021-02-05T23:56:09.948281",
     "exception": false,
     "start_time": "2021-02-05T23:56:09.710665",
     "status": "completed"
    },
    "tags": []
   },
   "outputs": [
    {
     "data": {
      "image/png": "[encoded data removed]",
      "text/plain": [
       "<Figure size 1080x360 with 1 Axes>"
      ]
     },
     "metadata": {
      "needs_background": "light"
     },
     "output_type": "display_data"
    }
   ],
   "source": [
    "unique, counts = np.unique(np.concatenate((y_train,y_val)),return_counts=True)\n",
    "values=dict(zip(unique,counts))\n",
    "fig, ax = plt.subplots(figsize=(15,5))\n",
    "barlist=plt.bar(values.keys(),values.values(), label='Minority samples')\n",
    "plt.xlabel('Species ID', fontsize=17)\n",
    "plt.ylabel('Number of audio recordings', fontsize=17)\n",
    "plt.title('Number of Training Samples with augmentation', fontsize=20)\n",
    "plt.show()"
   ]
  },
  {
   "cell_type": "markdown",
   "metadata": {
    "papermill": {
     "duration": 0.008706,
     "end_time": "2021-02-05T23:56:09.965929",
     "exception": false,
     "start_time": "2021-02-05T23:56:09.957223",
     "status": "completed"
    },
    "tags": []
   },
   "source": [
    "# Load transfer learning from ImageNet vgg16 model"
   ]
  },
  {
   "cell_type": "code",
   "execution_count": 5,
   "metadata": {
    "execution": {
     "iopub.execute_input": "2021-02-05T23:56:09.991231Z",
     "iopub.status.busy": "2021-02-05T23:56:09.990746Z",
     "iopub.status.idle": "2021-02-05T23:56:14.199272Z",
     "shell.execute_reply": "2021-02-05T23:56:14.197450Z"
    },
    "papermill": {
     "duration": 4.224936,
     "end_time": "2021-02-05T23:56:14.199464",
     "exception": false,
     "start_time": "2021-02-05T23:56:09.974528",
     "status": "completed"
    },
    "tags": []
   },
   "outputs": [
    {
     "name": "stdout",
     "output_type": "stream",
     "text": [
      "Downloading data from https://storage.googleapis.com/tensorflow/keras-applications/vgg16/vgg16_weights_tf_dim_ordering_tf_kernels_notop.h5\n",
      "58892288/58889256 [==============================] - 1s 0us/step\n",
      "Model: \"model\"\n",
      "_________________________________________________________________\n",
      "Layer (type)                 Output Shape              Param #   \n",
      "=================================================================\n",
      "input_1 (InputLayer)         [(None, 128, 1000, 3)]    0         \n",
      "_________________________________________________________________\n",
      "block1_conv1 (Conv2D)        (None, 128, 1000, 64)     1792      \n",
      "_________________________________________________________________\n",
      "block1_conv2 (Conv2D)        (None, 128, 1000, 64)     36928     \n",
      "_________________________________________________________________\n",
      "block1_pool (MaxPooling2D)   (None, 64, 500, 64)       0         \n",
      "_________________________________________________________________\n",
      "block2_conv1 (Conv2D)        (None, 64, 500, 128)      73856     \n",
      "_________________________________________________________________\n",
      "block2_conv2 (Conv2D)        (None, 64, 500, 128)      147584    \n",
      "_________________________________________________________________\n",
      "block2_pool (MaxPooling2D)   (None, 32, 250, 128)      0         \n",
      "_________________________________________________________________\n",
      "block3_conv1 (Conv2D)        (None, 32, 250, 256)      295168    \n",
      "_________________________________________________________________\n",
      "block3_conv2 (Conv2D)        (None, 32, 250, 256)      590080    \n",
      "_________________________________________________________________\n",
      "block3_conv3 (Conv2D)        (None, 32, 250, 256)      590080    \n",
      "_________________________________________________________________\n",
      "block3_pool (MaxPooling2D)   (None, 16, 125, 256)      0         \n",
      "_________________________________________________________________\n",
      "block4_conv1 (Conv2D)        (None, 16, 125, 512)      1180160   \n",
      "_________________________________________________________________\n",
      "block4_conv2 (Conv2D)        (None, 16, 125, 512)      2359808   \n",
      "_________________________________________________________________\n",
      "block4_conv3 (Conv2D)        (None, 16, 125, 512)      2359808   \n",
      "_________________________________________________________________\n",
      "block4_pool (MaxPooling2D)   (None, 8, 62, 512)        0         \n",
      "_________________________________________________________________\n",
      "block5_conv1 (Conv2D)        (None, 8, 62, 512)        2359808   \n",
      "_________________________________________________________________\n",
      "block5_conv2 (Conv2D)        (None, 8, 62, 512)        2359808   \n",
      "_________________________________________________________________\n",
      "block5_conv3 (Conv2D)        (None, 8, 62, 512)        2359808   \n",
      "_________________________________________________________________\n",
      "block5_pool (MaxPooling2D)   (None, 4, 31, 512)        0         \n",
      "_________________________________________________________________\n",
      "flatten (Flatten)            (None, 63488)             0         \n",
      "=================================================================\n",
      "Total params: 14,714,688\n",
      "Trainable params: 14,714,688\n",
      "Non-trainable params: 0\n",
      "_________________________________________________________________\n"
     ]
    }
   ],
   "source": [
    "input_shape=(128,1000,3)\n",
    "vgg = vgg16.VGG16(include_top=False, weights='imagenet', \n",
    "                                     input_shape=input_shape)\n",
    "\n",
    "output = vgg.layers[-1].output\n",
    "output = layers.Flatten()(output)\n",
    "\n",
    "vgg_model = Model(vgg.input, output)\n",
    "vgg_model.trainable = True\n",
    "\n",
    "for layer in vgg_model.layers:\n",
    "    layer.trainable = True\n",
    "\n",
    "vgg_model.summary()"
   ]
  },
  {
   "cell_type": "markdown",
   "metadata": {
    "papermill": {
     "duration": 0.012224,
     "end_time": "2021-02-05T23:56:14.225064",
     "exception": false,
     "start_time": "2021-02-05T23:56:14.212840",
     "status": "completed"
    },
    "tags": []
   },
   "source": [
    "# Add vgg (a CNN) model to ANN model"
   ]
  },
  {
   "cell_type": "code",
   "execution_count": 6,
   "metadata": {
    "execution": {
     "iopub.execute_input": "2021-02-05T23:56:14.258789Z",
     "iopub.status.busy": "2021-02-05T23:56:14.256558Z",
     "iopub.status.idle": "2021-02-05T23:56:14.332730Z",
     "shell.execute_reply": "2021-02-05T23:56:14.333373Z"
    },
    "papermill": {
     "duration": 0.096595,
     "end_time": "2021-02-05T23:56:14.333564",
     "exception": false,
     "start_time": "2021-02-05T23:56:14.236969",
     "status": "completed"
    },
    "tags": []
   },
   "outputs": [
    {
     "name": "stdout",
     "output_type": "stream",
     "text": [
      "Model: \"sequential\"\n",
      "_________________________________________________________________\n",
      "Layer (type)                 Output Shape              Param #   \n",
      "=================================================================\n",
      "model (Functional)           (None, 63488)             14714688  \n",
      "_________________________________________________________________\n",
      "dense (Dense)                (None, 1024)              65012736  \n",
      "_________________________________________________________________\n",
      "dropout (Dropout)            (None, 1024)              0         \n",
      "_________________________________________________________________\n",
      "dense_1 (Dense)              (None, 512)               524800    \n",
      "_________________________________________________________________\n",
      "dense_2 (Dense)              (None, 24)                12312     \n",
      "=================================================================\n",
      "Total params: 80,264,536\n",
      "Trainable params: 80,264,536\n",
      "Non-trainable params: 0\n",
      "_________________________________________________________________\n"
     ]
    }
   ],
   "source": [
    "input_shape=(128,1000,3)\n",
    "CNNmodelvgg = models.Sequential()\n",
    "CNNmodelvgg.add(vgg_model)\n",
    "CNNmodelvgg.add(layers.Dense(1024, activation='relu'))\n",
    "CNNmodelvgg.add(layers.Dropout(0.2))\n",
    "CNNmodelvgg.add(layers.Dense(512, activation='relu'))\n",
    "CNNmodelvgg.add(layers.Dense(24, activation='softmax'))\n",
    "CNNmodelvgg.summary()"
   ]
  },
  {
   "cell_type": "code",
   "execution_count": 7,
   "metadata": {
    "execution": {
     "iopub.execute_input": "2021-02-05T23:56:14.365797Z",
     "iopub.status.busy": "2021-02-05T23:56:14.364983Z",
     "iopub.status.idle": "2021-02-05T23:56:17.040108Z",
     "shell.execute_reply": "2021-02-05T23:56:17.039171Z"
    },
    "papermill": {
     "duration": 2.691727,
     "end_time": "2021-02-05T23:56:17.040254",
     "exception": false,
     "start_time": "2021-02-05T23:56:14.348527",
     "status": "completed"
    },
    "tags": []
   },
   "outputs": [],
   "source": [
    "#Rescale features to between 0 and 1 so it fits with vgg data\n",
    "Xmin=np.min(X_train)\n",
    "Xmax=np.max(X_train)\n",
    "X_train=(X_train-Xmin)/(Xmax-Xmin)\n",
    "X_val=(X_val-Xmin)/(Xmax-Xmin)\n",
    "X_test=(X_test-Xmin)/(Xmax-Xmin)"
   ]
  },
  {
   "cell_type": "code",
   "execution_count": 8,
   "metadata": {
    "execution": {
     "iopub.execute_input": "2021-02-05T23:56:17.077269Z",
     "iopub.status.busy": "2021-02-05T23:56:17.076362Z",
     "iopub.status.idle": "2021-02-06T00:05:14.524450Z",
     "shell.execute_reply": "2021-02-06T00:05:14.525463Z"
    },
    "papermill": {
     "duration": 537.472678,
     "end_time": "2021-02-06T00:05:14.525771",
     "exception": false,
     "start_time": "2021-02-05T23:56:17.053093",
     "status": "completed"
    },
    "tags": []
   },
   "outputs": [
    {
     "name": "stdout",
     "output_type": "stream",
     "text": [
      "Epoch 1/30\n",
      "29/29 [==============================] - 29s 761ms/step - loss: 3.2726 - accuracy: 0.0588 - val_loss: 3.1078 - val_accuracy: 0.0912\n",
      "Epoch 2/30\n",
      "29/29 [==============================] - 17s 602ms/step - loss: 2.9805 - accuracy: 0.1217 - val_loss: 2.4238 - val_accuracy: 0.1954\n",
      "Epoch 3/30\n",
      "29/29 [==============================] - 18s 607ms/step - loss: 2.4612 - accuracy: 0.2038 - val_loss: 2.1401 - val_accuracy: 0.3257\n",
      "Epoch 4/30\n",
      "29/29 [==============================] - 18s 605ms/step - loss: 2.0551 - accuracy: 0.3703 - val_loss: 1.9302 - val_accuracy: 0.4235\n",
      "Epoch 5/30\n",
      "29/29 [==============================] - 17s 604ms/step - loss: 1.8593 - accuracy: 0.4025 - val_loss: 1.7360 - val_accuracy: 0.4821\n",
      "Epoch 6/30\n",
      "29/29 [==============================] - 17s 605ms/step - loss: 1.6459 - accuracy: 0.4778 - val_loss: 1.5594 - val_accuracy: 0.5179\n",
      "Epoch 7/30\n",
      "29/29 [==============================] - 17s 600ms/step - loss: 1.4614 - accuracy: 0.5312 - val_loss: 1.4890 - val_accuracy: 0.5309\n",
      "Epoch 8/30\n",
      "29/29 [==============================] - 18s 607ms/step - loss: 1.3858 - accuracy: 0.5864 - val_loss: 1.3297 - val_accuracy: 0.6156\n",
      "Epoch 9/30\n",
      "29/29 [==============================] - 17s 604ms/step - loss: 1.2550 - accuracy: 0.5826 - val_loss: 1.3269 - val_accuracy: 0.6124\n",
      "Epoch 10/30\n",
      "29/29 [==============================] - 18s 606ms/step - loss: 1.2548 - accuracy: 0.5855 - val_loss: 1.1722 - val_accuracy: 0.7101\n",
      "Epoch 11/30\n",
      "29/29 [==============================] - 17s 605ms/step - loss: 1.0650 - accuracy: 0.6710 - val_loss: 1.1208 - val_accuracy: 0.6580\n",
      "Epoch 12/30\n",
      "29/29 [==============================] - 18s 607ms/step - loss: 0.9105 - accuracy: 0.6917 - val_loss: 1.0030 - val_accuracy: 0.6873\n",
      "Epoch 13/30\n",
      "29/29 [==============================] - 17s 605ms/step - loss: 0.9267 - accuracy: 0.7054 - val_loss: 1.0092 - val_accuracy: 0.6775\n",
      "Epoch 14/30\n",
      "29/29 [==============================] - 17s 604ms/step - loss: 0.8572 - accuracy: 0.7366 - val_loss: 1.0058 - val_accuracy: 0.7166\n",
      "Epoch 15/30\n",
      "29/29 [==============================] - 18s 606ms/step - loss: 0.7490 - accuracy: 0.7240 - val_loss: 0.9250 - val_accuracy: 0.7622\n",
      "Epoch 16/30\n",
      "29/29 [==============================] - 17s 603ms/step - loss: 0.6786 - accuracy: 0.8023 - val_loss: 0.8978 - val_accuracy: 0.7264\n",
      "Epoch 17/30\n",
      "29/29 [==============================] - 17s 603ms/step - loss: 0.6478 - accuracy: 0.7855 - val_loss: 0.8019 - val_accuracy: 0.7915\n",
      "Epoch 18/30\n",
      "29/29 [==============================] - 17s 601ms/step - loss: 0.6355 - accuracy: 0.7808 - val_loss: 0.9257 - val_accuracy: 0.7231\n",
      "Epoch 19/30\n",
      "29/29 [==============================] - 18s 606ms/step - loss: 0.6548 - accuracy: 0.7889 - val_loss: 0.9174 - val_accuracy: 0.7231\n",
      "Epoch 20/30\n",
      "29/29 [==============================] - 17s 602ms/step - loss: 0.5748 - accuracy: 0.7933 - val_loss: 0.9687 - val_accuracy: 0.6808\n",
      "Epoch 21/30\n",
      "29/29 [==============================] - 17s 603ms/step - loss: 0.5242 - accuracy: 0.8159 - val_loss: 0.7316 - val_accuracy: 0.8176\n",
      "Epoch 22/30\n",
      "29/29 [==============================] - 17s 603ms/step - loss: 0.5330 - accuracy: 0.8295 - val_loss: 0.8176 - val_accuracy: 0.7883\n",
      "Epoch 23/30\n",
      "29/29 [==============================] - 17s 603ms/step - loss: 0.5232 - accuracy: 0.8212 - val_loss: 0.8193 - val_accuracy: 0.7427\n",
      "Epoch 24/30\n",
      "29/29 [==============================] - 17s 604ms/step - loss: 0.4956 - accuracy: 0.8396 - val_loss: 0.7315 - val_accuracy: 0.7785\n",
      "Epoch 25/30\n",
      "29/29 [==============================] - 17s 605ms/step - loss: 0.5007 - accuracy: 0.8177 - val_loss: 0.7330 - val_accuracy: 0.8111\n",
      "Epoch 26/30\n",
      "29/29 [==============================] - 17s 605ms/step - loss: 0.4294 - accuracy: 0.8572 - val_loss: 0.7484 - val_accuracy: 0.7948\n",
      "Epoch 27/30\n",
      "29/29 [==============================] - 18s 608ms/step - loss: 0.4425 - accuracy: 0.8342 - val_loss: 0.9274 - val_accuracy: 0.6775\n",
      "Epoch 28/30\n",
      "29/29 [==============================] - 18s 607ms/step - loss: 0.4560 - accuracy: 0.8119 - val_loss: 0.7172 - val_accuracy: 0.8241\n",
      "Epoch 29/30\n",
      "29/29 [==============================] - 18s 605ms/step - loss: 0.4505 - accuracy: 0.8446 - val_loss: 0.7230 - val_accuracy: 0.8078\n",
      "Epoch 30/30\n",
      "29/29 [==============================] - 17s 603ms/step - loss: 0.3459 - accuracy: 0.8734 - val_loss: 0.6688 - val_accuracy: 0.8306\n"
     ]
    }
   ],
   "source": [
    "CNNmodelvgg.compile(optimizer=tf.keras.optimizers.Adam(lr=2e-5),\n",
    "              loss=tf.keras.losses.SparseCategoricalCrossentropy(from_logits=False),\n",
    "              metrics=['accuracy'])\n",
    "\n",
    "history = CNNmodelvgg.fit(X_train, y_train, epochs=30, \n",
    "                    validation_data=(X_val, y_val))"
   ]
  },
  {
   "cell_type": "code",
   "execution_count": 9,
   "metadata": {
    "execution": {
     "iopub.execute_input": "2021-02-06T00:05:15.207636Z",
     "iopub.status.busy": "2021-02-06T00:05:15.206641Z",
     "iopub.status.idle": "2021-02-06T00:05:27.479170Z",
     "shell.execute_reply": "2021-02-06T00:05:27.478733Z"
    },
    "papermill": {
     "duration": 12.521922,
     "end_time": "2021-02-06T00:05:27.479294",
     "exception": false,
     "start_time": "2021-02-06T00:05:14.957372",
     "status": "completed"
    },
    "tags": []
   },
   "outputs": [
    {
     "name": "stdout",
     "output_type": "stream",
     "text": [
      "29/29 [==============================] - 5s 168ms/step - loss: 0.2997 - accuracy: 0.8955\n",
      "10/10 [==============================] - 2s 234ms/step - loss: 0.2254 - accuracy: 0.9507\n",
      "TrainLoss: 0.299743, Train accuracy 0.895539, TestLoss: 0.225400, Test Accuracy: 0.950658 \n",
      "Confusion_matrix:  tf.Tensor(\n",
      "[[11  0  0  1  0  0  0  0  0  0  0  0  0  0  0  0  0  0  0  0  0  0  0  0]\n",
      " [ 0 13  0  0  0  0  0  0  0  0  0  0  0  0  0  0  0  0  0  0  0  0  0  0]\n",
      " [ 0  0  9  0  0  0  0  0  0  0  0  0  0  0  0  0  0  0  0  0  0  0  0  0]\n",
      " [ 0  0  0 13  0  0  0  0  0  0  0  0  0  0  0  0  0  0  0  0  0  0  0  0]\n",
      " [ 0  0  0  0 11  0  0  0  0  0  0  0  0  0  0  0  2  0  0  0  0  0  0  0]\n",
      " [ 0  0  0  0  0 11  0  1  0  0  0  0  0  0  0  0  0  0  0  0  0  0  0  0]\n",
      " [ 0  0  0  0  0  0 12  0  0  0  0  0  0  0  0  0  0  0  0  0  0  0  0  0]\n",
      " [ 0  0  0  0  0  0  0 13  0  0  0  0  0  0  0  0  0  0  0  0  0  0  0  0]\n",
      " [ 0  0  0  0  0  0  0  0 11  0  0  0  1  0  0  0  0  0  0  0  0  0  0  0]\n",
      " [ 0  0  0  0  0  0  0  0  0  8  0  0  0  0  0  0  0  0  0  0  0  0  0  0]\n",
      " [ 0  0  0  0  0  0  0  0  0  0 13  0  0  0  0  0  0  0  0  0  0  0  0  0]\n",
      " [ 0  0  0  0  0  0  0  0  0  0  0 13  0  0  0  0  0  0  0  0  0  0  0  0]\n",
      " [ 0  0  0  0  0  0  0  7  0  0  0  0  5  0  0  0  0  0  0  0  0  0  0  0]\n",
      " [ 0  0  0  0  0  0  0  0  0  0  0  0  0 12  0  0  0  1  0  0  0  0  0  0]\n",
      " [ 0  1  0  0  0  0  0  0  0  0  0  0  0  0 12  0  0  0  0  0  0  0  0  0]\n",
      " [ 0  0  0  0  0  0  0  0  0  0  0  0  0  0  0 12  0  0  0  0  0  0  0  0]\n",
      " [ 0  0  0  0  0  0  0  0  0  0  0  0  0  0  0  0 12  0  0  0  0  0  0  0]\n",
      " [ 0  0  0  0  0  0  0  0  0  0  0  0  0  0  0  0  0 17  0  0  0  0  0  0]\n",
      " [ 0  0  0  0  0  0  0  0  0  0  0  0  0  0  0  0  0  0 13  0  0  0  0  0]\n",
      " [ 0  0  0  0  0  0  0  0  0  0  0  0  0  0  0  0  0  0  0 10  0  0  1  0]\n",
      " [ 0  0  0  0  0  0  0  0  0  0  0  0  0  0  0  0  0  0  0  0 10  0  0  0]\n",
      " [ 0  0  0  0  0  0  0  0  0  0  0  0  0  0  0  0  0  0  0  0  0 12  0  0]\n",
      " [ 0  0  0  0  0  0  0  0  0  0  0  0  0  0  0  0  0  0  0  0  0  0 11  0]\n",
      " [ 0  0  0  0  0  0  0  0  0  0  0  0  0  0  0  0  0  0  0  0  0  0  0 25]], shape=(24, 24), dtype=int32)\n"
     ]
    }
   ],
   "source": [
    "TrainLoss, Trainacc = CNNmodelvgg.evaluate(X_train,y_train)\n",
    "TestLoss, Testacc = CNNmodelvgg.evaluate(X_test, y_test)\n",
    "y_pred=CNNmodelvgg.predict(X_test)\n",
    "print('TrainLoss: %f, Train accuracy %f, TestLoss: %f, Test Accuracy: %f ' %(TrainLoss,Trainacc,TestLoss,Testacc))\n",
    "print('Confusion_matrix: ',tf.math.confusion_matrix(y_test, np.argmax(y_pred,axis=1)))"
   ]
  },
  {
   "cell_type": "code",
   "execution_count": 10,
   "metadata": {
    "execution": {
     "iopub.execute_input": "2021-02-06T00:05:28.014459Z",
     "iopub.status.busy": "2021-02-06T00:05:28.013651Z",
     "iopub.status.idle": "2021-02-06T00:05:28.323267Z",
     "shell.execute_reply": "2021-02-06T00:05:28.323752Z"
    },
    "papermill": {
     "duration": 0.588722,
     "end_time": "2021-02-06T00:05:28.323899",
     "exception": false,
     "start_time": "2021-02-06T00:05:27.735177",
     "status": "completed"
    },
    "tags": []
   },
   "outputs": [
    {
     "data": {
      "image/png": "[encoded data removed]",
      "text/plain": [
       "<Figure size 1080x360 with 2 Axes>"
      ]
     },
     "metadata": {
      "needs_background": "light"
     },
     "output_type": "display_data"
    }
   ],
   "source": [
    "history_dict=history.history\n",
    "loss_values=history_dict['loss']\n",
    "acc_values=history_dict['accuracy']\n",
    "val_loss_values = history_dict['val_loss']\n",
    "val_acc_values=history_dict['val_accuracy']\n",
    "epochs=range(1,31)\n",
    "fig,(ax1,ax2)=plt.subplots(1,2,figsize=(15,5))\n",
    "ax1.plot(epochs,loss_values,'bo',label='Training Loss')\n",
    "ax1.plot(epochs,val_loss_values,'orange', label='Validation Loss')\n",
    "ax1.set_title('Training and validation loss')\n",
    "ax1.set_xlabel('Epochs')\n",
    "ax1.set_ylabel('Loss')\n",
    "ax1.legend()\n",
    "ax2.plot(epochs,acc_values,'bo', label='Training accuracy')\n",
    "ax2.plot(epochs,val_acc_values,'orange',label='Validation accuracy')\n",
    "ax2.set_title('Training and validation accuracy')\n",
    "ax2.set_xlabel('Epochs')\n",
    "ax2.set_ylabel('Accuracy')\n",
    "ax2.legend()\n",
    "plt.show()"
   ]
  }
 ],
 "metadata": {
  "kernelspec": {
   "display_name": "Python 3",
   "language": "python",
   "name": "python3"
  },
  "language_info": {
   "codemirror_mode": {
    "name": "ipython",
    "version": 3
   },
   "file_extension": ".py",
   "mimetype": "text/x-python",
   "name": "python",
   "nbconvert_exporter": "python",
   "pygments_lexer": "ipython3",
   "version": "3.7.9"
  },
  "papermill": {
   "default_parameters": {},
   "duration": 610.911379,
   "end_time": "2021-02-06T00:05:31.897475",
   "environment_variables": {},
   "exception": null,
   "input_path": "__notebook__.ipynb",
   "output_path": "__notebook__.ipynb",
   "parameters": {},
   "start_time": "2021-02-05T23:55:20.986096",
   "version": "2.2.2"
  }
 },
 "nbformat": 4,
 "nbformat_minor": 4
}
