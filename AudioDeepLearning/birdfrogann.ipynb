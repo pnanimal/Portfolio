{
 "cells": [
  {
   "cell_type": "code",
   "execution_count": 1,
   "metadata": {
    "_cell_guid": "b1076dfc-b9ad-4769-8c92-a6c4dae69d19",
    "_uuid": "8f2839f25d086af736a60e9eeb907d3b93b6e0e5",
    "execution": {
     "iopub.execute_input": "2021-02-09T16:42:10.817685Z",
     "iopub.status.busy": "2021-02-09T16:42:10.817101Z",
     "iopub.status.idle": "2021-02-09T16:42:16.882170Z",
     "shell.execute_reply": "2021-02-09T16:42:16.883406Z"
    },
    "papermill": {
     "duration": 6.081048,
     "end_time": "2021-02-09T16:42:16.883795",
     "exception": false,
     "start_time": "2021-02-09T16:42:10.802747",
     "status": "completed"
    },
    "tags": []
   },
   "outputs": [
    {
     "name": "stdout",
     "output_type": "stream",
     "text": [
      "/kaggle/input/birdfrog-eda/test_labels.pkl\n",
      "/kaggle/input/birdfrog-eda/train_features.pkl\n",
      "/kaggle/input/birdfrog-eda/filename-noise.wav\n",
      "/kaggle/input/birdfrog-eda/filename.wav\n",
      "/kaggle/input/birdfrog-eda/__results__.html\n",
      "/kaggle/input/birdfrog-eda/train_labels.pkl\n",
      "/kaggle/input/birdfrog-eda/test_features.pkl\n",
      "/kaggle/input/birdfrog-eda/train_noOS_labels.pkl\n",
      "/kaggle/input/birdfrog-eda/train_noOS_features.pkl\n",
      "/kaggle/input/birdfrog-eda/__notebook__.ipynb\n",
      "/kaggle/input/birdfrog-eda/__output__.json\n",
      "/kaggle/input/birdfrog-eda/custom.css\n",
      "/kaggle/input/birdfrog-eda/__results___files/__results___15_0.png\n",
      "/kaggle/input/birdfrog-eda/__results___files/__results___25_0.png\n",
      "/kaggle/input/birdfrog-eda/__results___files/__results___10_0.png\n",
      "/kaggle/input/birdfrog-eda/__results___files/__results___19_0.png\n",
      "/kaggle/input/birdfrog-eda/__results___files/__results___31_0.png\n",
      "/kaggle/input/birdfrog-eda/__results___files/__results___27_0.png\n",
      "/kaggle/input/birdfrog-eda/__results___files/__results___21_0.png\n",
      "/kaggle/input/birdfrog-eda/__results___files/__results___43_0.png\n",
      "/kaggle/input/birdfrog-eda/__results___files/__results___33_0.png\n",
      "/kaggle/input/birdfrog-eda/__results___files/__results___17_0.png\n",
      "/kaggle/input/birdfrog-eda/__results___files/__results___29_0.png\n",
      "/kaggle/input/birdfrog-eda/__results___files/__results___23_0.png\n",
      "/kaggle/input/birdfrog-eda/__results___files/__results___38_0.png\n"
     ]
    }
   ],
   "source": [
    "import numpy as np # linear algebra\n",
    "import pandas as pd # data processing, CSV file I/O (e.g. pd.read_csv)\n",
    "import os\n",
    "for dirname, _, filenames in os.walk('/kaggle/input'):\n",
    "    for filename in filenames:\n",
    "        print(os.path.join(dirname, filename))\n",
    "import pickle\n",
    "import joblib\n",
    "from sklearn.preprocessing import normalize\n",
    "from sklearn import preprocessing\n",
    "from sklearn.ensemble import RandomForestClassifier \n",
    "from sklearn.metrics import accuracy_score, confusion_matrix, classification_report\n",
    "from sklearn import preprocessing\n",
    "from sklearn.model_selection import train_test_split\n",
    "import tensorflow as tf\n",
    "import tensorflow_datasets as tfds\n",
    "from tensorflow.keras.layers import Dropout,Dense,Input\n",
    "from tensorflow.keras import models, layers\n",
    "from tensorflow.keras.models import Sequential\n",
    "from tensorflow.keras.optimizers import Adam\n",
    "import matplotlib.pyplot as plt"
   ]
  },
  {
   "cell_type": "code",
   "execution_count": 2,
   "metadata": {
    "execution": {
     "iopub.execute_input": "2021-02-09T16:42:16.916208Z",
     "iopub.status.busy": "2021-02-09T16:42:16.915346Z",
     "iopub.status.idle": "2021-02-09T16:42:52.626814Z",
     "shell.execute_reply": "2021-02-09T16:42:52.627417Z"
    },
    "papermill": {
     "duration": 35.729533,
     "end_time": "2021-02-09T16:42:52.627581",
     "exception": false,
     "start_time": "2021-02-09T16:42:16.898048",
     "status": "completed"
    },
    "tags": []
   },
   "outputs": [
    {
     "name": "stdout",
     "output_type": "stream",
     "text": [
      "(1226, 128, 1000, 3) (304, 128, 1000, 3)\n"
     ]
    }
   ],
   "source": [
    "X_train = joblib.load('/kaggle/input/birdfrog-eda/train_features.pkl')\n",
    "X_test = joblib.load('/kaggle/input/birdfrog-eda/test_features.pkl')\n",
    "print(X_train.shape,X_test.shape)"
   ]
  },
  {
   "cell_type": "code",
   "execution_count": 3,
   "metadata": {
    "execution": {
     "iopub.execute_input": "2021-02-09T16:42:52.647797Z",
     "iopub.status.busy": "2021-02-09T16:42:52.647233Z",
     "iopub.status.idle": "2021-02-09T16:42:54.058640Z",
     "shell.execute_reply": "2021-02-09T16:42:54.057799Z"
    },
    "papermill": {
     "duration": 1.42354,
     "end_time": "2021-02-09T16:42:54.058771",
     "exception": false,
     "start_time": "2021-02-09T16:42:52.635231",
     "status": "completed"
    },
    "tags": []
   },
   "outputs": [
    {
     "name": "stdout",
     "output_type": "stream",
     "text": [
      "(919, 128, 1000, 3) (919,) (304, 128, 1000, 3) (304,) (307, 128, 1000, 3) (307,)\n"
     ]
    }
   ],
   "source": [
    "y_train = np.array(joblib.load('/kaggle/input/birdfrog-eda/train_labels.pkl'))\n",
    "y_test = np.array(joblib.load('/kaggle/input/birdfrog-eda/test_labels.pkl'))\n",
    "X_train, X_val, y_train, y_val = train_test_split(X_train, y_train, test_size=0.25, random_state=123)\n",
    "print(X_train.shape, y_train.shape,X_test.shape, y_test.shape,X_val.shape, y_val.shape)"
   ]
  },
  {
   "cell_type": "code",
   "execution_count": 4,
   "metadata": {
    "execution": {
     "iopub.execute_input": "2021-02-09T16:42:54.080540Z",
     "iopub.status.busy": "2021-02-09T16:42:54.079733Z",
     "iopub.status.idle": "2021-02-09T16:42:54.296434Z",
     "shell.execute_reply": "2021-02-09T16:42:54.296851Z"
    },
    "papermill": {
     "duration": 0.22997,
     "end_time": "2021-02-09T16:42:54.296992",
     "exception": false,
     "start_time": "2021-02-09T16:42:54.067022",
     "status": "completed"
    },
    "tags": []
   },
   "outputs": [
    {
     "data": {
      "image/png": "[encoded data removed]",
      "text/plain": [
       "<Figure size 1080x360 with 1 Axes>"
      ]
     },
     "metadata": {
      "needs_background": "light"
     },
     "output_type": "display_data"
    }
   ],
   "source": [
    "unique, counts = np.unique(np.concatenate((y_train,y_val)),return_counts=True)\n",
    "values=dict(zip(unique,counts))\n",
    "fig, ax = plt.subplots(figsize=(15,5))\n",
    "barlist=plt.bar(values.keys(),values.values(), label='Minority samples')\n",
    "plt.xlabel('Species ID', fontsize=17)\n",
    "plt.ylabel('Number of audio recordings', fontsize=17)\n",
    "plt.title('Number of Training Samples with augmentation', fontsize=20)\n",
    "plt.show()"
   ]
  },
  {
   "cell_type": "markdown",
   "metadata": {
    "papermill": {
     "duration": 0.008655,
     "end_time": "2021-02-09T16:42:54.314677",
     "exception": false,
     "start_time": "2021-02-09T16:42:54.306022",
     "status": "completed"
    },
    "tags": []
   },
   "source": [
    "# Extract only the first dimension containing the spectral bandwidth, spectral centroid and the chroma temperature. These don't have a large spatial component to them, so the ANN is able to model these more than the other two dimensions. Including the other two dimensions results in an accuracy less than 10%."
   ]
  },
  {
   "cell_type": "code",
   "execution_count": 5,
   "metadata": {
    "execution": {
     "iopub.execute_input": "2021-02-09T16:42:54.338003Z",
     "iopub.status.busy": "2021-02-09T16:42:54.336276Z",
     "iopub.status.idle": "2021-02-09T16:42:54.338636Z",
     "shell.execute_reply": "2021-02-09T16:42:54.339023Z"
    },
    "papermill": {
     "duration": 0.015673,
     "end_time": "2021-02-09T16:42:54.339247",
     "exception": false,
     "start_time": "2021-02-09T16:42:54.323574",
     "status": "completed"
    },
    "tags": []
   },
   "outputs": [],
   "source": [
    "X_train=X_train[:,:,:,0]\n",
    "X_val=X_val[:,:,:,0]\n",
    "X_test=X_test[:,:,:,0]"
   ]
  },
  {
   "cell_type": "markdown",
   "metadata": {
    "papermill": {
     "duration": 0.00866,
     "end_time": "2021-02-09T16:42:54.356785",
     "exception": false,
     "start_time": "2021-02-09T16:42:54.348125",
     "status": "completed"
    },
    "tags": []
   },
   "source": [
    "# ANN learns well until 50 epochs, after which it starts to overfit the training data."
   ]
  },
  {
   "cell_type": "code",
   "execution_count": 6,
   "metadata": {
    "execution": {
     "iopub.execute_input": "2021-02-09T16:42:54.382214Z",
     "iopub.status.busy": "2021-02-09T16:42:54.381618Z",
     "iopub.status.idle": "2021-02-09T16:42:57.204354Z",
     "shell.execute_reply": "2021-02-09T16:42:57.203367Z"
    },
    "papermill": {
     "duration": 2.838757,
     "end_time": "2021-02-09T16:42:57.204526",
     "exception": false,
     "start_time": "2021-02-09T16:42:54.365769",
     "status": "completed"
    },
    "tags": []
   },
   "outputs": [
    {
     "name": "stdout",
     "output_type": "stream",
     "text": [
      "Model: \"sequential\"\n",
      "_________________________________________________________________\n",
      "Layer (type)                 Output Shape              Param #   \n",
      "=================================================================\n",
      "dense (Dense)                (None, 256)               32768256  \n",
      "_________________________________________________________________\n",
      "dense_1 (Dense)              (None, 128)               32896     \n",
      "_________________________________________________________________\n",
      "dropout (Dropout)            (None, 128)               0         \n",
      "_________________________________________________________________\n",
      "dense_2 (Dense)              (None, 128)               16512     \n",
      "_________________________________________________________________\n",
      "dense_3 (Dense)              (None, 64)                8256      \n",
      "_________________________________________________________________\n",
      "dropout_1 (Dropout)          (None, 64)                0         \n",
      "_________________________________________________________________\n",
      "dense_4 (Dense)              (None, 64)                4160      \n",
      "_________________________________________________________________\n",
      "dense_5 (Dense)              (None, 32)                2080      \n",
      "_________________________________________________________________\n",
      "dropout_2 (Dropout)          (None, 32)                0         \n",
      "_________________________________________________________________\n",
      "dense_6 (Dense)              (None, 24)                792       \n",
      "=================================================================\n",
      "Total params: 32,832,952\n",
      "Trainable params: 32,832,952\n",
      "Non-trainable params: 0\n",
      "_________________________________________________________________\n"
     ]
    }
   ],
   "source": [
    "ANNmodel = Sequential()\n",
    "ANNmodel.add(layers.Dense(256, activation='relu', input_shape=(X_train.reshape(919,128*1000).shape[1],)))\n",
    "ANNmodel.add(layers.Dense(128, activation='relu'))\n",
    "ANNmodel.add(layers.Dropout(0.2))\n",
    "ANNmodel.add(layers.Dense(128, activation='relu'))\n",
    "ANNmodel.add(layers.Dense(64, activation='relu'))\n",
    "ANNmodel.add(layers.Dropout(0.2))\n",
    "ANNmodel.add(layers.Dense(64, activation='relu'))\n",
    "ANNmodel.add(layers.Dense(32, activation='relu'))\n",
    "ANNmodel.add(layers.Dropout(0.2))\n",
    "ANNmodel.add(layers.Dense(24, activation='softmax'))\n",
    "ANNmodel.compile(optimizer='adam',\n",
    "              loss=tf.keras.losses.SparseCategoricalCrossentropy(from_logits=False),\n",
    "              metrics=['accuracy'])\n",
    "ANNmodel.summary()"
   ]
  },
  {
   "cell_type": "code",
   "execution_count": 7,
   "metadata": {
    "execution": {
     "iopub.execute_input": "2021-02-09T16:42:57.227371Z",
     "iopub.status.busy": "2021-02-09T16:42:57.226772Z",
     "iopub.status.idle": "2021-02-09T16:43:24.173695Z",
     "shell.execute_reply": "2021-02-09T16:43:24.173205Z"
    },
    "papermill": {
     "duration": 26.959601,
     "end_time": "2021-02-09T16:43:24.173823",
     "exception": false,
     "start_time": "2021-02-09T16:42:57.214222",
     "status": "completed"
    },
    "tags": []
   },
   "outputs": [
    {
     "name": "stdout",
     "output_type": "stream",
     "text": [
      "Epoch 1/50\n",
      "1/1 [==============================] - 2s 2s/step - loss: 3.1780 - accuracy: 0.0457 - val_loss: 3.1576 - val_accuracy: 0.0782\n",
      "Epoch 2/50\n",
      "1/1 [==============================] - 1s 647ms/step - loss: 3.1461 - accuracy: 0.0718 - val_loss: 3.1095 - val_accuracy: 0.0717\n",
      "Epoch 3/50\n",
      "1/1 [==============================] - 1s 504ms/step - loss: 3.1174 - accuracy: 0.0729 - val_loss: 3.0584 - val_accuracy: 0.0717\n",
      "Epoch 4/50\n",
      "1/1 [==============================] - 0s 453ms/step - loss: 3.0768 - accuracy: 0.0827 - val_loss: 2.9891 - val_accuracy: 0.1140\n",
      "Epoch 5/50\n",
      "1/1 [==============================] - 0s 474ms/step - loss: 3.0240 - accuracy: 0.1066 - val_loss: 2.9497 - val_accuracy: 0.1466\n",
      "Epoch 6/50\n",
      "1/1 [==============================] - 0s 445ms/step - loss: 2.9718 - accuracy: 0.1045 - val_loss: 2.8919 - val_accuracy: 0.1694\n",
      "Epoch 7/50\n",
      "1/1 [==============================] - 0s 454ms/step - loss: 2.9253 - accuracy: 0.1317 - val_loss: 2.8800 - val_accuracy: 0.1824\n",
      "Epoch 8/50\n",
      "1/1 [==============================] - 0s 468ms/step - loss: 2.8889 - accuracy: 0.1567 - val_loss: 2.8214 - val_accuracy: 0.1889\n",
      "Epoch 9/50\n",
      "1/1 [==============================] - 0s 457ms/step - loss: 2.8011 - accuracy: 0.1621 - val_loss: 2.7953 - val_accuracy: 0.1987\n",
      "Epoch 10/50\n",
      "1/1 [==============================] - 0s 465ms/step - loss: 2.8159 - accuracy: 0.1469 - val_loss: 2.7298 - val_accuracy: 0.2313\n",
      "Epoch 11/50\n",
      "1/1 [==============================] - 0s 467ms/step - loss: 2.7478 - accuracy: 0.1697 - val_loss: 2.6942 - val_accuracy: 0.2704\n",
      "Epoch 12/50\n",
      "1/1 [==============================] - 0s 457ms/step - loss: 2.6909 - accuracy: 0.1687 - val_loss: 2.6345 - val_accuracy: 0.2313\n",
      "Epoch 13/50\n",
      "1/1 [==============================] - 0s 479ms/step - loss: 2.6555 - accuracy: 0.1752 - val_loss: 2.6048 - val_accuracy: 0.2541\n",
      "Epoch 14/50\n",
      "1/1 [==============================] - 0s 470ms/step - loss: 2.6238 - accuracy: 0.2122 - val_loss: 2.5582 - val_accuracy: 0.3062\n",
      "Epoch 15/50\n",
      "1/1 [==============================] - 0s 470ms/step - loss: 2.5400 - accuracy: 0.2405 - val_loss: 2.5014 - val_accuracy: 0.3290\n",
      "Epoch 16/50\n",
      "1/1 [==============================] - 0s 469ms/step - loss: 2.4921 - accuracy: 0.2459 - val_loss: 2.4565 - val_accuracy: 0.3648\n",
      "Epoch 17/50\n",
      "1/1 [==============================] - 0s 472ms/step - loss: 2.4391 - accuracy: 0.2568 - val_loss: 2.4095 - val_accuracy: 0.3909\n",
      "Epoch 18/50\n",
      "1/1 [==============================] - 0s 446ms/step - loss: 2.3513 - accuracy: 0.3014 - val_loss: 2.3580 - val_accuracy: 0.3876\n",
      "Epoch 19/50\n",
      "1/1 [==============================] - 0s 475ms/step - loss: 2.3239 - accuracy: 0.3188 - val_loss: 2.3226 - val_accuracy: 0.4039\n",
      "Epoch 20/50\n",
      "1/1 [==============================] - 0s 438ms/step - loss: 2.2796 - accuracy: 0.3308 - val_loss: 2.2480 - val_accuracy: 0.4169\n",
      "Epoch 21/50\n",
      "1/1 [==============================] - 0s 474ms/step - loss: 2.1621 - accuracy: 0.3439 - val_loss: 2.1714 - val_accuracy: 0.4495\n",
      "Epoch 22/50\n",
      "1/1 [==============================] - 0s 453ms/step - loss: 2.1288 - accuracy: 0.3819 - val_loss: 2.1365 - val_accuracy: 0.4625\n",
      "Epoch 23/50\n",
      "1/1 [==============================] - 0s 441ms/step - loss: 2.0626 - accuracy: 0.3841 - val_loss: 2.0936 - val_accuracy: 0.5016\n",
      "Epoch 24/50\n",
      "1/1 [==============================] - 0s 475ms/step - loss: 1.9965 - accuracy: 0.4004 - val_loss: 2.0193 - val_accuracy: 0.5049\n",
      "Epoch 25/50\n",
      "1/1 [==============================] - 1s 612ms/step - loss: 1.9342 - accuracy: 0.4570 - val_loss: 1.9681 - val_accuracy: 0.5212\n",
      "Epoch 26/50\n",
      "1/1 [==============================] - 1s 546ms/step - loss: 1.9332 - accuracy: 0.4570 - val_loss: 1.9400 - val_accuracy: 0.5537\n",
      "Epoch 27/50\n",
      "1/1 [==============================] - 0s 466ms/step - loss: 1.8673 - accuracy: 0.4461 - val_loss: 1.9048 - val_accuracy: 0.5700\n",
      "Epoch 28/50\n",
      "1/1 [==============================] - 0s 469ms/step - loss: 1.7715 - accuracy: 0.4755 - val_loss: 1.8407 - val_accuracy: 0.5603\n",
      "Epoch 29/50\n",
      "1/1 [==============================] - 0s 476ms/step - loss: 1.7370 - accuracy: 0.5332 - val_loss: 1.7778 - val_accuracy: 0.5700\n",
      "Epoch 30/50\n",
      "1/1 [==============================] - 0s 490ms/step - loss: 1.6622 - accuracy: 0.5310 - val_loss: 1.7604 - val_accuracy: 0.6254\n",
      "Epoch 31/50\n",
      "1/1 [==============================] - 0s 472ms/step - loss: 1.6807 - accuracy: 0.5016 - val_loss: 1.6701 - val_accuracy: 0.6450\n",
      "Epoch 32/50\n",
      "1/1 [==============================] - 0s 469ms/step - loss: 1.5735 - accuracy: 0.5419 - val_loss: 1.6085 - val_accuracy: 0.6612\n",
      "Epoch 33/50\n",
      "1/1 [==============================] - 0s 463ms/step - loss: 1.5392 - accuracy: 0.5647 - val_loss: 1.6092 - val_accuracy: 0.6547\n",
      "Epoch 34/50\n",
      "1/1 [==============================] - 0s 457ms/step - loss: 1.5202 - accuracy: 0.5615 - val_loss: 1.5864 - val_accuracy: 0.6808\n",
      "Epoch 35/50\n",
      "1/1 [==============================] - 0s 480ms/step - loss: 1.4046 - accuracy: 0.5854 - val_loss: 1.5146 - val_accuracy: 0.6906\n",
      "Epoch 36/50\n",
      "1/1 [==============================] - 0s 471ms/step - loss: 1.3368 - accuracy: 0.6387 - val_loss: 1.4859 - val_accuracy: 0.6906\n",
      "Epoch 37/50\n",
      "1/1 [==============================] - 0s 462ms/step - loss: 1.2905 - accuracy: 0.6518 - val_loss: 1.4487 - val_accuracy: 0.6840\n",
      "Epoch 38/50\n",
      "1/1 [==============================] - 1s 534ms/step - loss: 1.2349 - accuracy: 0.6627 - val_loss: 1.4044 - val_accuracy: 0.6906\n",
      "Epoch 39/50\n",
      "1/1 [==============================] - 1s 622ms/step - loss: 1.2139 - accuracy: 0.6485 - val_loss: 1.3645 - val_accuracy: 0.7134\n",
      "Epoch 40/50\n",
      "1/1 [==============================] - 1s 569ms/step - loss: 1.1822 - accuracy: 0.6746 - val_loss: 1.3520 - val_accuracy: 0.7036\n",
      "Epoch 41/50\n",
      "1/1 [==============================] - 0s 474ms/step - loss: 1.1345 - accuracy: 0.6812 - val_loss: 1.3224 - val_accuracy: 0.7068\n",
      "Epoch 42/50\n",
      "1/1 [==============================] - 0s 471ms/step - loss: 1.1184 - accuracy: 0.6877 - val_loss: 1.2848 - val_accuracy: 0.7134\n",
      "Epoch 43/50\n",
      "1/1 [==============================] - 0s 477ms/step - loss: 1.0995 - accuracy: 0.7040 - val_loss: 1.2980 - val_accuracy: 0.7134\n",
      "Epoch 44/50\n",
      "1/1 [==============================] - 0s 472ms/step - loss: 1.0799 - accuracy: 0.7040 - val_loss: 1.2814 - val_accuracy: 0.7134\n",
      "Epoch 45/50\n",
      "1/1 [==============================] - 0s 473ms/step - loss: 0.9856 - accuracy: 0.7323 - val_loss: 1.2504 - val_accuracy: 0.7199\n",
      "Epoch 46/50\n",
      "1/1 [==============================] - 0s 447ms/step - loss: 0.9546 - accuracy: 0.7356 - val_loss: 1.1870 - val_accuracy: 0.7362\n",
      "Epoch 47/50\n",
      "1/1 [==============================] - 1s 603ms/step - loss: 0.9890 - accuracy: 0.7247 - val_loss: 1.2268 - val_accuracy: 0.7296\n",
      "Epoch 48/50\n",
      "1/1 [==============================] - 1s 553ms/step - loss: 0.8718 - accuracy: 0.7552 - val_loss: 1.2356 - val_accuracy: 0.7329\n",
      "Epoch 49/50\n",
      "1/1 [==============================] - 0s 298ms/step - loss: 0.8858 - accuracy: 0.7476 - val_loss: 1.1290 - val_accuracy: 0.7459\n",
      "Epoch 50/50\n",
      "1/1 [==============================] - 0s 299ms/step - loss: 0.8428 - accuracy: 0.7508 - val_loss: 1.0948 - val_accuracy: 0.7427\n"
     ]
    }
   ],
   "source": [
    "ANNclassifier = ANNmodel.fit(X_train.reshape(919,128*1000),\n",
    "                    y_train,\n",
    "                    epochs=50, validation_data=(X_val.reshape(307,128*1000), \n",
    "                    y_val),\n",
    "                    batch_size=919)"
   ]
  },
  {
   "cell_type": "code",
   "execution_count": 8,
   "metadata": {
    "execution": {
     "iopub.execute_input": "2021-02-09T16:43:24.271433Z",
     "iopub.status.busy": "2021-02-09T16:43:24.270601Z",
     "iopub.status.idle": "2021-02-09T16:43:26.131989Z",
     "shell.execute_reply": "2021-02-09T16:43:26.132603Z"
    },
    "papermill": {
     "duration": 1.912587,
     "end_time": "2021-02-09T16:43:26.132791",
     "exception": false,
     "start_time": "2021-02-09T16:43:24.220204",
     "status": "completed"
    },
    "tags": []
   },
   "outputs": [
    {
     "name": "stdout",
     "output_type": "stream",
     "text": [
      "29/29 [==============================] - 0s 10ms/step - loss: 0.4013 - accuracy: 0.9151\n",
      "10/10 [==============================] - 0s 9ms/step - loss: 0.4669 - accuracy: 0.9342\n",
      "TrainLoss: 0.401309, Train accuracy 0.915125, TestLoss: 0.466916, Test Accuracy: 0.934211 \n",
      "Confusion_matrix:  tf.Tensor(\n",
      "[[10  0  0  1  0  0  0  0  0  0  0  0  0  0  0  0  0  0  0  0  1  0  0  0]\n",
      " [ 0 13  0  0  0  0  0  0  0  0  0  0  0  0  0  0  0  0  0  0  0  0  0  0]\n",
      " [ 0  0  9  0  0  0  0  0  0  0  0  0  0  0  0  0  0  0  0  0  0  0  0  0]\n",
      " [ 0  0  0 13  0  0  0  0  0  0  0  0  0  0  0  0  0  0  0  0  0  0  0  0]\n",
      " [ 0  0  0  0 12  0  0  0  0  0  0  0  0  0  0  0  1  0  0  0  0  0  0  0]\n",
      " [ 0  0  0  0  0 11  0  1  0  0  0  0  0  0  0  0  0  0  0  0  0  0  0  0]\n",
      " [ 0  0  0  0  0  0 11  0  0  0  0  0  0  0  0  0  0  0  0  0  0  1  0  0]\n",
      " [ 0  0  0  0  0  0  0 10  0  0  0  0  2  0  0  0  0  0  0  1  0  0  0  0]\n",
      " [ 0  0  0  0  0  0  0  0 12  0  0  0  0  0  0  0  0  0  0  0  0  0  0  0]\n",
      " [ 0  0  0  0  0  0  0  0  0  8  0  0  0  0  0  0  0  0  0  0  0  0  0  0]\n",
      " [ 0  0  0  0  0  0  0  0  0  0 13  0  0  0  0  0  0  0  0  0  0  0  0  0]\n",
      " [ 0  0  0  0  0  0  0  0  0  0  0 12  0  0  0  0  0  0  0  0  0  1  0  0]\n",
      " [ 0  0  0  0  0  0  0  1  0  0  0  0 11  0  0  0  0  0  0  0  0  0  0  0]\n",
      " [ 0  0  0  0  0  0  0  0  0  0  0  0  1 10  0  0  0  0  2  0  0  0  0  0]\n",
      " [ 0  0  0  0  0  0  0  0  0  0  0  0  0  3 10  0  0  0  0  0  0  0  0  0]\n",
      " [ 0  0  0  0  0  0  0  0  0  0  0  0  0  0  0 12  0  0  0  0  0  0  0  0]\n",
      " [ 0  0  0  0  0  0  0  0  0  0  0  0  0  0  0  0 12  0  0  0  0  0  0  0]\n",
      " [ 0  0  0  0  0  0  0  0  0  0  0  0  2  0  0  0  0 15  0  0  0  0  0  0]\n",
      " [ 0  0  0  0  0  0  0  0  0  0  0  0  0  0  0  0  0  0 13  0  0  0  0  0]\n",
      " [ 0  0  0  0  0  0  0  0  0  0  0  0  0  0  0  0  0  0  0 10  0  0  1  0]\n",
      " [ 0  0  0  0  0  0  0  0  0  0  0  0  0  0  0  0  0  0  0  0 10  0  0  0]\n",
      " [ 0  0  0  0  0  0  0  0  0  0  0  0  0  0  0  0  0  0  0  0  0 12  0  0]\n",
      " [ 0  0  0  0  0  0  0  0  0  0  0  0  0  0  0  0  0  0  0  0  0  0 11  0]\n",
      " [ 0  0  0  0  0  0  0  0  0  0  0  0  0  0  0  0  0  0  0  0  1  0  0 24]], shape=(24, 24), dtype=int32)\n"
     ]
    }
   ],
   "source": [
    "TrainLoss, Trainacc = ANNmodel.evaluate(X_train.reshape(919,128*1000),y_train)\n",
    "TestLoss, Testacc = ANNmodel.evaluate(X_test.reshape(304,128*1000), y_test)\n",
    "y_pred=ANNmodel.predict(X_test.reshape(304,128*1000))\n",
    "print('TrainLoss: %f, Train accuracy %f, TestLoss: %f, Test Accuracy: %f ' %(TrainLoss,Trainacc,TestLoss,Testacc))\n",
    "print('Confusion_matrix: ',tf.math.confusion_matrix(y_test, np.argmax(y_pred,axis=1)))"
   ]
  },
  {
   "cell_type": "code",
   "execution_count": 9,
   "metadata": {
    "execution": {
     "iopub.execute_input": "2021-02-09T16:43:26.249816Z",
     "iopub.status.busy": "2021-02-09T16:43:26.248628Z",
     "iopub.status.idle": "2021-02-09T16:43:26.507616Z",
     "shell.execute_reply": "2021-02-09T16:43:26.508021Z"
    },
    "papermill": {
     "duration": 0.327395,
     "end_time": "2021-02-09T16:43:26.508156",
     "exception": false,
     "start_time": "2021-02-09T16:43:26.180761",
     "status": "completed"
    },
    "tags": []
   },
   "outputs": [
    {
     "data": {
      "image/png": "[encoded data removed]",
      "text/plain": [
       "<Figure size 1080x360 with 2 Axes>"
      ]
     },
     "metadata": {
      "needs_background": "light"
     },
     "output_type": "display_data"
    }
   ],
   "source": [
    "history_dict=ANNclassifier.history\n",
    "loss_values=history_dict['loss']\n",
    "acc_values=history_dict['accuracy']\n",
    "val_loss_values = history_dict['val_loss']\n",
    "val_acc_values=history_dict['val_accuracy']\n",
    "epochs=range(1,51)\n",
    "fig,(ax1,ax2)=plt.subplots(1,2,figsize=(15,5))\n",
    "ax1.plot(epochs,loss_values,'bo',label='Training Loss')\n",
    "ax1.plot(epochs,val_loss_values,'orange', label='Validation Loss')\n",
    "ax1.set_title('ANN Training and validation loss')\n",
    "ax1.set_xlabel('Epochs')\n",
    "ax1.set_ylabel('Loss')\n",
    "ax1.legend()\n",
    "ax2.plot(epochs,acc_values,'bo', label='Training accuracy')\n",
    "ax2.plot(epochs,val_acc_values,'orange',label='Validation accuracy')\n",
    "ax2.set_title('ANN Training and validation accuracy')\n",
    "ax2.set_xlabel('Epochs')\n",
    "ax2.set_ylabel('Accuracy')\n",
    "ax2.legend()\n",
    "plt.show()"
   ]
  },
  {
   "cell_type": "code",
   "execution_count": null,
   "metadata": {
    "papermill": {
     "duration": 0.048298,
     "end_time": "2021-02-09T16:43:26.604350",
     "exception": false,
     "start_time": "2021-02-09T16:43:26.556052",
     "status": "completed"
    },
    "tags": []
   },
   "outputs": [],
   "source": []
  }
 ],
 "metadata": {
  "kernelspec": {
   "display_name": "Python 3",
   "language": "python",
   "name": "python3"
  },
  "language_info": {
   "codemirror_mode": {
    "name": "ipython",
    "version": 3
   },
   "file_extension": ".py",
   "mimetype": "text/x-python",
   "name": "python",
   "nbconvert_exporter": "python",
   "pygments_lexer": "ipython3",
   "version": "3.7.9"
  },
  "papermill": {
   "default_parameters": {},
   "duration": 82.623591,
   "end_time": "2021-02-09T16:43:28.891622",
   "environment_variables": {},
   "exception": null,
   "input_path": "__notebook__.ipynb",
   "output_path": "__notebook__.ipynb",
   "parameters": {},
   "start_time": "2021-02-09T16:42:06.268031",
   "version": "2.2.2"
  }
 },
 "nbformat": 4,
 "nbformat_minor": 4
}
