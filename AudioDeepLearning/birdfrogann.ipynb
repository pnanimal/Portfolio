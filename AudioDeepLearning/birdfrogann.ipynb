{
 "cells": [
  {
   "cell_type": "code",
   "execution_count": 1,
   "metadata": {
    "_cell_guid": "b1076dfc-b9ad-4769-8c92-a6c4dae69d19",
    "_uuid": "8f2839f25d086af736a60e9eeb907d3b93b6e0e5",
    "execution": {
     "iopub.execute_input": "2021-02-05T23:12:21.987839Z",
     "iopub.status.busy": "2021-02-05T23:12:21.987069Z",
     "iopub.status.idle": "2021-02-05T23:12:30.901774Z",
     "shell.execute_reply": "2021-02-05T23:12:30.901087Z"
    },
    "papermill": {
     "duration": 8.934427,
     "end_time": "2021-02-05T23:12:30.901978",
     "exception": false,
     "start_time": "2021-02-05T23:12:21.967551",
     "status": "completed"
    },
    "tags": []
   },
   "outputs": [
    {
     "name": "stdout",
     "output_type": "stream",
     "text": [
      "/kaggle/input/birdfrog-eda/test_labels.pkl\n",
      "/kaggle/input/birdfrog-eda/train_features.pkl\n",
      "/kaggle/input/birdfrog-eda/filename-noise.wav\n",
      "/kaggle/input/birdfrog-eda/filename.wav\n",
      "/kaggle/input/birdfrog-eda/__results__.html\n",
      "/kaggle/input/birdfrog-eda/train_labels.pkl\n",
      "/kaggle/input/birdfrog-eda/test_features.pkl\n",
      "/kaggle/input/birdfrog-eda/train_noOS_labels.pkl\n",
      "/kaggle/input/birdfrog-eda/train_noOS_features.pkl\n",
      "/kaggle/input/birdfrog-eda/__notebook__.ipynb\n",
      "/kaggle/input/birdfrog-eda/__output__.json\n",
      "/kaggle/input/birdfrog-eda/custom.css\n",
      "/kaggle/input/birdfrog-eda/__results___files/__results___15_0.png\n",
      "/kaggle/input/birdfrog-eda/__results___files/__results___10_0.png\n",
      "/kaggle/input/birdfrog-eda/__results___files/__results___24_0.png\n",
      "/kaggle/input/birdfrog-eda/__results___files/__results___36_0.png\n",
      "/kaggle/input/birdfrog-eda/__results___files/__results___21_0.png\n",
      "/kaggle/input/birdfrog-eda/__results___files/__results___46_0.png\n",
      "/kaggle/input/birdfrog-eda/__results___files/__results___30_0.png\n",
      "/kaggle/input/birdfrog-eda/__results___files/__results___41_0.png\n",
      "/kaggle/input/birdfrog-eda/__results___files/__results___34_0.png\n",
      "/kaggle/input/birdfrog-eda/__results___files/__results___18_0.png\n",
      "/kaggle/input/birdfrog-eda/__results___files/__results___32_0.png\n",
      "/kaggle/input/birdfrog-eda/__results___files/__results___26_0.png\n",
      "/kaggle/input/birdfrog-eda/__results___files/__results___28_0.png\n"
     ]
    }
   ],
   "source": [
    "import numpy as np # linear algebra\n",
    "import pandas as pd # data processing, CSV file I/O (e.g. pd.read_csv)\n",
    "import os\n",
    "for dirname, _, filenames in os.walk('/kaggle/input'):\n",
    "    for filename in filenames:\n",
    "        print(os.path.join(dirname, filename))\n",
    "import pickle\n",
    "import joblib\n",
    "from sklearn.preprocessing import normalize\n",
    "from sklearn import preprocessing\n",
    "from sklearn.ensemble import RandomForestClassifier \n",
    "from sklearn.metrics import accuracy_score, confusion_matrix, classification_report\n",
    "from sklearn import preprocessing\n",
    "from sklearn.model_selection import train_test_split\n",
    "import tensorflow as tf\n",
    "import tensorflow_datasets as tfds\n",
    "from tensorflow.keras.layers import Dropout,Dense,Input\n",
    "from tensorflow.keras import models, layers\n",
    "from tensorflow.keras.models import Sequential\n",
    "from tensorflow.keras.optimizers import Adam\n",
    "import matplotlib.pyplot as plt"
   ]
  },
  {
   "cell_type": "code",
   "execution_count": 2,
   "metadata": {
    "execution": {
     "iopub.execute_input": "2021-02-05T23:12:30.924210Z",
     "iopub.status.busy": "2021-02-05T23:12:30.923374Z",
     "iopub.status.idle": "2021-02-05T23:13:19.284678Z",
     "shell.execute_reply": "2021-02-05T23:13:19.285441Z"
    },
    "papermill": {
     "duration": 48.375737,
     "end_time": "2021-02-05T23:13:19.286034",
     "exception": false,
     "start_time": "2021-02-05T23:12:30.910297",
     "status": "completed"
    },
    "tags": []
   },
   "outputs": [
    {
     "name": "stdout",
     "output_type": "stream",
     "text": [
      "(1226, 128, 1000, 3) (304, 128, 1000, 3)\n"
     ]
    }
   ],
   "source": [
    "X_train = joblib.load('/kaggle/input/birdfrog-eda/train_features.pkl')\n",
    "X_test = joblib.load('/kaggle/input/birdfrog-eda/test_features.pkl')\n",
    "print(X_train.shape,X_test.shape)"
   ]
  },
  {
   "cell_type": "code",
   "execution_count": 3,
   "metadata": {
    "execution": {
     "iopub.execute_input": "2021-02-05T23:13:19.321786Z",
     "iopub.status.busy": "2021-02-05T23:13:19.320881Z",
     "iopub.status.idle": "2021-02-05T23:13:27.537555Z",
     "shell.execute_reply": "2021-02-05T23:13:27.536735Z"
    },
    "papermill": {
     "duration": 8.239649,
     "end_time": "2021-02-05T23:13:27.537738",
     "exception": false,
     "start_time": "2021-02-05T23:13:19.298089",
     "status": "completed"
    },
    "tags": []
   },
   "outputs": [
    {
     "name": "stdout",
     "output_type": "stream",
     "text": [
      "(919, 128, 1000, 3) (919,) (304, 128, 1000, 3) (304,) (307, 128, 1000, 3) (307,)\n"
     ]
    }
   ],
   "source": [
    "y_train = np.array(joblib.load('/kaggle/input/birdfrog-eda/train_labels.pkl'))\n",
    "y_test = np.array(joblib.load('/kaggle/input/birdfrog-eda/test_labels.pkl'))\n",
    "X_train, X_val, y_train, y_val = train_test_split(X_train, y_train, test_size=0.25, random_state=123)\n",
    "print(X_train.shape, y_train.shape,X_test.shape, y_test.shape,X_val.shape, y_val.shape)"
   ]
  },
  {
   "cell_type": "code",
   "execution_count": 4,
   "metadata": {
    "execution": {
     "iopub.execute_input": "2021-02-05T23:13:27.608128Z",
     "iopub.status.busy": "2021-02-05T23:13:27.571642Z",
     "iopub.status.idle": "2021-02-05T23:13:27.939499Z",
     "shell.execute_reply": "2021-02-05T23:13:27.938640Z"
    },
    "papermill": {
     "duration": 0.389473,
     "end_time": "2021-02-05T23:13:27.939669",
     "exception": false,
     "start_time": "2021-02-05T23:13:27.550196",
     "status": "completed"
    },
    "tags": []
   },
   "outputs": [
    {
     "data": {
      "image/png": "[encoded data removed]",
      "text/plain": [
       "<Figure size 1080x360 with 1 Axes>"
      ]
     },
     "metadata": {
      "needs_background": "light"
     },
     "output_type": "display_data"
    }
   ],
   "source": [
    "unique, counts = np.unique(np.concatenate((y_train,y_val)),return_counts=True)\n",
    "values=dict(zip(unique,counts))\n",
    "fig, ax = plt.subplots(figsize=(15,5))\n",
    "barlist=plt.bar(values.keys(),values.values(), label='Minority samples')\n",
    "plt.xlabel('Species ID', fontsize=17)\n",
    "plt.ylabel('Number of audio recordings', fontsize=17)\n",
    "plt.title('Number of Training Samples with augmentation', fontsize=20)\n",
    "plt.show()"
   ]
  },
  {
   "cell_type": "markdown",
   "metadata": {
    "papermill": {
     "duration": 0.013055,
     "end_time": "2021-02-05T23:13:27.966575",
     "exception": false,
     "start_time": "2021-02-05T23:13:27.953520",
     "status": "completed"
    },
    "tags": []
   },
   "source": [
    "# ANN performs poorly and fails to learn after a few epochs"
   ]
  },
  {
   "cell_type": "code",
   "execution_count": 5,
   "metadata": {
    "execution": {
     "iopub.execute_input": "2021-02-05T23:13:28.007842Z",
     "iopub.status.busy": "2021-02-05T23:13:28.006993Z",
     "iopub.status.idle": "2021-02-05T23:13:29.707054Z",
     "shell.execute_reply": "2021-02-05T23:13:29.707797Z"
    },
    "papermill": {
     "duration": 1.728302,
     "end_time": "2021-02-05T23:13:29.708030",
     "exception": false,
     "start_time": "2021-02-05T23:13:27.979728",
     "status": "completed"
    },
    "tags": []
   },
   "outputs": [
    {
     "name": "stdout",
     "output_type": "stream",
     "text": [
      "Model: \"sequential\"\n",
      "_________________________________________________________________\n",
      "Layer (type)                 Output Shape              Param #   \n",
      "=================================================================\n",
      "dense (Dense)                (None, 256)               98304256  \n",
      "_________________________________________________________________\n",
      "dense_1 (Dense)              (None, 128)               32896     \n",
      "_________________________________________________________________\n",
      "dropout (Dropout)            (None, 128)               0         \n",
      "_________________________________________________________________\n",
      "dense_2 (Dense)              (None, 128)               16512     \n",
      "_________________________________________________________________\n",
      "dense_3 (Dense)              (None, 64)                8256      \n",
      "_________________________________________________________________\n",
      "dropout_1 (Dropout)          (None, 64)                0         \n",
      "_________________________________________________________________\n",
      "dense_4 (Dense)              (None, 64)                4160      \n",
      "_________________________________________________________________\n",
      "dense_5 (Dense)              (None, 32)                2080      \n",
      "_________________________________________________________________\n",
      "dense_6 (Dense)              (None, 16)                528       \n",
      "_________________________________________________________________\n",
      "dropout_2 (Dropout)          (None, 16)                0         \n",
      "_________________________________________________________________\n",
      "dense_7 (Dense)              (None, 24)                408       \n",
      "=================================================================\n",
      "Total params: 98,369,096\n",
      "Trainable params: 98,369,096\n",
      "Non-trainable params: 0\n",
      "_________________________________________________________________\n"
     ]
    }
   ],
   "source": [
    "ANNmodel = Sequential()\n",
    "ANNmodel.add(layers.Dense(256, activation='relu', input_shape=(X_train.reshape(919,128*1000*3).shape[1],)))\n",
    "ANNmodel.add(layers.Dense(128, activation='relu'))\n",
    "ANNmodel.add(layers.Dropout(0.2))\n",
    "ANNmodel.add(layers.Dense(128, activation='relu'))\n",
    "ANNmodel.add(layers.Dense(64, activation='relu'))\n",
    "ANNmodel.add(layers.Dropout(0.2))\n",
    "ANNmodel.add(layers.Dense(64, activation='relu'))\n",
    "ANNmodel.add(layers.Dense(32, activation='relu'))\n",
    "ANNmodel.add(layers.Dense(16, activation='relu'))\n",
    "ANNmodel.add(layers.Dropout(0.2))\n",
    "ANNmodel.add(layers.Dense(24, activation='softmax'))\n",
    "ANNmodel.compile(optimizer='adam',\n",
    "              loss=tf.keras.losses.SparseCategoricalCrossentropy(from_logits=False),\n",
    "              metrics=['accuracy'])\n",
    "ANNmodel.summary()"
   ]
  },
  {
   "cell_type": "code",
   "execution_count": 6,
   "metadata": {
    "execution": {
     "iopub.execute_input": "2021-02-05T23:13:29.750631Z",
     "iopub.status.busy": "2021-02-05T23:13:29.749693Z",
     "iopub.status.idle": "2021-02-05T23:15:54.377172Z",
     "shell.execute_reply": "2021-02-05T23:15:54.376270Z"
    },
    "papermill": {
     "duration": 144.651953,
     "end_time": "2021-02-05T23:15:54.377347",
     "exception": false,
     "start_time": "2021-02-05T23:13:29.725394",
     "status": "completed"
    },
    "tags": []
   },
   "outputs": [
    {
     "name": "stdout",
     "output_type": "stream",
     "text": [
      "Epoch 1/30\n",
      "1/1 [==============================] - 8s 8s/step - loss: 4.4416 - accuracy: 0.0403 - val_loss: 22.7999 - val_accuracy: 0.0358\n",
      "Epoch 2/30\n",
      "1/1 [==============================] - 4s 4s/step - loss: 32.3095 - accuracy: 0.0522 - val_loss: 13.1824 - val_accuracy: 0.0293\n",
      "Epoch 3/30\n",
      "1/1 [==============================] - 5s 5s/step - loss: 20.8580 - accuracy: 0.0566 - val_loss: 11.2498 - val_accuracy: 0.1075\n",
      "Epoch 4/30\n",
      "1/1 [==============================] - 5s 5s/step - loss: 18.2914 - accuracy: 0.0653 - val_loss: 5.1111 - val_accuracy: 0.0619\n",
      "Epoch 5/30\n",
      "1/1 [==============================] - 5s 5s/step - loss: 12.5650 - accuracy: 0.0588 - val_loss: 5.2688 - val_accuracy: 0.0586\n",
      "Epoch 6/30\n",
      "1/1 [==============================] - 5s 5s/step - loss: 10.3389 - accuracy: 0.0424 - val_loss: 4.1815 - val_accuracy: 0.0456\n",
      "Epoch 7/30\n",
      "1/1 [==============================] - 5s 5s/step - loss: 7.9501 - accuracy: 0.0598 - val_loss: 3.5592 - val_accuracy: 0.0717\n",
      "Epoch 8/30\n",
      "1/1 [==============================] - 5s 5s/step - loss: 6.7734 - accuracy: 0.0533 - val_loss: 3.4467 - val_accuracy: 0.0651\n",
      "Epoch 9/30\n",
      "1/1 [==============================] - 5s 5s/step - loss: 5.7871 - accuracy: 0.0479 - val_loss: 3.6116 - val_accuracy: 0.0945\n",
      "Epoch 10/30\n",
      "1/1 [==============================] - 5s 5s/step - loss: 5.3559 - accuracy: 0.0729 - val_loss: 3.4177 - val_accuracy: 0.0977\n",
      "Epoch 11/30\n",
      "1/1 [==============================] - 5s 5s/step - loss: 5.2181 - accuracy: 0.0598 - val_loss: 3.1186 - val_accuracy: 0.1075\n",
      "Epoch 12/30\n",
      "1/1 [==============================] - 4s 4s/step - loss: 4.6530 - accuracy: 0.0696 - val_loss: 3.1281 - val_accuracy: 0.0782\n",
      "Epoch 13/30\n",
      "1/1 [==============================] - 5s 5s/step - loss: 4.2903 - accuracy: 0.0555 - val_loss: 3.0532 - val_accuracy: 0.1140\n",
      "Epoch 14/30\n",
      "1/1 [==============================] - 5s 5s/step - loss: 4.0623 - accuracy: 0.0609 - val_loss: 2.9807 - val_accuracy: 0.0912\n",
      "Epoch 15/30\n",
      "1/1 [==============================] - 5s 5s/step - loss: 3.8159 - accuracy: 0.0620 - val_loss: 2.9627 - val_accuracy: 0.0684\n",
      "Epoch 16/30\n",
      "1/1 [==============================] - 5s 5s/step - loss: 3.6208 - accuracy: 0.0566 - val_loss: 2.9863 - val_accuracy: 0.0912\n",
      "Epoch 17/30\n",
      "1/1 [==============================] - 5s 5s/step - loss: 3.4872 - accuracy: 0.0588 - val_loss: 3.0222 - val_accuracy: 0.0717\n",
      "Epoch 18/30\n",
      "1/1 [==============================] - 5s 5s/step - loss: 3.4897 - accuracy: 0.0598 - val_loss: 3.0025 - val_accuracy: 0.1173\n",
      "Epoch 19/30\n",
      "1/1 [==============================] - 4s 4s/step - loss: 3.3608 - accuracy: 0.0511 - val_loss: 2.9725 - val_accuracy: 0.1270\n",
      "Epoch 20/30\n",
      "1/1 [==============================] - 5s 5s/step - loss: 3.2747 - accuracy: 0.0696 - val_loss: 3.0063 - val_accuracy: 0.1205\n",
      "Epoch 21/30\n",
      "1/1 [==============================] - 5s 5s/step - loss: 3.2573 - accuracy: 0.0598 - val_loss: 3.0762 - val_accuracy: 0.1336\n",
      "Epoch 22/30\n",
      "1/1 [==============================] - 5s 5s/step - loss: 3.1892 - accuracy: 0.0664 - val_loss: 3.0969 - val_accuracy: 0.1010\n",
      "Epoch 23/30\n",
      "1/1 [==============================] - 5s 5s/step - loss: 3.1711 - accuracy: 0.0675 - val_loss: 3.1004 - val_accuracy: 0.0912\n",
      "Epoch 24/30\n",
      "1/1 [==============================] - 5s 5s/step - loss: 3.1828 - accuracy: 0.0555 - val_loss: 3.0848 - val_accuracy: 0.0879\n",
      "Epoch 25/30\n",
      "1/1 [==============================] - 5s 5s/step - loss: 3.1686 - accuracy: 0.0533 - val_loss: 3.0779 - val_accuracy: 0.0586\n",
      "Epoch 26/30\n",
      "1/1 [==============================] - 5s 5s/step - loss: 3.1675 - accuracy: 0.0511 - val_loss: 3.0819 - val_accuracy: 0.0358\n",
      "Epoch 27/30\n",
      "1/1 [==============================] - 5s 5s/step - loss: 3.1322 - accuracy: 0.0403 - val_loss: 3.0731 - val_accuracy: 0.0456\n",
      "Epoch 28/30\n",
      "1/1 [==============================] - 5s 5s/step - loss: 3.1490 - accuracy: 0.0566 - val_loss: 3.0600 - val_accuracy: 0.0586\n",
      "Epoch 29/30\n",
      "1/1 [==============================] - 4s 4s/step - loss: 3.1228 - accuracy: 0.0522 - val_loss: 3.0186 - val_accuracy: 0.0684\n",
      "Epoch 30/30\n",
      "1/1 [==============================] - 5s 5s/step - loss: 3.0925 - accuracy: 0.0675 - val_loss: 2.9702 - val_accuracy: 0.1270\n"
     ]
    }
   ],
   "source": [
    "ANNclassifier = ANNmodel.fit(X_train.reshape(919,128*1000*3),\n",
    "                    y_train,\n",
    "                    epochs=30, validation_data=(X_val.reshape(307,128*1000*3), \n",
    "                    y_val),\n",
    "                    batch_size=919)"
   ]
  },
  {
   "cell_type": "code",
   "execution_count": 7,
   "metadata": {
    "execution": {
     "iopub.execute_input": "2021-02-05T23:15:54.465089Z",
     "iopub.status.busy": "2021-02-05T23:15:54.464443Z",
     "iopub.status.idle": "2021-02-05T23:16:00.669597Z",
     "shell.execute_reply": "2021-02-05T23:16:00.670282Z"
    },
    "papermill": {
     "duration": 6.2544,
     "end_time": "2021-02-05T23:16:00.670528",
     "exception": false,
     "start_time": "2021-02-05T23:15:54.416128",
     "status": "completed"
    },
    "tags": []
   },
   "outputs": [
    {
     "name": "stdout",
     "output_type": "stream",
     "text": [
      "29/29 [==============================] - 2s 84ms/step - loss: 3.0074 - accuracy: 0.0849\n",
      "10/10 [==============================] - 1s 78ms/step - loss: 3.0056 - accuracy: 0.1151\n",
      "TrainLoss: 3.007392, Train accuracy 0.084875, TestLoss: 3.005581, Test Accuracy: 0.115132 \n",
      "Confusion_matrix:  tf.Tensor(\n",
      "[[ 0  5  0  2  0  0  0  0  2  0  0  0  0  0  0  0  0  0  0  0  1  2  0  0]\n",
      " [ 0  2  1  0  0  0  0  0  8  0  0  0  0  0  0  1  0  0  0  0  0  1  0  0]\n",
      " [ 0  0  0  4  0  0  0  0  1  0  0  0  0  0  1  3  0  0  0  0  0  0  0  0]\n",
      " [ 0  4  0  5  0  0  0  0  0  0  0  0  0  0  0  3  0  0  0  0  0  1  0  0]\n",
      " [ 0  0  0  2  0  0  0  0  6  0  0  0  0  0  0  2  0  0  0  0  3  0  0  0]\n",
      " [ 0  0  0  9  0  0  0  0  0  0  0  0  3  0  0  0  0  0  0  0  0  0  0  0]\n",
      " [ 0  0  0  3  0  0  0  0  1  0  0  0  0  0  0  4  0  0  0  3  0  1  0  0]\n",
      " [ 0  0  0  0  0  0  0  1  0  0  0  0 12  0  0  0  0  0  0  0  0  0  0  0]\n",
      " [ 0  0  0  0  0  0  0  0  8  0  0  0  0  0  0  0  2  2  0  0  0  0  0  0]\n",
      " [ 0  0  0  2  0  0  0  0  0  0  0  0  6  0  0  0  0  0  0  0  0  0  0  0]\n",
      " [ 0  0  0 13  0  0  0  0  0  0  0  0  0  0  0  0  0  0  0  0  0  0  0  0]\n",
      " [ 0  0  0  0  0  0  0  0  1  0  0  0  0  0  0  0  0  0  0  0 12  0  0  0]\n",
      " [ 0  0  0  9  0  0  0  1  0  0  0  0  2  0  0  0  0  0  0  0  0  0  0  0]\n",
      " [ 0  0  0  7  0  0  0  1  0  0  0  0  0  0  0  2  0  0  3  0  0  0  0  0]\n",
      " [ 0  2  0  5  0  0  0  0  1  0  0  0  0  0  0  0  0  0  4  0  0  1  0  0]\n",
      " [ 0  0  0  2  0  0  0  2  0  0  0  0  8  0  0  0  0  0  0  0  0  0  0  0]\n",
      " [ 0  0  1  0  0  0  0  0  0  0  0  0  0  0  4  0  0  0  0  1  6  0  0  0]\n",
      " [ 0  0  0  5  0  0  0  1  0  0  0  0  1  0  0  0  6  1  0  3  0  0  0  0]\n",
      " [ 0  4  0  2  0  0  0  2  0  0  0  0  0  0  0  0  1  0  4  0  0  0  0  0]\n",
      " [ 0  0  0  2  0  0  0  0  1  0  0  0  0  0  0  4  0  0  0  0  3  1  0  0]\n",
      " [ 0  0  0  0  0  0  0  1  0  0  0  0  3  0  0  0  0  5  0  1  0  0  0  0]\n",
      " [ 0  0  0  0  0  0  0  0 11  0  0  0  0  0  0  1  0  0  0  0  0  0  0  0]\n",
      " [ 0  0  0  4  0  0  0  0  4  0  0  0  0  0  0  2  0  0  0  0  0  1  0  0]\n",
      " [ 0  0  0  0  0  0  0  0  0  9  0  0  4  0  0  0  0  0  0  0  0  0  0 12]], shape=(24, 24), dtype=int32)\n"
     ]
    }
   ],
   "source": [
    "TrainLoss, Trainacc = ANNmodel.evaluate(X_train.reshape(919,128*3000),y_train)\n",
    "TestLoss, Testacc = ANNmodel.evaluate(X_test.reshape(304,128*3000), y_test)\n",
    "y_pred=ANNmodel.predict(X_test.reshape(304,128*3000))\n",
    "print('TrainLoss: %f, Train accuracy %f, TestLoss: %f, Test Accuracy: %f ' %(TrainLoss,Trainacc,TestLoss,Testacc))\n",
    "print('Confusion_matrix: ',tf.math.confusion_matrix(y_test, np.argmax(y_pred,axis=1)))"
   ]
  },
  {
   "cell_type": "code",
   "execution_count": 8,
   "metadata": {
    "execution": {
     "iopub.execute_input": "2021-02-05T23:16:00.868082Z",
     "iopub.status.busy": "2021-02-05T23:16:00.841806Z",
     "iopub.status.idle": "2021-02-05T23:16:01.292061Z",
     "shell.execute_reply": "2021-02-05T23:16:01.292791Z"
    },
    "papermill": {
     "duration": 0.541739,
     "end_time": "2021-02-05T23:16:01.293003",
     "exception": false,
     "start_time": "2021-02-05T23:16:00.751264",
     "status": "completed"
    },
    "tags": []
   },
   "outputs": [
    {
     "data": {
      "image/png": "[encoded data removed]",
      "text/plain": [
       "<Figure size 1080x360 with 2 Axes>"
      ]
     },
     "metadata": {
      "needs_background": "light"
     },
     "output_type": "display_data"
    }
   ],
   "source": [
    "history_dict=ANNclassifier.history\n",
    "loss_values=history_dict['loss']\n",
    "acc_values=history_dict['accuracy']\n",
    "val_loss_values = history_dict['val_loss']\n",
    "val_acc_values=history_dict['val_accuracy']\n",
    "epochs=range(1,31)\n",
    "fig,(ax1,ax2)=plt.subplots(1,2,figsize=(15,5))\n",
    "ax1.plot(epochs,loss_values,'bo',label='Training Loss')\n",
    "ax1.plot(epochs,val_loss_values,'orange', label='Validation Loss')\n",
    "ax1.set_title('ANN Training and validation loss')\n",
    "ax1.set_xlabel('Epochs')\n",
    "ax1.set_ylabel('Loss')\n",
    "ax1.legend()\n",
    "ax2.plot(epochs,acc_values,'bo', label='Training accuracy')\n",
    "ax2.plot(epochs,val_acc_values,'orange',label='Validation accuracy')\n",
    "ax2.set_title('ANN Training and validation accuracy')\n",
    "ax2.set_xlabel('Epochs')\n",
    "ax2.set_ylabel('Accuracy')\n",
    "ax2.legend()\n",
    "plt.show()"
   ]
  }
 ],
 "metadata": {
  "kernelspec": {
   "display_name": "Python 3",
   "language": "python",
   "name": "python3"
  },
  "language_info": {
   "codemirror_mode": {
    "name": "ipython",
    "version": 3
   },
   "file_extension": ".py",
   "mimetype": "text/x-python",
   "name": "python",
   "nbconvert_exporter": "python",
   "pygments_lexer": "ipython3",
   "version": "3.7.9"
  },
  "papermill": {
   "default_parameters": {},
   "duration": 230.124358,
   "end_time": "2021-02-05T23:16:04.458854",
   "environment_variables": {},
   "exception": null,
   "input_path": "__notebook__.ipynb",
   "output_path": "__notebook__.ipynb",
   "parameters": {},
   "start_time": "2021-02-05T23:12:14.334496",
   "version": "2.2.2"
  }
 },
 "nbformat": 4,
 "nbformat_minor": 4
}
